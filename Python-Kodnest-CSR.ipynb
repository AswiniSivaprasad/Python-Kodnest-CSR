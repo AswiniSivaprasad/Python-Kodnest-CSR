{
 "cells": [
  {
   "cell_type": "code",
   "execution_count": 1,
   "id": "74dc80dc",
   "metadata": {},
   "outputs": [
    {
     "name": "stdout",
     "output_type": "stream",
     "text": [
      "Welcome to Kodnest!\n"
     ]
    }
   ],
   "source": [
    "print(\"Welcome to Kodnest!\")"
   ]
  },
  {
   "cell_type": "code",
   "execution_count": 1,
   "id": "8027b483",
   "metadata": {},
   "outputs": [
    {
     "name": "stdout",
     "output_type": "stream",
     "text": [
      "Python class \n",
      "Deeptanshu\n"
     ]
    }
   ],
   "source": [
    "#The slash n (\\n) is used for moveing the cursor and printing in next Line\n",
    "print(\"Python class \\nDeeptanshu\")"
   ]
  },
  {
   "cell_type": "code",
   "execution_count": 3,
   "id": "91001a47",
   "metadata": {},
   "outputs": [
    {
     "name": "stdout",
     "output_type": "stream",
     "text": [
      "Smile is the most beautiful ornament\t - Aswini Sivaprasad\n"
     ]
    }
   ],
   "source": [
    "#The slash t (\\t) is used for adding a new tab space\n",
    "print(\"Smile is the most beautiful ornament\\t - Aswini Sivaprasad\")"
   ]
  },
  {
   "cell_type": "code",
   "execution_count": 4,
   "id": "4bc291b3",
   "metadata": {},
   "outputs": [],
   "source": [
    "VARIABLES IN PYTHON"
   ]
  },
  {
   "cell_type": "code",
   "execution_count": 5,
   "id": "727b94f1",
   "metadata": {},
   "outputs": [
    {
     "name": "stdout",
     "output_type": "stream",
     "text": [
      "22\n"
     ]
    }
   ],
   "source": [
    "age=22\n",
    "print(age)"
   ]
  },
  {
   "cell_type": "code",
   "execution_count": 6,
   "id": "630b2c54",
   "metadata": {},
   "outputs": [
    {
     "name": "stdout",
     "output_type": "stream",
     "text": [
      "Aswini\n"
     ]
    }
   ],
   "source": [
    "name='Aswini'\n",
    "print(name)"
   ]
  },
  {
   "cell_type": "code",
   "execution_count": 7,
   "id": "ff35fccb",
   "metadata": {},
   "outputs": [
    {
     "name": "stdout",
     "output_type": "stream",
     "text": [
      "22\n"
     ]
    }
   ],
   "source": [
    "x=10\n",
    "y=12\n",
    "print(x+y)"
   ]
  },
  {
   "cell_type": "code",
   "execution_count": 8,
   "id": "5a2612e8",
   "metadata": {},
   "outputs": [
    {
     "name": "stdout",
     "output_type": "stream",
     "text": [
      "23\n"
     ]
    }
   ],
   "source": [
    "a = 10+13\n",
    "print(a)"
   ]
  },
  {
   "cell_type": "code",
   "execution_count": 9,
   "id": "c82a5a9b",
   "metadata": {},
   "outputs": [
    {
     "name": "stdout",
     "output_type": "stream",
     "text": [
      "Initial score:  10\n",
      "Updated score:  85\n"
     ]
    }
   ],
   "source": [
    "score=10\n",
    "print(\"Initial score: \",score)\n",
    "score+=75\n",
    "print(\"Updated score: \",score)"
   ]
  },
  {
   "cell_type": "code",
   "execution_count": 10,
   "id": "e9d3e3c7",
   "metadata": {},
   "outputs": [
    {
     "name": "stdout",
     "output_type": "stream",
     "text": [
      "The area is:  50\n"
     ]
    }
   ],
   "source": [
    "width=5\n",
    "height=10\n",
    "area=width*height\n",
    "print(\"The area is: \",area)"
   ]
  },
  {
   "cell_type": "code",
   "execution_count": 11,
   "id": "7cbda735",
   "metadata": {},
   "outputs": [
    {
     "name": "stdout",
     "output_type": "stream",
     "text": [
      "Hello my name is Aswini and I am 22 years old\n",
      "My name is Aswini and I am 22 years old\n"
     ]
    }
   ],
   "source": [
    "name='Aswini'\n",
    "age=22\n",
    "print(\"Hello my name is \"+name+\" and I am \"+str(age)+\" years old\")\n",
    "#OR\n",
    "print(\"My name is\",name,\"and I am\",age,\"years old\")"
   ]
  },
  {
   "cell_type": "code",
   "execution_count": 12,
   "id": "a1b15e3b",
   "metadata": {},
   "outputs": [
    {
     "name": "stdout",
     "output_type": "stream",
     "text": [
      "10\n",
      "Aswini\n"
     ]
    }
   ],
   "source": [
    "#Python automatically determines the type of the variable this is called Dynamic Typing\n",
    "x=10         #Integer\n",
    "print(x)\n",
    "x='Aswini'   #String\n",
    "print(x)"
   ]
  },
  {
   "cell_type": "code",
   "execution_count": 13,
   "id": "ae18abdb",
   "metadata": {},
   "outputs": [
    {
     "name": "stdout",
     "output_type": "stream",
     "text": [
      "Roll Number: 192011399\n",
      "Name: Aswini Ponaganti\n",
      "Stream: Computer Science\n",
      "CGPA 8.787\n"
     ]
    }
   ],
   "source": [
    "roll=192011399\n",
    "name='Aswini Ponaganti'\n",
    "stream='Computer Science'\n",
    "cgpa=8.787\n",
    "print(\"Roll Number:\",roll)\n",
    "print(\"Name:\",name)\n",
    "print(\"Stream:\",stream)\n",
    "print(\"CGPA\",cgpa)"
   ]
  },
  {
   "cell_type": "code",
   "execution_count": 14,
   "id": "88e1d354",
   "metadata": {},
   "outputs": [],
   "source": [
    "DATA TYPES IN PYTHON : A data type is a category that tells python what kind of value is being stored."
   ]
  },
  {
   "cell_type": "code",
   "execution_count": 15,
   "id": "0804f810",
   "metadata": {},
   "outputs": [
    {
     "name": "stdout",
     "output_type": "stream",
     "text": [
      "22\n",
      "<class 'int'>\n"
     ]
    }
   ],
   "source": [
    "#Integer\n",
    "age=22\n",
    "print(age)\n",
    "print(type(age))"
   ]
  },
  {
   "cell_type": "code",
   "execution_count": 16,
   "id": "4a4990d9",
   "metadata": {},
   "outputs": [
    {
     "name": "stdout",
     "output_type": "stream",
     "text": [
      "3.14\n",
      "<class 'float'>\n"
     ]
    }
   ],
   "source": [
    "#Float\n",
    "pi=3.14\n",
    "print(pi)\n",
    "print(type(pi))"
   ]
  },
  {
   "cell_type": "code",
   "execution_count": 17,
   "id": "73a57638",
   "metadata": {},
   "outputs": [
    {
     "name": "stdout",
     "output_type": "stream",
     "text": [
      "Aswini Sivaprasad\n",
      "<class 'str'>\n"
     ]
    }
   ],
   "source": [
    "#String\n",
    "name='Aswini Sivaprasad'\n",
    "print(name)\n",
    "print(type(name))"
   ]
  },
  {
   "cell_type": "code",
   "execution_count": 18,
   "id": "c6e7d833",
   "metadata": {},
   "outputs": [
    {
     "name": "stdout",
     "output_type": "stream",
     "text": [
      "True\n",
      "<class 'bool'>\n",
      "False\n",
      "<class 'bool'>\n"
     ]
    }
   ],
   "source": [
    "is_active=True\n",
    "is_done=False\n",
    "print(is_active)\n",
    "print(type(is_active))\n",
    "print(is_done)\n",
    "print(type(is_done))"
   ]
  },
  {
   "cell_type": "code",
   "execution_count": 19,
   "id": "40cb145e",
   "metadata": {},
   "outputs": [
    {
     "name": "stdout",
     "output_type": "stream",
     "text": [
      "Enter num1: 5\n",
      "Enter num2: 2\n",
      "The sum of 5 and 2 is: 7\n"
     ]
    }
   ],
   "source": [
    "num1 = int(input('Enter num1: '))\n",
    "num2 = int(input('Enter num2: '))\n",
    "sum_result = num1 + num2\n",
    "print(\"The sum of\",num1,\"and\",num2,\"is:\",sum_result)"
   ]
  },
  {
   "cell_type": "code",
   "execution_count": 20,
   "id": "e85b5c4d",
   "metadata": {},
   "outputs": [
    {
     "name": "stdout",
     "output_type": "stream",
     "text": [
      "Enter num1: 9\n",
      "Enter num2: 2\n",
      "The difference between 9 and 2 is: 7\n"
     ]
    }
   ],
   "source": [
    "num1 = int(input('Enter num1: '))\n",
    "num2 = int(input('Enter num2: '))\n",
    "difference_result = num1 - num2\n",
    "print(\"The difference between\",num1,\"and\",num2,\"is:\",difference_result)"
   ]
  },
  {
   "cell_type": "code",
   "execution_count": 21,
   "id": "4f74072d",
   "metadata": {},
   "outputs": [
    {
     "name": "stdout",
     "output_type": "stream",
     "text": [
      "Enter num1: 24\n",
      "Enter num2: 12\n",
      "The sum of 24 and 12 is:  36\n",
      "The difference between 24 and 12 is:  12\n",
      "The product of 24 and 12 is:  288\n",
      "The quotient when 24 is divided by 12 is:  2.0\n"
     ]
    }
   ],
   "source": [
    "num1 = int(input('Enter num1: '))\n",
    "num2 = int(input('Enter num2: '))\n",
    "sum = num1 + num2\n",
    "difference = num1 - num2\n",
    "product = num1 * num2\n",
    "quotient = num1 / num2\n",
    "print(\"The sum of\",num1,\"and\",num2,\"is: \",sum)\n",
    "print(\"The difference between\",num1,\"and\",num2,\"is: \",difference)\n",
    "print(\"The product of\",num1,\"and\",num2,\"is: \",product)\n",
    "print(\"The quotient when\",num1,\"is divided by\",num2,\"is: \",quotient)"
   ]
  },
  {
   "cell_type": "code",
   "execution_count": 22,
   "id": "f920bca9",
   "metadata": {},
   "outputs": [
    {
     "name": "stdout",
     "output_type": "stream",
     "text": [
      "Enter length: 7.5\n",
      "Enter width: 3.2\n",
      "The area of the rectangle with length 7.5 and width 3.2 is:  24.0\n",
      "The perimeter of the rectangle with length 7.5 and width 3.2 is:  21.4\n"
     ]
    }
   ],
   "source": [
    "length = float(input('Enter length: '))\n",
    "width = float(input('Enter width: '))\n",
    "area = length * width\n",
    "perimeter = 2*(length + width)\n",
    "print(\"The area of the rectangle with length\",length,\"and width\",width,\"is: \",area)\n",
    "print(\"The perimeter of the rectangle with length\",length,\"and width\",width,\"is: \",perimeter)"
   ]
  },
  {
   "cell_type": "code",
   "execution_count": 34,
   "id": "6ec1aa8f",
   "metadata": {},
   "outputs": [
    {
     "name": "stdout",
     "output_type": "stream",
     "text": [
      "Enter price1: 49.99\n",
      "Enter price2: 79.50\n",
      "Enter price3: 120.75\n",
      "The total price of the items is: 250.24\n",
      "The average price of the items is: 83.41\n"
     ]
    }
   ],
   "source": [
    "price1 = float(input('Enter price1: '))\n",
    "price2 = float(input('Enter price2: '))\n",
    "price3 = float(input('Enter price3: '))\n",
    "total = price1 + price2 + price3\n",
    "avg = round((total/3), 2)\n",
    "print(\"The total price of the items is:\",total)\n",
    "print(\"The average price of the items is:\",avg)"
   ]
  },
  {
   "cell_type": "code",
   "execution_count": 37,
   "id": "24753bb6",
   "metadata": {},
   "outputs": [
    {
     "name": "stdout",
     "output_type": "stream",
     "text": [
      "Enter temperature in celsius: 36.6\n",
      "The temperature 36.6 deg C is equivalent to 97.88 deg F\n"
     ]
    }
   ],
   "source": [
    "celsius = float(input('Enter temperature in celsius: '))\n",
    "fahrenheit = round((celsius * 9/5) + 32, 2)\n",
    "print(\"The temperature\",celsius,\"deg C is equivalent to\",fahrenheit,\"deg F\")"
   ]
  },
  {
   "cell_type": "code",
   "execution_count": 39,
   "id": "71dc9ab5",
   "metadata": {},
   "outputs": [],
   "source": [
    "STRINGS IN PYTHON : A String in Python is a sequence of characters put together to represent text."
   ]
  },
  {
   "cell_type": "code",
   "execution_count": 42,
   "id": "6f1a168d",
   "metadata": {},
   "outputs": [
    {
     "name": "stdout",
     "output_type": "stream",
     "text": [
      "Alice\n",
      "Hello, world!\n",
      "Welcome to Python programming!\n",
      "Hello, Python!\n"
     ]
    }
   ],
   "source": [
    "name = \"Alice\"\n",
    "quote = 'Hello, world!'\n",
    "message = \"Welcome to Python programming!\"\n",
    "print(name)\n",
    "print(quote)\n",
    "print(message)\n",
    "print(\"Hello, Python!\")"
   ]
  },
  {
   "cell_type": "code",
   "execution_count": 43,
   "id": "1e730f0d",
   "metadata": {},
   "outputs": [
    {
     "name": "stdout",
     "output_type": "stream",
     "text": [
      "Hello, Alice\n"
     ]
    }
   ],
   "source": [
    "#Combining Strings\n",
    "greeting = \"Hello, \"\n",
    "name = \"Alice\"\n",
    "combined_message = greeting + name\n",
    "print(combined_message)"
   ]
  },
  {
   "cell_type": "code",
   "execution_count": 46,
   "id": "3cf9a387",
   "metadata": {},
   "outputs": [
    {
     "name": "stdout",
     "output_type": "stream",
     "text": [
      "\n",
      "Hello, everyone!\n",
      "Welcome to the world of Python.\n",
      "Let's learn together!\n",
      "\n"
     ]
    }
   ],
   "source": [
    "#Multiline Strings\n",
    "multiline_message = \"\"\"\n",
    "Hello, everyone!\n",
    "Welcome to the world of Python.\n",
    "Let's learn together!\n",
    "\"\"\"\n",
    "print(multiline_message)"
   ]
  },
  {
   "cell_type": "code",
   "execution_count": null,
   "id": "a217fa7f",
   "metadata": {},
   "outputs": [],
   "source": [
    "STRING OPERATIONS"
   ]
  },
  {
   "cell_type": "code",
   "execution_count": 47,
   "id": "17f1a212",
   "metadata": {},
   "outputs": [
    {
     "name": "stdout",
     "output_type": "stream",
     "text": [
      "P\n",
      "h\n",
      "n\n"
     ]
    }
   ],
   "source": [
    "word = \"Python\"\n",
    "print(word[0])\n",
    "print(word[3])\n",
    "print(word[-1])"
   ]
  },
  {
   "cell_type": "code",
   "execution_count": 2,
   "id": "37bd7908",
   "metadata": {},
   "outputs": [
    {
     "name": "stdout",
     "output_type": "stream",
     "text": [
      "Hello\n",
      "Python\n",
      "Hello\n",
      "Python!\n"
     ]
    }
   ],
   "source": [
    "#Slicing Strings : Slicing is the process of extracting parts of a string.\n",
    "phrase = \"Hello, Python!\"\n",
    "print(phrase[0:5])\n",
    "print(phrase[7:13])\n",
    "print(phrase[:5])\n",
    "print(phrase[7:])"
   ]
  },
  {
   "cell_type": "code",
   "execution_count": 3,
   "id": "d603f301",
   "metadata": {},
   "outputs": [
    {
     "name": "stdout",
     "output_type": "stream",
     "text": [
      "18\n"
     ]
    }
   ],
   "source": [
    "#Length of a String\n",
    "message = \"Welcome to Python!\"\n",
    "print(len(message))"
   ]
  },
  {
   "cell_type": "code",
   "execution_count": 4,
   "id": "e5fc0b82",
   "metadata": {},
   "outputs": [
    {
     "name": "stdout",
     "output_type": "stream",
     "text": [
      "HELLO, WORLD!\n",
      "hello, world!\n"
     ]
    }
   ],
   "source": [
    "#Changing the case of Strings\n",
    "greeting = \"Hello, world!\"\n",
    "print(greeting.upper())\n",
    "print(greeting.lower())"
   ]
  },
  {
   "cell_type": "code",
   "execution_count": 5,
   "id": "11b45d92",
   "metadata": {},
   "outputs": [
    {
     "name": "stdout",
     "output_type": "stream",
     "text": [
      "9\n",
      "True\n"
     ]
    }
   ],
   "source": [
    "#Substrings in a String\n",
    "text = \"Learning Python is fun!\"\n",
    "print(text.find(\"Python\"))\n",
    "print(\"fun\" in text)"
   ]
  },
  {
   "cell_type": "code",
   "execution_count": 6,
   "id": "8eb4f52c",
   "metadata": {},
   "outputs": [
    {
     "name": "stdout",
     "output_type": "stream",
     "text": [
      "I like Python.\n"
     ]
    }
   ],
   "source": [
    "#Replacing parts of a string\n",
    "sentence = \"I like Java.\"\n",
    "new_sentence = sentence.replace(\"Java\", \"Python\")\n",
    "print(new_sentence)"
   ]
  },
  {
   "cell_type": "code",
   "execution_count": 9,
   "id": "421aa000",
   "metadata": {},
   "outputs": [
    {
     "name": "stdout",
     "output_type": "stream",
     "text": [
      "['apple', ' banana', ' cherry']\n",
      "apple -  banana -  cherry\n"
     ]
    }
   ],
   "source": [
    "#Splitting and joining Strings\n",
    "text = \"apple, banana, cherry\"\n",
    "fruits = text.split(\",\")\n",
    "print(fruits)\n",
    "\n",
    "joined_text = \" - \".join(fruits)\n",
    "print(joined_text)"
   ]
  },
  {
   "cell_type": "code",
   "execution_count": 10,
   "id": "fcc01e73",
   "metadata": {},
   "outputs": [
    {
     "name": "stdout",
     "output_type": "stream",
     "text": [
      "PYTHON PROGRAMMING IS INTRESTING\n"
     ]
    }
   ],
   "source": [
    "message = 'python programming is intresting'\n",
    "print(message.upper())"
   ]
  },
  {
   "cell_type": "code",
   "execution_count": 14,
   "id": "fceb57db",
   "metadata": {},
   "outputs": [
    {
     "name": "stdout",
     "output_type": "stream",
     "text": [
      "Python is amazing!\n"
     ]
    }
   ],
   "source": [
    "#strip() to remove extra spaces\n",
    "message = '   Python is amazing!'\n",
    "print(message.strip())"
   ]
  },
  {
   "cell_type": "code",
   "execution_count": 20,
   "id": "51f3e294",
   "metadata": {},
   "outputs": [
    {
     "name": "stdout",
     "output_type": "stream",
     "text": [
      "The word 'amazing' starts at position: 13\n"
     ]
    }
   ],
   "source": [
    "message = 'Python is an amazing programming language'\n",
    "print(\"The word 'amazing' starts at position:\",message.find('amazing'))"
   ]
  },
  {
   "cell_type": "code",
   "execution_count": 22,
   "id": "c5f4f6db",
   "metadata": {},
   "outputs": [
    {
     "name": "stdout",
     "output_type": "stream",
     "text": [
      "Hello World\n"
     ]
    }
   ],
   "source": [
    "str1 = 'Hello'\n",
    "str2 = 'World'\n",
    "print(str1+\" \"+str2)"
   ]
  },
  {
   "cell_type": "code",
   "execution_count": 24,
   "id": "f7fda703",
   "metadata": {},
   "outputs": [
    {
     "name": "stdout",
     "output_type": "stream",
     "text": [
      "The length of the message is: 23\n"
     ]
    }
   ],
   "source": [
    "message = 'Learning Python is fun!'\n",
    "print(\"The length of the message is:\",len(message))"
   ]
  },
  {
   "cell_type": "code",
   "execution_count": 25,
   "id": "d430513f",
   "metadata": {},
   "outputs": [
    {
     "name": "stdout",
     "output_type": "stream",
     "text": [
      "I love programming in Python\n"
     ]
    }
   ],
   "source": [
    "message = 'I love programming in Java'\n",
    "print(message.replace('Java', 'Python'))"
   ]
  },
  {
   "cell_type": "code",
   "execution_count": 29,
   "id": "4e5cdcd3",
   "metadata": {},
   "outputs": [
    {
     "data": {
      "text/plain": [
       "'Python is a powerful programming language.\\nIt is easy to learn.\\nIt is widely used in data science, web development, and more.'"
      ]
     },
     "execution_count": 29,
     "metadata": {},
     "output_type": "execute_result"
    }
   ],
   "source": [
    "#Multiline String\n",
    "\"\"\"Python is a powerful programming language.\n",
    "It is easy to learn.\n",
    "It is widely used in data science, web development, and more.\"\"\""
   ]
  },
  {
   "cell_type": "code",
   "execution_count": 34,
   "id": "0b7c980c",
   "metadata": {},
   "outputs": [
    {
     "name": "stdout",
     "output_type": "stream",
     "text": [
      "Part 1: Python\n",
      "Part 2: amazing language!\n",
      "Part 3: is\n"
     ]
    }
   ],
   "source": [
    "message = 'Python is an amazing language!'\n",
    "part1 = message[0:6]\n",
    "part2 = message[13:]\n",
    "part3 = message[7:9]\n",
    "print(\"Part 1:\",part1)\n",
    "print(\"Part 2:\",part2)\n",
    "print(\"Part 3:\",part3)"
   ]
  },
  {
   "cell_type": "code",
   "execution_count": 38,
   "id": "bb224b92",
   "metadata": {},
   "outputs": [
    {
     "name": "stdout",
     "output_type": "stream",
     "text": [
      "Year: 2024\n",
      "Month: 10\n",
      "Day: 16\n"
     ]
    }
   ],
   "source": [
    "#Extract date components from a string\n",
    "date = '2024-10-16'\n",
    "print(\"Year:\",date[0:4])\n",
    "print(\"Month:\",date[5:7])\n",
    "print(\"Day:\",date[8:])"
   ]
  },
  {
   "cell_type": "code",
   "execution_count": 42,
   "id": "c23926d0",
   "metadata": {},
   "outputs": [
    {
     "name": "stdout",
     "output_type": "stream",
     "text": [
      "List of words: ['Python', 'is', 'a', 'versatile', 'programming', 'language']\n",
      "Hyphenated sentence: Python-is-a-versatile-programming-language\n"
     ]
    }
   ],
   "source": [
    "sentence = 'Python is a versatile programming language'\n",
    "word_list = sentence.split()\n",
    "print(\"List of words:\",word_list)\n",
    "print(\"Hyphenated sentence:\",\"-\".join(word_list))"
   ]
  },
  {
   "cell_type": "code",
   "execution_count": 2,
   "id": "3dbd88f0",
   "metadata": {},
   "outputs": [
    {
     "name": "stdout",
     "output_type": "stream",
     "text": [
      "Name parts: ['John', 'Michael', 'Doe']\n",
      "Formatted name with initials: John M. D.\n"
     ]
    }
   ],
   "source": [
    "#Split full name and join with initials\n",
    "full_name = 'John Michael Doe'\n",
    "name_parts = full_name.split()\n",
    "initials_name = (name_parts[0]+\" \"+name_parts[1][0]+\". \"+name_parts[2][0]+\".\")\n",
    "print(\"Name parts:\",name_parts)\n",
    "print(\"Formatted name with initials:\",initials_name)"
   ]
  },
  {
   "cell_type": "code",
   "execution_count": 3,
   "id": "48c5007d",
   "metadata": {},
   "outputs": [
    {
     "name": "stdout",
     "output_type": "stream",
     "text": [
      "hello, World!\n"
     ]
    }
   ],
   "source": [
    "#String immutability in Python: String immutability means once you created the string you cannot change it directly.\n",
    "#If you need to modify a string you have to make a new one.\n",
    "message = \"Hello, World!\"\n",
    "new_message = \"h\"+message[1:]\n",
    "print(new_message)"
   ]
  },
  {
   "cell_type": "code",
   "execution_count": 5,
   "id": "b23e4ea1",
   "metadata": {},
   "outputs": [
    {
     "name": "stdout",
     "output_type": "stream",
     "text": [
      "2877983322608\n",
      "2877983322608\n",
      "True\n"
     ]
    }
   ],
   "source": [
    "#Memory Efficiency: Pyhton optimizes memory usage by reusing string that have the same value. For instance, if you create\n",
    "#multiple variables with the value \"Hello\", Python will point all of them to the same memory location rather than creating\n",
    "#multiple copies.\n",
    "a = \"Hello\"\n",
    "b = \"Hello\"\n",
    "print(id(a))\n",
    "print(id(b))\n",
    "print(a is b)"
   ]
  },
  {
   "cell_type": "code",
   "execution_count": 7,
   "id": "43f82e9e",
   "metadata": {},
   "outputs": [
    {
     "name": "stdout",
     "output_type": "stream",
     "text": [
      "Original string: Immutable String\n",
      "Modified string: immutable String\n"
     ]
    }
   ],
   "source": [
    "original_string = 'Immutable String'\n",
    "modified_string = original_string.replace('I', 'i')\n",
    "print(\"Original string:\",original_string)\n",
    "print(\"Modified string:\",modified_string)"
   ]
  },
  {
   "cell_type": "code",
   "execution_count": 8,
   "id": "e8722143",
   "metadata": {},
   "outputs": [
    {
     "name": "stdout",
     "output_type": "stream",
     "text": [
      "Original greeting: Good Morning\n",
      "Modified greeting: Good Morning, John!\n"
     ]
    }
   ],
   "source": [
    "greeting = 'Good Morning'\n",
    "new_greeting = greeting + ', John!'\n",
    "print(\"Original greeting:\",greeting)\n",
    "print(\"Modified greeting:\",new_greeting)"
   ]
  },
  {
   "cell_type": "code",
   "execution_count": 9,
   "id": "db1652c6",
   "metadata": {},
   "outputs": [
    {
     "name": "stdout",
     "output_type": "stream",
     "text": [
      "Enter your name: Aswini\n",
      "Hello, Aswini!\n"
     ]
    }
   ],
   "source": [
    "#Greeting with user input\n",
    "guest_name = input(\"Enter your name: \")\n",
    "print(\"Hello, \"+guest_name+\"!\")"
   ]
  },
  {
   "cell_type": "code",
   "execution_count": null,
   "id": "591b4be7",
   "metadata": {},
   "outputs": [],
   "source": [
    "Type casting: When you use input() function in python, it always returns the users input as a string. This means that \n",
    "regardless of what the user types-Whether it looks like a number, a word or simply yes/no-it comes in as text. If you need \n",
    "the input to be a number or boolean, you have to convert string into the type you need, This is called Typecasting in python.\n",
    "\n",
    "Type Casting is the way to convert one data type to another."
   ]
  },
  {
   "cell_type": "code",
   "execution_count": 10,
   "id": "d3612548",
   "metadata": {},
   "outputs": [
    {
     "name": "stdout",
     "output_type": "stream",
     "text": [
      "Enter temperature: 26\n",
      "Temperature is: 26 degrees\n"
     ]
    }
   ],
   "source": [
    "temperature = int(input(\"Enter temperature: \"))\n",
    "print(\"Temperature is:\",temperature,\"degrees\")"
   ]
  },
  {
   "cell_type": "code",
   "execution_count": 11,
   "id": "2603b85d",
   "metadata": {},
   "outputs": [
    {
     "name": "stdout",
     "output_type": "stream",
     "text": [
      "Enter your height: 5.23\n",
      "Your height is: 5.23 meters\n"
     ]
    }
   ],
   "source": [
    "height = float(input(\"Enter your height: \"))\n",
    "print(\"Your height is:\",height,\"meters\")"
   ]
  },
  {
   "cell_type": "code",
   "execution_count": 12,
   "id": "7843b73a",
   "metadata": {},
   "outputs": [
    {
     "name": "stdout",
     "output_type": "stream",
     "text": [
      "Do you like ice cream? (yes/no): no\n",
      "Do you like ice cream? False\n"
     ]
    }
   ],
   "source": [
    "user_response = input(\"Do you like ice cream? (yes/no): \").lower()\n",
    "is_ice_cream_lover = user_response == \"yes\"\n",
    "print(\"Do you like ice cream?\", is_ice_cream_lover)"
   ]
  },
  {
   "cell_type": "code",
   "execution_count": 14,
   "id": "80677aa5",
   "metadata": {},
   "outputs": [
    {
     "name": "stdout",
     "output_type": "stream",
     "text": [
      "Enter your name: Aswini\n",
      "Enter your age: 22\n",
      "Hello, Aswini! you are 22 years old.\n"
     ]
    }
   ],
   "source": [
    "name = input('Enter your name: ')\n",
    "age = int(input('Enter your age: '))\n",
    "print(f\"Hello, {name}! you are {age} years old.\")"
   ]
  },
  {
   "cell_type": "code",
   "execution_count": 16,
   "id": "a9559d08",
   "metadata": {},
   "outputs": [
    {
     "name": "stdout",
     "output_type": "stream",
     "text": [
      "Enter your name: Pavani\n",
      "Enter number of items: 5\n",
      "Enter your total budget for shopping: 200.5\n",
      "Did you have discount coupon (yes/no): no\n",
      "Grocery Shopping Summary:\n",
      "Name: Pavani\n",
      "Number of items: 5\n",
      "Total budget: $ 200.5\n",
      "Has discount coupon: False\n"
     ]
    }
   ],
   "source": [
    "name = input('Enter your name: ')\n",
    "num_of_items = int(input('Enter number of items: '))\n",
    "total_budget = float(input('Enter your total budget for shopping: '))\n",
    "have_discount_coupon = input('Did you have discount coupon (yes/no): ').lower()\n",
    "is_have_discount_coupon = have_discount_coupon == 'yes'\n",
    "print(\"Grocery Shopping Summary:\")\n",
    "print(\"Name:\",name)\n",
    "print(\"Number of items:\",num_of_items)\n",
    "print(\"Total budget: $\",total_budget)\n",
    "print(\"Has discount coupon:\",is_have_discount_coupon)"
   ]
  },
  {
   "cell_type": "code",
   "execution_count": 17,
   "id": "b585b78a",
   "metadata": {},
   "outputs": [
    {
     "name": "stdout",
     "output_type": "stream",
     "text": [
      "Enter original price: 100\n",
      "Enter discount percentage: 20\n",
      "The final price of the item after a 20.0% discount is: 80.0\n"
     ]
    }
   ],
   "source": [
    "original_price = float(input('Enter original price: '))\n",
    "discount_percentage = float(input('Enter discount percentage: '))\n",
    "discount_amount = (original_price*discount_percentage)/100\n",
    "final_price = original_price - discount_amount\n",
    "print(f\"The final price of the item after a {discount_percentage}% discount is: {final_price}\")"
   ]
  },
  {
   "cell_type": "code",
   "execution_count": 18,
   "id": "bd649c64",
   "metadata": {},
   "outputs": [
    {
     "name": "stdout",
     "output_type": "stream",
     "text": [
      "Enter book title: The Alchemist\n",
      "Enter user name: Alice\n",
      "The book 'The Alchemist' has been successfully checked out to Alice.\n"
     ]
    }
   ],
   "source": [
    "book_title = input('Enter book title: ')\n",
    "user_name = input('Enter user name: ')\n",
    "print(f\"The book '{book_title}' has been successfully checked out to {user_name}.\")"
   ]
  },
  {
   "cell_type": "code",
   "execution_count": 19,
   "id": "ed11216e",
   "metadata": {},
   "outputs": [
    {
     "name": "stdout",
     "output_type": "stream",
     "text": [
      "Enter name: Alice\n",
      "Enter age: 25\n",
      "Enter height: 1.65\n",
      "Agree to the terms and conditions (yes/no): yes\n",
      "User Summary:\n",
      "Name: Alice\n",
      "Age: 25\n",
      "Height: 1.65 meters\n",
      "Agreed to terms: True\n"
     ]
    }
   ],
   "source": [
    "user_name = input('Enter name: ')\n",
    "user_age = int(input('Enter age: '))\n",
    "user_height = float(input('Enter height: '))\n",
    "user_agreement = input('Agree to the terms and conditions (yes/no): ').lower()\n",
    "is_agreed = user_agreement == \"yes\"\n",
    "print(\"User Summary:\")\n",
    "print(\"Name:\",user_name)\n",
    "print(\"Age:\",user_age)\n",
    "print(\"Height:\",user_height,\"meters\")\n",
    "print(\"Agreed to terms:\",is_agreed)"
   ]
  },
  {
   "cell_type": "code",
   "execution_count": 21,
   "id": "123094c6",
   "metadata": {},
   "outputs": [
    {
     "name": "stdout",
     "output_type": "stream",
     "text": [
      "Enter name: Alice\n",
      "Enter age: 30\n",
      "Enter contribution amount: 50\n",
      "Need transportation (yes/no): yes\n",
      "Event Registration Summary:\n",
      "Name: Alice\n",
      "Age: 30\n",
      "Contribution amount: $ 50.0\n",
      "Needs transportation: True\n"
     ]
    }
   ],
   "source": [
    "participant_name = input('Enter name: ')\n",
    "participant_age = int(input('Enter age: '))\n",
    "contribution_amount = float(input('Enter contribution amount: '))\n",
    "needs_transportation = input('Need transportation (yes/no): ').lower()\n",
    "is_needs_transportation = needs_transportation == \"yes\"\n",
    "print(\"Event Registration Summary:\")\n",
    "print(\"Name:\",participant_name)\n",
    "print(\"Age:\",participant_age)\n",
    "print(\"Contribution amount: $\",contribution_amount)\n",
    "print(\"Needs transportation:\",is_needs_transportation)"
   ]
  },
  {
   "cell_type": "code",
   "execution_count": 7,
   "id": "d04f081f",
   "metadata": {},
   "outputs": [
    {
     "name": "stdout",
     "output_type": "stream",
     "text": [
      "Enter name: Alice\n",
      "Enter age: 30\n",
      "Enter contribution amount: 50\n",
      "Need transportation: True\n",
      "Event Registration Summary:\n",
      "Name: Alice\n",
      "Age: 30\n",
      "Contribution amount: $ 50.0\n",
      "Needs transportation: True\n",
      "Total fee: $ 70.0\n"
     ]
    }
   ],
   "source": [
    "participant_name = input('Enter name: ')\n",
    "participant_age = int(input('Enter age: '))\n",
    "contribution_amount = float(input('Enter contribution amount: '))\n",
    "needs_transportation = input('Need transportation: ')\n",
    "if needs_transportation == \"True\":\n",
    "    total_fee = contribution_amount + 20\n",
    "else:\n",
    "    total_fee = contribution_amount\n",
    "print(\"Event Registration Summary:\")\n",
    "print(\"Name:\",participant_name)\n",
    "print(\"Age:\",participant_age)\n",
    "print(\"Contribution amount: $\",contribution_amount)\n",
    "print(\"Needs transportation:\",is_needs_transportation)\n",
    "print(\"Total fee: $\",total_fee)"
   ]
  },
  {
   "cell_type": "code",
   "execution_count": 8,
   "id": "1ca6fa46",
   "metadata": {},
   "outputs": [
    {
     "name": "stdout",
     "output_type": "stream",
     "text": [
      "Total earnings from samosas: 50\n"
     ]
    }
   ],
   "source": [
    "#Arithmetic Operations\n",
    "number_of_samosas = 5\n",
    "price_per_samosa = 10\n",
    "total_earnings = number_of_samosas * price_per_samosa\n",
    "print(\"Total earnings from samosas:\", total_earnings)"
   ]
  },
  {
   "cell_type": "code",
   "execution_count": 9,
   "id": "ae3bb65e",
   "metadata": {},
   "outputs": [
    {
     "name": "stdout",
     "output_type": "stream",
     "text": [
      "Did priya make more samosas than me? True\n"
     ]
    }
   ],
   "source": [
    "#Comparison Operators\n",
    "my_samosas = 5\n",
    "priya_samosas = 7\n",
    "print(\"Did priya make more samosas than me?\",priya_samosas > my_samosas)"
   ]
  },
  {
   "cell_type": "code",
   "execution_count": 10,
   "id": "154a177a",
   "metadata": {},
   "outputs": [
    {
     "name": "stdout",
     "output_type": "stream",
     "text": [
      "Can Ramesh enter the club? True\n"
     ]
    }
   ],
   "source": [
    "#Logical Operators\n",
    "age = 20\n",
    "has_pass = True\n",
    "can_enter = age > 18 and has_pass\n",
    "print(\"Can Ramesh enter the club?\",can_enter)"
   ]
  },
  {
   "cell_type": "code",
   "execution_count": 12,
   "id": "cdfe98ae",
   "metadata": {},
   "outputs": [
    {
     "name": "stdout",
     "output_type": "stream",
     "text": [
      "Total earnings after two days: 80\n"
     ]
    }
   ],
   "source": [
    "#Assignment Operators\n",
    "total_earnings = 50\n",
    "total_earnings += 30\n",
    "print(\"Total earnings after two days:\",total_earnings)"
   ]
  },
  {
   "cell_type": "code",
   "execution_count": 13,
   "id": "e930ca99",
   "metadata": {},
   "outputs": [
    {
     "name": "stdout",
     "output_type": "stream",
     "text": [
      "Are both switches On? 0\n"
     ]
    }
   ],
   "source": [
    "#Bitwise Operators\n",
    "A = 1 #ON\n",
    "B = 0 #OFF\n",
    "result = A & B\n",
    "print(\"Are both switches On?\",result)"
   ]
  },
  {
   "cell_type": "code",
   "execution_count": 15,
   "id": "40876510",
   "metadata": {},
   "outputs": [
    {
     "name": "stdout",
     "output_type": "stream",
     "text": [
      "Enter number1: 12.5\n",
      "Enter number2: 3.5\n",
      "Results of arithmetic operations:\n",
      "Addition: 16.0\n",
      "Subtraction: 9.0\n",
      "Multiplication: 43.75\n",
      "Division: 3.5714285714285716\n",
      "Modulus: 2.0\n"
     ]
    }
   ],
   "source": [
    "num1 = float(input('Enter number1: '))\n",
    "num2 = float(input('Enter number2: '))\n",
    "print(\"Results of arithmetic operations:\")\n",
    "print(\"Addition:\",(num1+num2))\n",
    "print(\"Subtraction:\",(num1-num2))\n",
    "print(\"Multiplication:\",(num1*num2))\n",
    "print(\"Division:\",(num1/num2))\n",
    "print(\"Modulus:\",(num1%num2))"
   ]
  },
  {
   "cell_type": "code",
   "execution_count": 17,
   "id": "3591bcd1",
   "metadata": {},
   "outputs": [
    {
     "name": "stdout",
     "output_type": "stream",
     "text": [
      "Enter the number of servings: 3\n",
      "Ingredients needed for 3 servings:\n",
      "Flour: 300 grams\n",
      "Sugar: 150 grams\n",
      "Eggs: 6\n",
      "Milk: 1.5 cups\n"
     ]
    }
   ],
   "source": [
    "servings = int(input('Enter the number of servings: '))\n",
    "print(\"Ingredients needed for\",servings,\"servings:\")\n",
    "print(\"Flour:\",(100 * servings),\"grams\")\n",
    "print(\"Sugar:\",(50 * servings),\"grams\")\n",
    "print(\"Eggs:\",(2 * servings))=\n",
    "print(\"Milk:\",(0.5 * servings),\"cups\")"
   ]
  },
  {
   "cell_type": "code",
   "execution_count": 18,
   "id": "08a74e62",
   "metadata": {},
   "outputs": [
    {
     "name": "stdout",
     "output_type": "stream",
     "text": [
      "Enter length of the garden: 2.0\n",
      "Enter width of the garden: 1.5\n",
      "Enter depth of the garden: 0.5\n",
      "Soil required for garden bed with dimensions 2.0 x 1.5 x 0.5 :\n",
      "Volume: 1.5 cubic meters\n"
     ]
    }
   ],
   "source": [
    "length = float(input('Enter length of the garden: '))\n",
    "width = float(input('Enter width of the garden: '))\n",
    "depth = float(input('Enter depth of the garden: '))\n",
    "soil_volume = length * width * depth\n",
    "print(\"Soil required for garden bed with dimensions\",length,\"x\",width,\"x\",depth,\":\")\n",
    "print(\"Volume:\",soil_volume,\"cubic meters\")"
   ]
  },
  {
   "cell_type": "code",
   "execution_count": 19,
   "id": "409aa526",
   "metadata": {},
   "outputs": [
    {
     "name": "stdout",
     "output_type": "stream",
     "text": [
      "Enter number1: 5.0\n",
      "Enter number2: 10.0\n",
      "Is the first number less than or equal to the second number? True\n",
      "Are both number equal? False\n"
     ]
    }
   ],
   "source": [
    "n1 = float(input('Enter number1: '))\n",
    "n2 = float(input('Enter number2: '))\n",
    "print(\"Is the first number less than or equal to the second number?\",n1<=n2)\n",
    "print(\"Are both number equal?\",n1==n2)"
   ]
  },
  {
   "cell_type": "code",
   "execution_count": 20,
   "id": "6566c79c",
   "metadata": {},
   "outputs": [
    {
     "name": "stdout",
     "output_type": "stream",
     "text": [
      "Enter number1: 5\n",
      "Enter number2: 10\n",
      "Are both numbers greater than 0? True\n",
      "Is either number less than 0? False\n",
      "Is it not true that both numbers are equal? False\n"
     ]
    }
   ],
   "source": [
    "n1 = float(input('Enter number1: '))\n",
    "n2 = float(input('Enter number2: '))\n",
    "print(\"Are both numbers greater than 0?\",n1>0 and n2>0)\n",
    "print(\"Is either number less than 0?\",n1<0 or n2<0)\n",
    "print(\"Is it not true that both numbers are equal?\",n1==n2)"
   ]
  },
  {
   "cell_type": "code",
   "execution_count": 21,
   "id": "b316f009",
   "metadata": {},
   "outputs": [
    {
     "name": "stdout",
     "output_type": "stream",
     "text": [
      "Enter first number: 6\n",
      "Enter second number: 3\n",
      "Bitwise AND of the two numbers:  2\n",
      "Bitwise OR pf the two numbers:  7\n"
     ]
    }
   ],
   "source": [
    "n1 = int(input('Enter first number: '))\n",
    "n2 = int(input('Enter second number: '))\n",
    "print(\"Bitwise AND of the two numbers: \",n1&n2)\n",
    "print(\"Bitwise OR pf the two numbers: \",n1|n2)"
   ]
  },
  {
   "cell_type": "code",
   "execution_count": 1,
   "id": "a6279832",
   "metadata": {},
   "outputs": [
    {
     "name": "stdout",
     "output_type": "stream",
     "text": [
      "Hello, Alice! Welcome!\n",
      "You are 25 years old.\n",
      "You are from Banglore.\n",
      "Hello, Bob! Welcome!\n",
      "You are 30 years old.\n",
      "You are from Mumbai.\n"
     ]
    }
   ],
   "source": [
    "#Functions In Python\n",
    "def greet_user(name, age, city):\n",
    "    print(\"Hello, \" + name + \"! Welcome!\")\n",
    "    print(\"You are \" + str(age) + \" years old.\")\n",
    "    print(\"You are from \" + city + \".\")\n",
    "    \n",
    "greet_user(\"Alice\", 25, \"Banglore\")\n",
    "greet_user(\"Bob\", 30, \"Mumbai\")"
   ]
  },
  {
   "cell_type": "code",
   "execution_count": 2,
   "id": "9eb31b2f",
   "metadata": {},
   "outputs": [],
   "source": [
    "Types of Functions"
   ]
  },
  {
   "cell_type": "code",
   "execution_count": 3,
   "id": "066c68fc",
   "metadata": {},
   "outputs": [
    {
     "name": "stdout",
     "output_type": "stream",
     "text": [
      "You're doing great! keep pushing forward!\n"
     ]
    }
   ],
   "source": [
    "#No Arguments + No Return Value\n",
    "def motivate():\n",
    "    print(\"You're doing great! keep pushing forward!\")\n",
    "motivate()"
   ]
  },
  {
   "cell_type": "code",
   "execution_count": 4,
   "id": "caab1881",
   "metadata": {},
   "outputs": [
    {
     "name": "stdout",
     "output_type": "stream",
     "text": [
      "The weather today is: sunny\n"
     ]
    }
   ],
   "source": [
    "#No Arguments + Return Value\n",
    "def get_weather():\n",
    "    weather = \"sunny\"\n",
    "    return weather\n",
    "current_weather = get_weather()\n",
    "print(\"The weather today is:\",current_weather)"
   ]
  },
  {
   "cell_type": "code",
   "execution_count": 5,
   "id": "69a3eb31",
   "metadata": {},
   "outputs": [
    {
     "name": "stdout",
     "output_type": "stream",
     "text": [
      "Hey Priya, hope you're having a great time doing dancing!\n",
      "Hey Ravi, hope you're having a great time doing playing cricket!\n"
     ]
    }
   ],
   "source": [
    "#Arguments + No Return Value\n",
    "def greet_with_activity(name, activity):\n",
    "    print(\"Hey \" + name + \", hope you're having a great time doing \" + activity + \"!\")\n",
    "greet_with_activity(\"Priya\", \"dancing\")\n",
    "greet_with_activity(\"Ravi\", \"playing cricket\")"
   ]
  },
  {
   "cell_type": "code",
   "execution_count": 6,
   "id": "c54ab7dc",
   "metadata": {},
   "outputs": [
    {
     "name": "stdout",
     "output_type": "stream",
     "text": [
      "The area of the ractangle is: 15\n"
     ]
    }
   ],
   "source": [
    "#Arguments + Return Value\n",
    "def calculate_area(length, width):\n",
    "    area = length * width\n",
    "    return area\n",
    "area = calculate_area(5, 3)\n",
    "print(\"The area of the ractangle is:\",area)"
   ]
  },
  {
   "cell_type": "code",
   "execution_count": 8,
   "id": "7065d634",
   "metadata": {},
   "outputs": [
    {
     "name": "stdout",
     "output_type": "stream",
     "text": [
      "Enter first number: 10\n",
      "Enter second number: 5\n",
      "Addition of the two numbers: 15.0\n",
      "Subtraction of the two numbers: 5.0\n",
      "Multiplication of the two numbers: 50.0\n",
      "Division of the two numbers: 2.0\n"
     ]
    }
   ],
   "source": [
    "def add(n1, n2):\n",
    "    sum = n1+n2\n",
    "    return sum\n",
    "\n",
    "def sub(n1, n2):\n",
    "    difference = n1-n2\n",
    "    return difference\n",
    "\n",
    "def mul(n1, n2):\n",
    "    product = n1*n2\n",
    "    return product\n",
    "\n",
    "def div(n1, n2):\n",
    "    quotient = n1/n2\n",
    "    return quotient\n",
    "\n",
    "n1 = float(input('Enter first number: '))\n",
    "n2 = float(input('Enter second number: '))\n",
    "print(\"Addition of the two numbers:\",add(n1, n2))\n",
    "print(\"Subtraction of the two numbers:\",sub(n1, n2))\n",
    "print(\"Multiplication of the two numbers:\",mul(n1, n2))\n",
    "print(\"Division of the two numbers:\",div(n1, n2))"
   ]
  },
  {
   "cell_type": "code",
   "execution_count": 10,
   "id": "db35ea00",
   "metadata": {},
   "outputs": [
    {
     "name": "stdout",
     "output_type": "stream",
     "text": [
      "Enter temperature in celsius: 25\n",
      "Temperature in Fahrenheit: 77.0\n",
      "Temperature in Kelvin: 298.15\n"
     ]
    }
   ],
   "source": [
    "def celsius_to_fahrenheit(celsius):\n",
    "    fahrenheit = (celsius * 9/5) + 32\n",
    "    return fahrenheit\n",
    "\n",
    "def fahrenheit_to_celsius(fahrenheit):\n",
    "    celsius = (fahrenheit - 32) * 5/9\n",
    "    return celsius\n",
    "\n",
    "def celsius_to_kelvin(celsius):\n",
    "    kelvin = celsius + 273.15\n",
    "    return kelvin\n",
    "\n",
    "celsius_temp = float(input('Enter temperature in celsius: '))\n",
    "print(\"Temperature in Fahrenheit:\",celsius_to_fahrenheit(celsius_temp))\n",
    "print(\"Temperature in Kelvin:\",celsius_to_kelvin(celsius_temp))"
   ]
  },
  {
   "cell_type": "code",
   "execution_count": 17,
   "id": "33c31175",
   "metadata": {},
   "outputs": [
    {
     "name": "stdout",
     "output_type": "stream",
     "text": [
      "Available books: ['Harry Potter', '1984', 'Pride and Prejudice']\n",
      "Available books: ['Harry Potter', '1984', 'Pride and Prejudice', 'The Great Gatsby']\n",
      "'1984' is available in the library\n",
      "Sorry, 'The Catcher in the Rye' is not available in the library\n"
     ]
    }
   ],
   "source": [
    "def add_book(book_title, available_books):\n",
    "    if book_title not in available_books:\n",
    "        available_books.append(book_title)\n",
    "    else:\n",
    "        print(f\"'{book_title}' already available in the library\")\n",
    "\n",
    "def search_book(book_title, available_books):\n",
    "    if book_title in available_books:\n",
    "        print(f\"'{book_title}' is available in the library\")\n",
    "    else:\n",
    "        print(f\"Sorry, '{book_title}' is not available in the library\")\n",
    "        \n",
    "def view_books(available_books):\n",
    "    print(\"Available books:\",available_books)\n",
    "    \n",
    "available_books = ['Harry Potter', '1984', 'Pride and Prejudice']\n",
    "\n",
    "view_books(available_books)\n",
    "add_book('The Great Gatsby', available_books)\n",
    "view_books(available_books)\n",
    "search_book('1984', available_books)\n",
    "search_book('The Catcher in the Rye', available_books)"
   ]
  },
  {
   "cell_type": "code",
   "execution_count": 23,
   "id": "89282b60",
   "metadata": {},
   "outputs": [
    {
     "name": "stdout",
     "output_type": "stream",
     "text": [
      "Available_movies: ['The Matrix', 'Interstellar', 'The Godfather']\n",
      "Available_movies: ['The Matrix', 'Interstellar', 'The Godfather', 'Inception']\n",
      "'The Matrix' is available in the collection.\n",
      "'Inception' is available in the collection.\n"
     ]
    }
   ],
   "source": [
    "def add_movie(movie_title, available_movies):\n",
    "    if movie_title not in available_movies:\n",
    "        available_movies.append(movie_title)\n",
    "    else:\n",
    "        print(f\"'{movie_title}' is already available in the collection.\")\n",
    "        \n",
    "def search_movie(movie_title, available_movies):\n",
    "    if movie_title in available_movies:\n",
    "        print(f\"'{movie_title}' is available in the collection.\")\n",
    "    else:\n",
    "        print(f\"Sorry, '{movie_title}' is not available in the collection.\")\n",
    "        \n",
    "def view_movie(available_movies):\n",
    "    print(\"Available_movies:\",available_movies)\n",
    "    \n",
    "available_movies = ['The Matrix', 'Interstellar', 'The Godfather']\n",
    "\n",
    "view_movie(available_movies)\n",
    "add_movie('Inception', available_movies)\n",
    "view_movie(available_movies)\n",
    "search_movie('The Matrix', available_movies)\n",
    "search_movie('Inception', available_movies)"
   ]
  },
  {
   "cell_type": "code",
   "execution_count": 25,
   "id": "87b93f6c",
   "metadata": {},
   "outputs": [
    {
     "name": "stdout",
     "output_type": "stream",
     "text": [
      "Enter weather condition: rainy\n",
      "Stay indoors and read a book.\n"
     ]
    }
   ],
   "source": [
    "#Conditional statements\n",
    "weather = input('Enter weather condition: ').lower()\n",
    "if weather == \"sunny\":\n",
    "    print(\"Go to the park for a picnic!\")\n",
    "elif weather == \"rainy\":\n",
    "    print(\"Stay indoors and read a book.\")\n",
    "elif weather == \"snowy\":\n",
    "    print(\"Go sledding!\")\n",
    "else:\n",
    "    print(\"Watch a movie at home.\")"
   ]
  },
  {
   "cell_type": "code",
   "execution_count": 30,
   "id": "c8185ef0",
   "metadata": {},
   "outputs": [
    {
     "name": "stdout",
     "output_type": "stream",
     "text": [
      "Enter your age: 10\n",
      "You are eligible to vote after 8 years\n"
     ]
    }
   ],
   "source": [
    "#if condition\n",
    "age = int(input('Enter your age: '))\n",
    "if age >= 18:\n",
    "    print(\"You are eligible to vote!\")\n",
    "else:\n",
    "    print(\"You are eligible to vote after\",(18-age),\"years\")"
   ]
  },
  {
   "cell_type": "code",
   "execution_count": 34,
   "id": "93eb673d",
   "metadata": {},
   "outputs": [
    {
     "name": "stdout",
     "output_type": "stream",
     "text": [
      "Are you hungry (yes/no): no\n",
      "Maybe just a glass of water.\n"
     ]
    }
   ],
   "source": [
    "#if-else condition\n",
    "user_input = input('Are you hungry (yes/no): ').lower()\n",
    "is_hungry = user_input == \"yes\"\n",
    "\n",
    "if is_hungry:\n",
    "    print(\"Time to eat something delicious!\")\n",
    "else:\n",
    "    print(\"Maybe just a glass of water.\")"
   ]
  },
  {
   "cell_type": "code",
   "execution_count": 36,
   "id": "c124343e",
   "metadata": {},
   "outputs": [
    {
     "name": "stdout",
     "output_type": "stream",
     "text": [
      "Enter your marks: 94\n",
      "Excellent job!\n"
     ]
    }
   ],
   "source": [
    "#if-elif-else\n",
    "marks = int(input('Enter your marks: '))\n",
    "if marks >= 90:\n",
    "    print(\"Excellent job!\")\n",
    "elif marks >=75:\n",
    "    print(\"Good work, keep it up!\")\n",
    "elif marks >=50:\n",
    "    print(\"You passed, but there's room for improvement.\")\n",
    "else:\n",
    "    print(\"You need to study harder.\")"
   ]
  },
  {
   "cell_type": "code",
   "execution_count": 40,
   "id": "9d2e09a1",
   "metadata": {},
   "outputs": [
    {
     "name": "stdout",
     "output_type": "stream",
     "text": [
      "Are you free Tonight (yes/no): no\n",
      "Friends are available (yes/no): no\n",
      "Continue with assignments.\n"
     ]
    }
   ],
   "source": [
    "#Nested loops\n",
    "user_input1 = input('Are you free Tonight (yes/no): ').lower()\n",
    "free_tonight = user_input1 == \"yes\"\n",
    "\n",
    "user_input2 = input('Friends are available (yes/no): ').lower()\n",
    "friends_available = user_input2 == \"yes\"\n",
    "\n",
    "if free_tonight:\n",
    "    if friends_available:\n",
    "        print(\"Go out for dinner with friends!\")\n",
    "    else:\n",
    "        print(\"Order food and watch a movie.\")\n",
    "else:\n",
    "    print(\"Continue with assignments.\")"
   ]
  },
  {
   "cell_type": "code",
   "execution_count": 42,
   "id": "185110d5",
   "metadata": {},
   "outputs": [
    {
     "name": "stdout",
     "output_type": "stream",
     "text": [
      "1\n",
      "2\n",
      "3\n",
      "4\n",
      "5\n"
     ]
    }
   ],
   "source": [
    "#LOOPS - for loop: A for loop is perfect when you know how many times you need to repeat something.\n",
    "#range() is a function used to create a sequence of numbers\n",
    "for number in range(1, 6):\n",
    "    print(number)"
   ]
  },
  {
   "cell_type": "code",
   "execution_count": 43,
   "id": "b08ef1d9",
   "metadata": {},
   "outputs": [
    {
     "name": "stdout",
     "output_type": "stream",
     "text": [
      "You have saved: 100 rupees\n",
      "You have saved: 200 rupees\n",
      "You have saved: 300 rupees\n",
      "You have saved: 400 rupees\n",
      "You have saved: 500 rupees\n"
     ]
    }
   ],
   "source": [
    "#While loop: A while loop is used when you dont know exactly how many times you need to repear something, but you do know the\n",
    "#condition that keeps it going.\n",
    "savings = 0\n",
    "while savings < 500:\n",
    "    savings += 100\n",
    "    print(f\"You have saved: {savings} rupees\")"
   ]
  },
  {
   "cell_type": "code",
   "execution_count": 44,
   "id": "87f5dbaa",
   "metadata": {},
   "outputs": [
    {
     "name": "stdout",
     "output_type": "stream",
     "text": [
      "1\n",
      "2\n",
      "3\n",
      "4\n"
     ]
    }
   ],
   "source": [
    "#break statement: The break statement is used to exit a loop immediately, even if the loop condition hasn't been fully met.\n",
    "for number in range(1, 11):\n",
    "    if number == 5:\n",
    "        break\n",
    "    print(number)"
   ]
  },
  {
   "cell_type": "code",
   "execution_count": 45,
   "id": "5bcd1fb3",
   "metadata": {},
   "outputs": [
    {
     "name": "stdout",
     "output_type": "stream",
     "text": [
      "1\n",
      "2\n",
      "4\n",
      "5\n"
     ]
    }
   ],
   "source": [
    "#continue statement : The continue statement is used to skip the current iteration and move on to the next one.\n",
    "for number in range(1, 6):\n",
    "    if number == 3:\n",
    "        continue\n",
    "    print(number)"
   ]
  },
  {
   "cell_type": "code",
   "execution_count": 46,
   "id": "4a79a515",
   "metadata": {},
   "outputs": [
    {
     "name": "stdout",
     "output_type": "stream",
     "text": [
      "1\n",
      "3\n"
     ]
    }
   ],
   "source": [
    "#pass statement : The pass statement is like a placeholder. It doesn't do anything nut allows you to write syntactically correct\n",
    "#code when you don't want to add functionality yet.\n",
    "for number in range(1, 4):\n",
    "    if number == 2:\n",
    "        pass  #place holder for future code\n",
    "    else:\n",
    "        print(number)"
   ]
  },
  {
   "cell_type": "code",
   "execution_count": 47,
   "id": "d5fec2ef",
   "metadata": {},
   "outputs": [
    {
     "name": "stdout",
     "output_type": "stream",
     "text": [
      "Hello, Amit!\n",
      "No name provided\n"
     ]
    }
   ],
   "source": [
    "#return statement : The return statement is used to exit a function and return a value.\n",
    "def greet(name):\n",
    "    if not name:\n",
    "        return \"No name provided\"\n",
    "    return f\"Hello, {name}!\"\n",
    "print(greet(\"Amit\"))\n",
    "print(greet(\"\"))"
   ]
  },
  {
   "cell_type": "code",
   "execution_count": 48,
   "id": "b149f448",
   "metadata": {},
   "outputs": [
    {
     "name": "stdout",
     "output_type": "stream",
     "text": [
      "Enter purchase amount: 200\n",
      "Congratulations! You are eligible for a discount.\n"
     ]
    }
   ],
   "source": [
    "purchase_amount = int(input('Enter purchase amount: '))\n",
    "if purchase_amount > 100:\n",
    "    print(\"Congratulations! You are eligible for a discount.\")"
   ]
  },
  {
   "cell_type": "code",
   "execution_count": 50,
   "id": "215f16db",
   "metadata": {},
   "outputs": [
    {
     "name": "stdout",
     "output_type": "stream",
     "text": [
      "Do you having a membership? (yes/no): no\n",
      "You are not eligible for a membership discount.\n"
     ]
    }
   ],
   "source": [
    "user_input = input(\"Do you having a membership? (yes/no): \").lower()\n",
    "membership_status = user_input == \"yes\"\n",
    "if membership_status:\n",
    "    print(\"You are eligible for a membership discount.\")\n",
    "else:\n",
    "    print(\"You are not eligible for a membership discount.\")"
   ]
  },
  {
   "cell_type": "code",
   "execution_count": 53,
   "id": "7b64f5be",
   "metadata": {},
   "outputs": [
    {
     "name": "stdout",
     "output_type": "stream",
     "text": [
      "Enter your weight: 70\n",
      "Enter your height: 1.75\n",
      "You are in the Normal weight category.\n"
     ]
    }
   ],
   "source": [
    "weight = float(input('Enter your weight: '))\n",
    "height = float(input('Enter your height: '))\n",
    "bmi = weight / (height ** 2)\n",
    "if bmi >= 30:\n",
    "    print(\"You are in the Obese category.\")\n",
    "elif bmi >= 25 and bmi <= 29.9:\n",
    "    print(\"You are in the over weight category.\")\n",
    "elif bmi >= 18.5 and bmi <= 24.9:\n",
    "    print(\"You are in the Normal weight category.\")\n",
    "else:\n",
    "    print(\"You are in the Underweight category.\")"
   ]
  },
  {
   "cell_type": "code",
   "execution_count": 56,
   "id": "bb3032b3",
   "metadata": {},
   "outputs": [
    {
     "name": "stdout",
     "output_type": "stream",
     "text": [
      "Enter a number: 5\n",
      "5 x 1 = 5\n",
      "5 x 2 = 10\n",
      "5 x 3 = 15\n",
      "5 x 4 = 20\n",
      "5 x 5 = 25\n",
      "5 x 6 = 30\n",
      "5 x 7 = 35\n",
      "5 x 8 = 40\n",
      "5 x 9 = 45\n",
      "5 x 10 = 50\n"
     ]
    }
   ],
   "source": [
    "number = int(input('Enter a number: '))\n",
    "for i in range(1, 11):\n",
    "    print(number,\"x\",i,\"=\",number*i)"
   ]
  },
  {
   "cell_type": "code",
   "execution_count": 59,
   "id": "d355373d",
   "metadata": {},
   "outputs": [
    {
     "name": "stdout",
     "output_type": "stream",
     "text": [
      "Enter a number: 5\n",
      "The sum of the first 5 natural numbers is 15\n"
     ]
    }
   ],
   "source": [
    "n = int(input('Enter a number: '))\n",
    "sum = 0\n",
    "for i in range(1, n+1):\n",
    "    sum += i\n",
    "print(\"The sum of the first\",n,\"natural numbers is\",sum)"
   ]
  },
  {
   "cell_type": "code",
   "execution_count": 60,
   "id": "8e0a7f88",
   "metadata": {},
   "outputs": [
    {
     "name": "stdout",
     "output_type": "stream",
     "text": [
      "Enter a number: 10\n",
      "2\n",
      "4\n",
      "6\n",
      "8\n",
      "10\n"
     ]
    }
   ],
   "source": [
    "n = int(input('Enter a number: '))\n",
    "for i in range(1, n+1):\n",
    "    if i%2 == 0:\n",
    "        print(i)"
   ]
  },
  {
   "cell_type": "code",
   "execution_count": 61,
   "id": "a9033774",
   "metadata": {},
   "outputs": [
    {
     "name": "stdout",
     "output_type": "stream",
     "text": [
      "Enter a number: 5\n",
      "The factorial of 5 is 120\n"
     ]
    }
   ],
   "source": [
    "n = int(input('Enter a number: '))\n",
    "factorial = 1\n",
    "for i in range(1, n+1):\n",
    "    factorial *= i;\n",
    "print(\"The factorial of\",n,\"is\",factorial)"
   ]
  },
  {
   "cell_type": "code",
   "execution_count": 62,
   "id": "7def4eae",
   "metadata": {},
   "outputs": [
    {
     "name": "stdout",
     "output_type": "stream",
     "text": [
      "Enter a number: 10\n",
      "0\n",
      "1\n",
      "1\n",
      "2\n",
      "3\n",
      "5\n",
      "8\n",
      "13\n",
      "21\n",
      "34\n"
     ]
    }
   ],
   "source": [
    "n = int(input('Enter a number: '))\n",
    "a, b = 0, 1\n",
    "for i in range(n):\n",
    "    print(a)\n",
    "    a, b = b, a+b"
   ]
  },
  {
   "cell_type": "code",
   "execution_count": 65,
   "id": "81046ee5",
   "metadata": {},
   "outputs": [
    {
     "name": "stdout",
     "output_type": "stream",
     "text": [
      "Enter a number: 1234\n",
      "The sum of digits of 1234 is 10\n"
     ]
    }
   ],
   "source": [
    "num = int(input('Enter a number: '))\n",
    "n = num\n",
    "sum = 0\n",
    "while(n > 0):\n",
    "    digit = n % 10\n",
    "    sum += digit\n",
    "    n //= 10\n",
    "print(\"The sum of digits of\",num,\"is\",sum)"
   ]
  },
  {
   "cell_type": "code",
   "execution_count": 67,
   "id": "73c3c19a",
   "metadata": {},
   "outputs": [
    {
     "name": "stdout",
     "output_type": "stream",
     "text": [
      "Enter a number: 1234\n",
      "The reversed number of 1234 is 4321\n"
     ]
    }
   ],
   "source": [
    "num = int(input('Enter a number: '))\n",
    "n = num\n",
    "rev = 0\n",
    "while(n > 0):\n",
    "    digit = n%10\n",
    "    rev = rev * 10 + digit\n",
    "    n //= 10\n",
    "print(\"The reversed number of\",num,\"is\",rev)"
   ]
  },
  {
   "cell_type": "code",
   "execution_count": 69,
   "id": "007749e0",
   "metadata": {},
   "outputs": [
    {
     "name": "stdout",
     "output_type": "stream",
     "text": [
      "Enter a number: 1234\n",
      "The number is not a palindrome.\n"
     ]
    }
   ],
   "source": [
    "num = int(input('Enter a number: '))\n",
    "n = num\n",
    "rev = 0\n",
    "while(n>0):\n",
    "    digit=n%10\n",
    "    rev=rev*10+digit\n",
    "    n//=10\n",
    "if(num == rev):\n",
    "    print(\"The number is a palindrome.\")\n",
    "else:\n",
    "    print(\"The number is not a palindrome.\")"
   ]
  },
  {
   "cell_type": "code",
   "execution_count": 70,
   "id": "652835a6",
   "metadata": {},
   "outputs": [
    {
     "name": "stdout",
     "output_type": "stream",
     "text": [
      "Enter a number: 5\n",
      "The sum of the natural numbers up to 5 is 15\n"
     ]
    }
   ],
   "source": [
    "n = int(input('Enter a number: '))\n",
    "sum = 0\n",
    "count = 1\n",
    "while(count <= n):\n",
    "    sum += count\n",
    "    count += 1\n",
    "print(\"The sum of the natural numbers up to\",n,\"is\",sum)"
   ]
  },
  {
   "cell_type": "code",
   "execution_count": 71,
   "id": "ea3fc831",
   "metadata": {},
   "outputs": [
    {
     "name": "stdout",
     "output_type": "stream",
     "text": [
      "Enter a number: 10\n",
      "The product of all even numbers up to 10 is 3840\n"
     ]
    }
   ],
   "source": [
    "n = int(input('Enter a number: '))\n",
    "product = 1\n",
    "count = 2\n",
    "while(count <= n):\n",
    "    product *= count\n",
    "    count += 2\n",
    "print(\"The product of all even numbers up to\",n,\"is\",product)"
   ]
  },
  {
   "cell_type": "code",
   "execution_count": 77,
   "id": "cc147db3",
   "metadata": {},
   "outputs": [
    {
     "name": "stdout",
     "output_type": "stream",
     "text": [
      "Enter a number: 234\n",
      "The product of all digits in 234 is 24\n"
     ]
    }
   ],
   "source": [
    "num = int(input('Enter a number: '))\n",
    "n = num\n",
    "product = 1\n",
    "while(n > 0):\n",
    "    digit = n%10\n",
    "    product *= digit\n",
    "    n //= 10\n",
    "print(\"The product of all digits in\",num,\"is\",product)"
   ]
  },
  {
   "cell_type": "code",
   "execution_count": 78,
   "id": "16d6cbad",
   "metadata": {},
   "outputs": [
    {
     "name": "stdout",
     "output_type": "stream",
     "text": [
      "Enter a number: 2763\n",
      "The largest digit in 2763 is 7\n"
     ]
    }
   ],
   "source": [
    "num = int(input('Enter a number: '))\n",
    "n = num\n",
    "largest = 0\n",
    "while(n>0):\n",
    "    digit = n%10\n",
    "    if digit > largest:\n",
    "        largest = digit\n",
    "    n //= 10\n",
    "print(\"The largest digit in\",num,\"is\",largest)"
   ]
  },
  {
   "cell_type": "code",
   "execution_count": 81,
   "id": "e819ce1d",
   "metadata": {},
   "outputs": [
    {
     "name": "stdout",
     "output_type": "stream",
     "text": [
      "Enter a number: 2763\n",
      "The smallest digit in 2763 is 2\n"
     ]
    }
   ],
   "source": [
    "num = int(input('Enter a number: '))\n",
    "n = num\n",
    "smallest = n%10\n",
    "while(n>0):\n",
    "    digit = n%10\n",
    "    if digit < smallest:\n",
    "        smallest = digit\n",
    "    n //= 10\n",
    "print(\"The smallest digit in\",num,\"is\",smallest)"
   ]
  },
  {
   "cell_type": "code",
   "execution_count": 95,
   "id": "b600aead",
   "metadata": {},
   "outputs": [
    {
     "name": "stdout",
     "output_type": "stream",
     "text": [
      "Enter a number: 13579\n",
      "No even digit found.\n"
     ]
    }
   ],
   "source": [
    "num = int(input('Enter a number: '))\n",
    "n = num\n",
    "while(n>0):\n",
    "    digit = n%10\n",
    "    if digit%2 == 0:\n",
    "        print(\"The last even digit in\",num,\"is\",digit)\n",
    "        break\n",
    "    n //= 10\n",
    "else:\n",
    "    print(\"No even digit found.\")"
   ]
  },
  {
   "cell_type": "code",
   "execution_count": 93,
   "id": "42636fca",
   "metadata": {},
   "outputs": [
    {
     "name": "stdout",
     "output_type": "stream",
     "text": [
      "Enter a number: 1587\n",
      "No multiple of 3 found in 1587\n"
     ]
    }
   ],
   "source": [
    "num = int(input('Enter a number: '))\n",
    "n = num\n",
    "while(n>0):\n",
    "    digit = n%10\n",
    "    if digit%3==0:\n",
    "        print(\"The last multiple of 3 in\",num,\"is\",digit)\n",
    "        break\n",
    "    n //= 10\n",
    "else:\n",
    "    print(\"No multiple of 3 found in\",num)"
   ]
  },
  {
   "cell_type": "code",
   "execution_count": 1,
   "id": "133df843",
   "metadata": {},
   "outputs": [
    {
     "name": "stdout",
     "output_type": "stream",
     "text": [
      "Enter a number: 2765\n",
      "The even digits in 2765 are: 2 6\n"
     ]
    }
   ],
   "source": [
    "num = int(input('Enter a number: '))\n",
    "n = num\n",
    "even = \"\"\n",
    "while n>0:\n",
    "    digit=n%10\n",
    "    if digit%2 != 0:\n",
    "        n //= 10\n",
    "        continue\n",
    "    even = str(digit) + \" \" + even\n",
    "    n //= 10\n",
    "if even:\n",
    "    print(\"The even digits in\",num,\"are:\",even.strip())\n",
    "else:\n",
    "    print(\"No even digits found in\",num)"
   ]
  },
  {
   "cell_type": "code",
   "execution_count": 1,
   "id": "9c1c0f6e",
   "metadata": {},
   "outputs": [
    {
     "name": "stdout",
     "output_type": "stream",
     "text": [
      "Enter a number: 4056\n",
      "The sum of non-zero digits in 4056 is: 15\n"
     ]
    }
   ],
   "source": [
    "num = int(input('Enter a number: '))\n",
    "n = num\n",
    "sum = 0\n",
    "while n>0:\n",
    "    digit = n%10\n",
    "    if digit == 0:\n",
    "        n //= 10\n",
    "        continue\n",
    "    sum += digit\n",
    "    n //= 10\n",
    "print(\"The sum of non-zero digits in\",num,\"is:\",sum)"
   ]
  },
  {
   "cell_type": "code",
   "execution_count": 2,
   "id": "09e8017e",
   "metadata": {},
   "outputs": [
    {
     "name": "stdout",
     "output_type": "stream",
     "text": [
      "Enter rows: 4\n",
      "Enter cols: 5\n",
      "*****\n",
      "*****\n",
      "*****\n",
      "*****\n"
     ]
    }
   ],
   "source": [
    "#Rectangle Pattern\n",
    "rows = int(input('Enter rows: '))\n",
    "cols = int(input('Enter cols: '))\n",
    "for i in range(rows):\n",
    "    for j in range(cols):\n",
    "        print(\"*\", end=\"\")\n",
    "    print()"
   ]
  },
  {
   "cell_type": "code",
   "execution_count": 3,
   "id": "8ca4802f",
   "metadata": {},
   "outputs": [
    {
     "name": "stdout",
     "output_type": "stream",
     "text": [
      "Enter number of rows: 4\n",
      "*\n",
      "**\n",
      "***\n",
      "****\n"
     ]
    }
   ],
   "source": [
    "n = int(input(\"Enter number of rows: \"))\n",
    "for i in range(1, n+1):\n",
    "    for j in range(i):\n",
    "        print(\"*\",end='')\n",
    "    print()"
   ]
  },
  {
   "cell_type": "code",
   "execution_count": 5,
   "id": "116f1534",
   "metadata": {},
   "outputs": [
    {
     "name": "stdout",
     "output_type": "stream",
     "text": [
      "Enter number of rows: 4\n",
      "Enter number of columns: 6\n",
      "******\n",
      "*    *\n",
      "*    *\n",
      "******\n"
     ]
    }
   ],
   "source": [
    "rows = int(input('Enter number of rows: '))\n",
    "cols = int(input('Enter number of columns: '))\n",
    "for i in range(rows):\n",
    "    for j in range(cols):\n",
    "        if i==0 or i==rows-1 or j==0 or j==cols-1:\n",
    "            print(\"*\", end='')\n",
    "        else:\n",
    "            print(\" \", end='')\n",
    "    print()"
   ]
  },
  {
   "cell_type": "code",
   "execution_count": 23,
   "id": "2a979997",
   "metadata": {},
   "outputs": [
    {
     "name": "stdout",
     "output_type": "stream",
     "text": [
      "Enter your number: 5\n",
      "    A\n",
      "   ABA\n",
      "  ABCBA\n",
      " ABCDCBA\n",
      "ABCDEDCBA\n"
     ]
    }
   ],
   "source": [
    "#Pyramid alphabetic pattern\n",
    "n=int(input(\"Enter your number: \")) # accepting input from user\n",
    "# initializing x with 0\n",
    "for i in range(1, n+1): # loop for n rows\n",
    "  for k in range(n-i): # loop for n-i spaces in each row\n",
    "    print(\" \",end='') # printing n-i spaces\n",
    "  for j in range(i): # loop for i number of columns\n",
    "    print(chr (65+j), end='') # printing alphabet pattern seperated by space\n",
    "  for m in range(i-1,0,-1): # loop for i-1 columns\n",
    "    print (chr (65+m-1), end='') # printing alphabet pattern seperated by space\n",
    "  print() #an empty print() for next line"
   ]
  },
  {
   "cell_type": "code",
   "execution_count": 7,
   "id": "f919ea0f",
   "metadata": {},
   "outputs": [
    {
     "name": "stdout",
     "output_type": "stream",
     "text": [
      "Enter number of rows: 5\n",
      "A \n",
      "A B \n",
      "A B C \n",
      "A B C D \n",
      "A B C D E \n"
     ]
    }
   ],
   "source": [
    "n = int(input('Enter number of rows: '))\n",
    "for i in range(1, n+1):\n",
    "    for j in range(i):\n",
    "        print(chr(65+j), end=' ')\n",
    "    print()"
   ]
  },
  {
   "cell_type": "code",
   "execution_count": 24,
   "id": "369b5253",
   "metadata": {},
   "outputs": [
    {
     "name": "stdout",
     "output_type": "stream",
     "text": [
      "Enter number of row: 5\n",
      "    *\n",
      "   * *\n",
      "  *   *\n",
      " *     *\n",
      "*       *\n",
      " *     *\n",
      "  *   *\n",
      "   * *\n",
      "    *\n"
     ]
    }
   ],
   "source": [
    "# Hollow Diamond pattern\n",
    "\n",
    "# Reading number of row\n",
    "row = int(input('Enter number of row: '))\n",
    "\n",
    "# Upper part of hollow diamond\n",
    "for i in range(1, row+1):\n",
    "    for j in range(1,row-i+1):\n",
    "        print(\" \", end=\"\")\n",
    "    for j in range(1, 2*i):\n",
    "        if j==1 or j==2*i-1:\n",
    "            print(\"*\", end=\"\")\n",
    "        else:\n",
    "            print(\" \", end=\"\")\n",
    "    print()\n",
    "\n",
    "# Lower part of hollow diamond\n",
    "for i in range(row-1,0, -1):\n",
    "    for j in range(1,row-i+1):\n",
    "        print(\" \", end=\"\")\n",
    "    for j in range(1, 2*i):\n",
    "        if j==1 or j==2*i-1:\n",
    "            print(\"*\", end=\"\")\n",
    "        else:\n",
    "            print(\" \", end=\"\")\n",
    "    print()"
   ]
  },
  {
   "cell_type": "code",
   "execution_count": 9,
   "id": "526607c1",
   "metadata": {},
   "outputs": [
    {
     "name": "stdout",
     "output_type": "stream",
     "text": [
      "Enter number of rows: 5\n",
      "1 \n",
      "1 2 \n",
      "1 2 3 \n",
      "1 2 3 4 \n",
      "1 2 3 4 5 \n"
     ]
    }
   ],
   "source": [
    "n = int(input('Enter number of rows: '))\n",
    "for i in range(1, n+1):\n",
    "    for j in range(1, i+1):\n",
    "        print(j, end=' ')\n",
    "    print()"
   ]
  },
  {
   "cell_type": "code",
   "execution_count": null,
   "id": "fc2af03a",
   "metadata": {},
   "outputs": [],
   "source": [
    "LISTS IN PYTHON: A list is an ordered collection of data\n",
    "List contains both heterogeneous and homogeneous data\n",
    "List accepts duplicate elements\n",
    "Lists are mutable or changable"
   ]
  },
  {
   "cell_type": "code",
   "execution_count": 16,
   "id": "7042d609",
   "metadata": {},
   "outputs": [
    {
     "name": "stdout",
     "output_type": "stream",
     "text": [
      "['apples', 'bread', 'milk']\n"
     ]
    }
   ],
   "source": [
    "#Creating a list\n",
    "grocery_list = [\"apples\", \"bread\", \"milk\"]\n",
    "print(grocery_list)"
   ]
  },
  {
   "cell_type": "code",
   "execution_count": 17,
   "id": "0c130915",
   "metadata": {},
   "outputs": [
    {
     "name": "stdout",
     "output_type": "stream",
     "text": [
      "apples\n",
      "milk\n"
     ]
    }
   ],
   "source": [
    "#Accessing items in a list\n",
    "print(grocery_list[0])\n",
    "print(grocery_list[2])"
   ]
  },
  {
   "cell_type": "code",
   "execution_count": 18,
   "id": "7e02c980",
   "metadata": {},
   "outputs": [
    {
     "name": "stdout",
     "output_type": "stream",
     "text": [
      "['apples', 'bread', 'milk', 'eggs']\n"
     ]
    }
   ],
   "source": [
    "#Modifying lists ADDING items\n",
    "grocery_list.append(\"eggs\")\n",
    "print(grocery_list)"
   ]
  },
  {
   "cell_type": "code",
   "execution_count": 19,
   "id": "b350074b",
   "metadata": {},
   "outputs": [
    {
     "name": "stdout",
     "output_type": "stream",
     "text": [
      "['apples', 'butter', 'bread', 'milk', 'eggs']\n"
     ]
    }
   ],
   "source": [
    "#Insert 'butter' at position 1\n",
    "grocery_list.insert(1, \"butter\")\n",
    "print(grocery_list)"
   ]
  },
  {
   "cell_type": "code",
   "execution_count": 20,
   "id": "455fa55e",
   "metadata": {},
   "outputs": [
    {
     "name": "stdout",
     "output_type": "stream",
     "text": [
      "['apples', 'butter', 'milk', 'eggs']\n"
     ]
    }
   ],
   "source": [
    "#Removing items\n",
    "grocery_list.remove(\"bread\")\n",
    "print(grocery_list)"
   ]
  },
  {
   "cell_type": "code",
   "execution_count": 21,
   "id": "32ea21da",
   "metadata": {},
   "outputs": [
    {
     "name": "stdout",
     "output_type": "stream",
     "text": [
      "['apples', 'butter', 'milk']\n"
     ]
    }
   ],
   "source": [
    "#Remove the last item\n",
    "grocery_list.pop()\n",
    "print(grocery_list)"
   ]
  },
  {
   "cell_type": "code",
   "execution_count": 22,
   "id": "e316e78c",
   "metadata": {},
   "outputs": [
    {
     "name": "stdout",
     "output_type": "stream",
     "text": [
      "['butter', 'milk']\n"
     ]
    }
   ],
   "source": [
    "#Delete the item at position 0\n",
    "del grocery_list[0]\n",
    "print(grocery_list)"
   ]
  },
  {
   "cell_type": "code",
   "execution_count": 23,
   "id": "bb406adc",
   "metadata": {},
   "outputs": [
    {
     "name": "stdout",
     "output_type": "stream",
     "text": [
      "Don't forget to buy butter\n",
      "Don't forget to buy milk\n"
     ]
    }
   ],
   "source": [
    "#Looping in Lists\n",
    "for item in grocery_list:\n",
    "    print(\"Don't forget to buy\",item)"
   ]
  },
  {
   "cell_type": "code",
   "execution_count": 24,
   "id": "d18e37a6",
   "metadata": {},
   "outputs": [
    {
     "name": "stdout",
     "output_type": "stream",
     "text": [
      "2\n"
     ]
    }
   ],
   "source": [
    "#List length\n",
    "print(len(grocery_list))"
   ]
  },
  {
   "cell_type": "code",
   "execution_count": null,
   "id": "cf99c511",
   "metadata": {},
   "outputs": [],
   "source": [
    "List Slicing in Python\n",
    "List slicing is a way to get specific parts of a list by using indices. Slicing is a way to take a part of a list rather than\n",
    "using the entire list.\n",
    "\n",
    "Syntax: list_name[start:end]"
   ]
  },
  {
   "cell_type": "code",
   "execution_count": 25,
   "id": "19acfdb8",
   "metadata": {},
   "outputs": [
    {
     "name": "stdout",
     "output_type": "stream",
     "text": [
      "[2, 3, 4, 5]\n"
     ]
    }
   ],
   "source": [
    "numbers = [0, 1, 2, 3, 4, 5, 6, 7, 8, 9]\n",
    "slice_1 = numbers[2:6]\n",
    "print(slice_1)"
   ]
  },
  {
   "cell_type": "code",
   "execution_count": 26,
   "id": "55a6a7ee",
   "metadata": {},
   "outputs": [
    {
     "name": "stdout",
     "output_type": "stream",
     "text": [
      "[0, 1, 2, 3, 4]\n",
      "[5, 6, 7, 8, 9]\n"
     ]
    }
   ],
   "source": [
    "#Slice from the beginning to index 4\n",
    "slice_2 = numbers[:5]\n",
    "print(slice_2)\n",
    "\n",
    "#Slice from index 5 to the end\n",
    "slice_3 = numbers[5:]\n",
    "print(slice_3)"
   ]
  },
  {
   "cell_type": "code",
   "execution_count": 27,
   "id": "427d3bd0",
   "metadata": {},
   "outputs": [
    {
     "name": "stdout",
     "output_type": "stream",
     "text": [
      "[0, 2, 4, 6, 8]\n"
     ]
    }
   ],
   "source": [
    "#Get every 2nd item from the list\n",
    "slice_4 = numbers[::2]\n",
    "print(slice_4)"
   ]
  },
  {
   "cell_type": "code",
   "execution_count": 28,
   "id": "41a5d855",
   "metadata": {},
   "outputs": [
    {
     "name": "stdout",
     "output_type": "stream",
     "text": [
      "[0, 3, 6, 9]\n"
     ]
    }
   ],
   "source": [
    "#Get every 3rd item from the list\n",
    "slice_5 = numbers[::3]\n",
    "print(slice_5)"
   ]
  },
  {
   "cell_type": "code",
   "execution_count": 29,
   "id": "a0f69d93",
   "metadata": {},
   "outputs": [
    {
     "name": "stdout",
     "output_type": "stream",
     "text": [
      "[7, 8, 9]\n"
     ]
    }
   ],
   "source": [
    "#Negative indices and slicing\n",
    "slice_6 = numbers[-3:]\n",
    "print(slice_6)"
   ]
  },
  {
   "cell_type": "code",
   "execution_count": 30,
   "id": "25977a80",
   "metadata": {},
   "outputs": [
    {
     "name": "stdout",
     "output_type": "stream",
     "text": [
      "[1, 3, 5, 7]\n"
     ]
    }
   ],
   "source": [
    "#Get every 2nd item from index 1 to 8\n",
    "slice_7 = numbers[1:9:2]\n",
    "print(slice_7)"
   ]
  },
  {
   "cell_type": "code",
   "execution_count": null,
   "id": "776592e9",
   "metadata": {},
   "outputs": [],
   "source": [
    "Tuples: A tuple is a collection of items that is ordered and unchangeable. When you need data to remain constant and \n",
    "unchangeable choose tuples.\n",
    "\n",
    "Tuples are immutable, Efficiency, Return Multiple values"
   ]
  },
  {
   "cell_type": "code",
   "execution_count": 32,
   "id": "506785f4",
   "metadata": {},
   "outputs": [
    {
     "name": "stdout",
     "output_type": "stream",
     "text": [
      "('Monday', 'Tuesday', 'Wednesday', 'Thursday', 'Friday', 'Saturday', 'Sunday')\n",
      "(4, 7)\n"
     ]
    }
   ],
   "source": [
    "#Creating a tuple\n",
    "days_of_week = ('Monday', 'Tuesday', 'Wednesday', 'Thursday', 'Friday', 'Saturday', 'Sunday')\n",
    "print(days_of_week)\n",
    "\n",
    "coordinates = (4, 7)\n",
    "print(coordinates)"
   ]
  },
  {
   "cell_type": "code",
   "execution_count": 33,
   "id": "91e7b4fb",
   "metadata": {},
   "outputs": [
    {
     "name": "stdout",
     "output_type": "stream",
     "text": [
      "Monday\n",
      "Sunday\n"
     ]
    }
   ],
   "source": [
    "#Accessing Tuple elements\n",
    "print(days_of_week[0])  #first element\n",
    "print(days_of_week[-1]) #last element"
   ]
  },
  {
   "cell_type": "code",
   "execution_count": 35,
   "id": "72fc11fd",
   "metadata": {},
   "outputs": [
    {
     "name": "stdout",
     "output_type": "stream",
     "text": [
      "('Ravi', 20, 'Physics')\n"
     ]
    }
   ],
   "source": [
    "#Returning Multiple Values\n",
    "def get_student_info():\n",
    "    name = 'Ravi'\n",
    "    age = 20\n",
    "    course = 'Physics'\n",
    "    return (name, age, course)\n",
    "print(get_student_info())"
   ]
  },
  {
   "cell_type": "code",
   "execution_count": 36,
   "id": "9467b08c",
   "metadata": {},
   "outputs": [
    {
     "name": "stdout",
     "output_type": "stream",
     "text": [
      "Ravi\n",
      "20\n",
      "Physics\n"
     ]
    }
   ],
   "source": [
    "#Tuple packing and unpacking\n",
    "student = ('Ravi', 20, 'Physics') #Packing\n",
    "\n",
    "#Unpacking\n",
    "name, age, course = student\n",
    "print(name)\n",
    "print(age)\n",
    "print(course)"
   ]
  },
  {
   "cell_type": "code",
   "execution_count": null,
   "id": "110fa89c",
   "metadata": {},
   "outputs": [],
   "source": [
    "Immutable But Flexible : Even through tuples are immutable, you can still perform certain operations on them such as \n",
    "concatenation and repetition"
   ]
  },
  {
   "cell_type": "code",
   "execution_count": 37,
   "id": "cd559355",
   "metadata": {},
   "outputs": [
    {
     "name": "stdout",
     "output_type": "stream",
     "text": [
      "(1, 2, 3, 4, 5, 6)\n"
     ]
    }
   ],
   "source": [
    "#Concatenating Tuples\n",
    "tuple1 = (1, 2, 3)\n",
    "tuple2 = (4, 5, 6)\n",
    "combined = tuple1 + tuple2\n",
    "print(combined)"
   ]
  },
  {
   "cell_type": "code",
   "execution_count": 40,
   "id": "a111085c",
   "metadata": {},
   "outputs": [
    {
     "name": "stdout",
     "output_type": "stream",
     "text": [
      "('Hi', 'Hi', 'Hi')\n"
     ]
    }
   ],
   "source": [
    "#Repeating a tuple\n",
    "tuple3 = ('Hi',)*3\n",
    "print(tuple3)"
   ]
  },
  {
   "cell_type": "code",
   "execution_count": null,
   "id": "46ee9d21",
   "metadata": {},
   "outputs": [],
   "source": [
    "Set: A set is a collection of items in Python that is unordered. It does not allow duplicates"
   ]
  },
  {
   "cell_type": "code",
   "execution_count": 41,
   "id": "35767a1c",
   "metadata": {},
   "outputs": [
    {
     "name": "stdout",
     "output_type": "stream",
     "text": [
      "{1, 2, 3, 4, 5}\n"
     ]
    }
   ],
   "source": [
    "#Creating a set\n",
    "my_set = {1, 2, 3, 4, 5}\n",
    "print(my_set)"
   ]
  },
  {
   "cell_type": "code",
   "execution_count": 42,
   "id": "fe32c410",
   "metadata": {},
   "outputs": [
    {
     "name": "stdout",
     "output_type": "stream",
     "text": [
      "{'banana', 'orange', 'apple'}\n"
     ]
    }
   ],
   "source": [
    "fruits = {'apple', 'banana', 'orange', 'apple'}\n",
    "print(fruits)"
   ]
  },
  {
   "cell_type": "code",
   "execution_count": 43,
   "id": "e040a184",
   "metadata": {},
   "outputs": [
    {
     "name": "stdout",
     "output_type": "stream",
     "text": [
      "{1, 2, 3, 4, 5}\n"
     ]
    }
   ],
   "source": [
    "#Using set() function\n",
    "numbers = set([1, 2, 3, 4, 5])\n",
    "print(numbers)"
   ]
  },
  {
   "cell_type": "code",
   "execution_count": 44,
   "id": "3cf890b2",
   "metadata": {},
   "outputs": [
    {
     "name": "stdout",
     "output_type": "stream",
     "text": [
      "{'banana', 'orange', 'apple', 'grapes'}\n"
     ]
    }
   ],
   "source": [
    "#Set Operations (Adding and removing Items)\n",
    "fruits = {'apple', 'banana', 'orange'}\n",
    "fruits.add('grapes')\n",
    "print(fruits)"
   ]
  },
  {
   "cell_type": "code",
   "execution_count": 45,
   "id": "9a8f78b9",
   "metadata": {},
   "outputs": [
    {
     "name": "stdout",
     "output_type": "stream",
     "text": [
      "{'orange', 'apple', 'grapes'}\n"
     ]
    }
   ],
   "source": [
    "#Removing an item\n",
    "fruits.remove('banana')\n",
    "print(fruits)"
   ]
  },
  {
   "cell_type": "code",
   "execution_count": 48,
   "id": "41b186b8",
   "metadata": {},
   "outputs": [
    {
     "name": "stdout",
     "output_type": "stream",
     "text": [
      "{1, 2, 3, 4, 5}\n",
      "{3}\n"
     ]
    }
   ],
   "source": [
    "#Union and Intersection in Set\n",
    "set_a = {1, 2, 3}\n",
    "set_b = {3, 4, 5}\n",
    "combined_set = set_a.union(set_b)\n",
    "print(combined_set)\n",
    "\n",
    "common_elements = set_a.intersection(set_b)\n",
    "print(common_elements)"
   ]
  },
  {
   "cell_type": "code",
   "execution_count": null,
   "id": "00bfeef5",
   "metadata": {},
   "outputs": [],
   "source": [
    "Dictionary: A dictionary in Python is a collection of key-value pairs. Each key in python dictionary must be unique, but the\n",
    "values don't have to be."
   ]
  },
  {
   "cell_type": "code",
   "execution_count": 49,
   "id": "6479d341",
   "metadata": {},
   "outputs": [
    {
     "name": "stdout",
     "output_type": "stream",
     "text": [
      "{'name': 'Amit', 'age': 21, 'course': 'Computer Science'}\n"
     ]
    }
   ],
   "source": [
    "#Creating a Dictionary\n",
    "student = {\n",
    "    'name':'Amit',\n",
    "    'age':21,\n",
    "    'course':'Computer Science'\n",
    "}\n",
    "print(student)"
   ]
  },
  {
   "cell_type": "code",
   "execution_count": 50,
   "id": "cd0f8ca6",
   "metadata": {},
   "outputs": [
    {
     "name": "stdout",
     "output_type": "stream",
     "text": [
      "Amit\n"
     ]
    }
   ],
   "source": [
    "#Accessing values in a dictionary\n",
    "print(student['name'])"
   ]
  },
  {
   "cell_type": "code",
   "execution_count": 51,
   "id": "edc09896",
   "metadata": {},
   "outputs": [
    {
     "name": "stdout",
     "output_type": "stream",
     "text": [
      "{'name': 'Amit', 'age': 21, 'course': 'Computer Science', 'grade': 'A'}\n"
     ]
    }
   ],
   "source": [
    "#Adding and Updating Values\n",
    "student['grade'] = 'A'\n",
    "print(student)"
   ]
  },
  {
   "cell_type": "code",
   "execution_count": 52,
   "id": "221af6fc",
   "metadata": {},
   "outputs": [
    {
     "name": "stdout",
     "output_type": "stream",
     "text": [
      "{'name': 'Amit', 'age': 22, 'course': 'Computer Science', 'grade': 'A'}\n"
     ]
    }
   ],
   "source": [
    "#Updating an Existing Value\n",
    "student['age'] = 22\n",
    "print(student)"
   ]
  },
  {
   "cell_type": "code",
   "execution_count": 53,
   "id": "5d06ba37",
   "metadata": {},
   "outputs": [
    {
     "name": "stdout",
     "output_type": "stream",
     "text": [
      "{'name': 'Amit', 'age': 22, 'course': 'Computer Science'}\n"
     ]
    }
   ],
   "source": [
    "#Removing items from a dictionary\n",
    "del student['grade']\n",
    "print(student)"
   ]
  },
  {
   "cell_type": "code",
   "execution_count": 54,
   "id": "dfc215c1",
   "metadata": {},
   "outputs": [
    {
     "name": "stdout",
     "output_type": "stream",
     "text": [
      "{'name': 'Amit', 'age': 22}\n",
      "Computer Science\n"
     ]
    }
   ],
   "source": [
    "#Using .pop() to remove a key-value pair\n",
    "course = student.pop('course')\n",
    "print(student)\n",
    "print(course)"
   ]
  },
  {
   "cell_type": "code",
   "execution_count": 55,
   "id": "dfe51f24",
   "metadata": {},
   "outputs": [
    {
     "name": "stdout",
     "output_type": "stream",
     "text": [
      "dict_keys(['name', 'age'])\n",
      "dict_values(['Amit', 22])\n",
      "dict_items([('name', 'Amit'), ('age', 22)])\n"
     ]
    }
   ],
   "source": [
    "#Getting All Keys, Values, and items\n",
    "keys = student.keys()\n",
    "values = student.values()\n",
    "items = student.items()\n",
    "print(keys)\n",
    "print(values)\n",
    "print(items)"
   ]
  },
  {
   "cell_type": "code",
   "execution_count": null,
   "id": "0be2544d",
   "metadata": {},
   "outputs": [],
   "source": [
    "List Comprehension: List comprehension is a concise way to create lists by applying an expression to each item in an iterable.\n",
    "\n",
    "It allows for the construction of a new list by evaluating an expression in the context of a for loop, all in a single line.\n",
    "\n",
    "List comprehension is a simple way to create lists.Instead of writing multiple lines of code with loops to add items to a list.\n",
    "\n",
    "List comprehension let you to do it all in one line.\n",
    "\n",
    "Syntax: [expression for item in iterable]"
   ]
  },
  {
   "cell_type": "code",
   "execution_count": 56,
   "id": "04b8d49d",
   "metadata": {},
   "outputs": [
    {
     "name": "stdout",
     "output_type": "stream",
     "text": [
      "[2, 4, 6, 8, 10]\n"
     ]
    }
   ],
   "source": [
    "#Without List Comprehension\n",
    "numbers = [1, 2, 3, 4, 5]\n",
    "doubled = []\n",
    "for num in numbers:\n",
    "    doubled.append(num*2)\n",
    "print(doubled)"
   ]
  },
  {
   "cell_type": "code",
   "execution_count": 57,
   "id": "374c7c9e",
   "metadata": {},
   "outputs": [
    {
     "name": "stdout",
     "output_type": "stream",
     "text": [
      "[2, 4, 6, 8, 10]\n"
     ]
    }
   ],
   "source": [
    "#With List Comprehension\n",
    "doubled = [num*2 for num in numbers]\n",
    "print(doubled)"
   ]
  },
  {
   "cell_type": "code",
   "execution_count": 58,
   "id": "6cce735d",
   "metadata": {},
   "outputs": [
    {
     "name": "stdout",
     "output_type": "stream",
     "text": [
      "[2, 4]\n"
     ]
    }
   ],
   "source": [
    "even_numbers = [num for num in numbers if num%2 == 0]\n",
    "print(even_numbers)"
   ]
  },
  {
   "cell_type": "code",
   "execution_count": 59,
   "id": "2b762a10",
   "metadata": {},
   "outputs": [
    {
     "name": "stdout",
     "output_type": "stream",
     "text": [
      "['John', 'Alex', 'Bob', 'Eve']\n"
     ]
    }
   ],
   "source": [
    "#Selecting Short Names (selecting names with  less than 5 letters)\n",
    "names = ['John', 'Alex', 'Catherine', 'Bob', 'Eve']\n",
    "short_names = [name for name in names if len(name) < 5]\n",
    "print(short_names)"
   ]
  },
  {
   "cell_type": "code",
   "execution_count": 61,
   "id": "1e490e3e",
   "metadata": {},
   "outputs": [
    {
     "name": "stdout",
     "output_type": "stream",
     "text": [
      "[1, 2, 3, 4, 5, 6, 7, 8, 9]\n"
     ]
    }
   ],
   "source": [
    "#Nested List Comprehensions (Flattening a List of Lists)\n",
    "nested_list = [[1, 2, 3], [4, 5, 6], [7, 8, 9]]\n",
    "flat_list = [num for sublist in nested_list for num in sublist]\n",
    "print(flat_list)"
   ]
  },
  {
   "cell_type": "code",
   "execution_count": 2,
   "id": "36a84e19",
   "metadata": {},
   "outputs": [
    {
     "name": "stdout",
     "output_type": "stream",
     "text": [
      "Enter numbers: 10 20 30 40\n",
      "The average of the list is: 25.0\n"
     ]
    }
   ],
   "source": [
    "#Average of numbers in a list\n",
    "input_string = input('Enter numbers: ')\n",
    "numbers_list = input_string.split()\n",
    "for i in range(len(numbers_list)):\n",
    "    numbers_list[i] = int(numbers_list[i])\n",
    "total_sum = 0\n",
    "for number in numbers_list:\n",
    "    total_sum += number\n",
    "average = total_sum / len(numbers_list)\n",
    "print(\"The average of the list is:\", average)"
   ]
  },
  {
   "cell_type": "code",
   "execution_count": 4,
   "id": "d3d5e99c",
   "metadata": {},
   "outputs": [
    {
     "name": "stdout",
     "output_type": "stream",
     "text": [
      "Enter numbers: 1 2 3 4 5 6 7 8 9\n",
      "Enter starting index: 2\n",
      "Enter ending index: 5\n",
      "Extracted sublist:  [3, 4, 5]\n"
     ]
    }
   ],
   "source": [
    "#List Slicing\n",
    "input_string = input('Enter numbers: ')\n",
    "numbers_list = input_string.split()\n",
    "for i in range(len(numbers_list)):\n",
    "    numbers_list[i] = int(numbers_list[i])\n",
    "start = int(input(\"Enter starting index: \"))\n",
    "end = int(input(\"Enter ending index: \"))\n",
    "print(\"Extracted sublist: \",numbers_list[start:end])"
   ]
  },
  {
   "cell_type": "code",
   "execution_count": 8,
   "id": "7b845c5e",
   "metadata": {},
   "outputs": [
    {
     "name": "stdout",
     "output_type": "stream",
     "text": [
      "Enter list of numbers: 6 7 8 9 10\n",
      "List of squares: [36, 49, 64, 81, 100]\n"
     ]
    }
   ],
   "source": [
    "#List of squares\n",
    "input_string = input('Enter list of numbers: ')\n",
    "numbers_list = input_string.split()\n",
    "numbers_list = [int(num) for num in numbers_list]\n",
    "squares_list = [num**2 for num in numbers_list]\n",
    "print(\"List of squares:\",squares_list)"
   ]
  },
  {
   "cell_type": "code",
   "execution_count": 10,
   "id": "300b72fe",
   "metadata": {},
   "outputs": [
    {
     "name": "stdout",
     "output_type": "stream",
     "text": [
      "Enter numbers: 1 2 2 3 3 3 4 4 4 4\n",
      "1 occurs 1 time(s)\n",
      "2 occurs 2 time(s)\n",
      "3 occurs 3 time(s)\n",
      "4 occurs 4 time(s)\n"
     ]
    }
   ],
   "source": [
    "#Counting the number of occurrences of each number in a dictionary\n",
    "input_string = input('Enter numbers: ')\n",
    "numbers_list = input_string.split()\n",
    "for i in range(len(numbers_list)):\n",
    "    numbers_list[i] = int(numbers_list[i])\n",
    "occurrences = {}\n",
    "for num in numbers_list:\n",
    "    if num in occurrences:\n",
    "        occurrences[num] += 1\n",
    "    else:\n",
    "        occurrences[num] = 1\n",
    "for num, count in occurrences.items():\n",
    "    print(num,\"occurs\",count,\"time(s)\")"
   ]
  },
  {
   "cell_type": "code",
   "execution_count": 11,
   "id": "e32bf1f7",
   "metadata": {},
   "outputs": [
    {
     "name": "stdout",
     "output_type": "stream",
     "text": [
      "Enter numbers: 10 20 5 40\n",
      "The maximum value is 40\n",
      "The minimum value is 5\n"
     ]
    }
   ],
   "source": [
    "#Maximum and Minimum values in a list\n",
    "input_string = input('Enter numbers: ')\n",
    "numbers_list = input_string.split()\n",
    "for i in range(len(numbers_list)):\n",
    "    numbers_list[i] = int(numbers_list[i])\n",
    "max_value = numbers_list[0]\n",
    "min_value = numbers_list[0]\n",
    "for num in numbers_list:\n",
    "    if num > max_value:\n",
    "        max_value = num\n",
    "    if num < min_value:\n",
    "        min_value = num\n",
    "print(\"The maximum value is\",max_value)\n",
    "print(\"The minimum value is\",min_value)"
   ]
  },
  {
   "cell_type": "code",
   "execution_count": 12,
   "id": "6e861887",
   "metadata": {},
   "outputs": [
    {
     "name": "stdout",
     "output_type": "stream",
     "text": [
      "Enter numbers: 1 2 3 4 5\n",
      "Reversed list: [5, 4, 3, 2, 1]\n"
     ]
    }
   ],
   "source": [
    "#Reverse a List using list sclicing\n",
    "input_string = input('Enter numbers: ')\n",
    "numbers_list = input_string.split()\n",
    "for i in range(len(numbers_list)):\n",
    "    numbers_list[i] = int(numbers_list[i])\n",
    "reversed_list = numbers_list[::-1]\n",
    "print(\"Reversed list:\",reversed_list)"
   ]
  },
  {
   "cell_type": "code",
   "execution_count": 13,
   "id": "39b4186b",
   "metadata": {},
   "outputs": [
    {
     "name": "stdout",
     "output_type": "stream",
     "text": [
      "Enter numbers: 10 15 20 15 30\n",
      "Number of even elements: 3\n",
      "Number of odd elements: 2\n"
     ]
    }
   ],
   "source": [
    "#Count Even and Odd numbers in a tuple\n",
    "input_string = input('Enter numbers: ')\n",
    "numbers_list = input_string.split()\n",
    "for i in range(len(numbers_list)):\n",
    "    numbers_list[i] = int(numbers_list[i])\n",
    "tuples_list = tuple(numbers_list)\n",
    "even_count = 0\n",
    "odd_count = 0\n",
    "for num in tuples_list:\n",
    "    if num%2==0:\n",
    "        even_count += 1\n",
    "    else:\n",
    "        odd_count += 1\n",
    "print(\"Number of even elements:\",even_count)\n",
    "print(\"Number of odd elements:\",odd_count)"
   ]
  },
  {
   "cell_type": "code",
   "execution_count": 15,
   "id": "fec150e3",
   "metadata": {},
   "outputs": [
    {
     "name": "stdout",
     "output_type": "stream",
     "text": [
      "Enter numbers: 10 20 30 5 15\n",
      "The sum of the elements in the tuple is: 80\n"
     ]
    }
   ],
   "source": [
    "#Sum of elements in a tuple\n",
    "input_string = input('Enter numbers: ')\n",
    "numbers_list = input_string.split()\n",
    "for i in range(len(numbers_list)):\n",
    "    numbers_list[i] = int(numbers_list[i])\n",
    "tuples_list = tuple(numbers_list)\n",
    "sum = 0\n",
    "for num in tuples_list:\n",
    "    sum += num\n",
    "print(\"The sum of the elements in the tuple is:\",sum)"
   ]
  },
  {
   "cell_type": "code",
   "execution_count": 18,
   "id": "5455bc5a",
   "metadata": {},
   "outputs": [
    {
     "name": "stdout",
     "output_type": "stream",
     "text": [
      "Enter numbers: 1 2 3 4 5\n",
      "Enter a number to find index: 3\n",
      "The index of 3 in the tuple is: 2\n"
     ]
    }
   ],
   "source": [
    "#Find index of a number in the tuple\n",
    "input_string = input('Enter numbers: ')\n",
    "numbers_list = input_string.split()\n",
    "for i in range(len(numbers_list)):\n",
    "    numbers_list[i] = int(numbers_list[i])\n",
    "tuples_list = tuple(numbers_list)\n",
    "number = int(input('Enter a number to find index: '))\n",
    "if number in tuples_list:\n",
    "    print(\"The index of\",number,\"in the tuple is:\",tuples_list.index(number))\n",
    "else:\n",
    "    print(number,\"is not in the tuple.\")"
   ]
  },
  {
   "cell_type": "code",
   "execution_count": 19,
   "id": "fda7e018",
   "metadata": {},
   "outputs": [
    {
     "name": "stdout",
     "output_type": "stream",
     "text": [
      "Enter numbers: 10 20 30 40 50 60\n",
      "Elements at even indices: (10, 30, 50)\n"
     ]
    }
   ],
   "source": [
    "#Extract elements at even indices using tuple slicing\n",
    "input_string = input('Enter numbers: ')\n",
    "numbers_list = input_string.split()\n",
    "for i in range(len(numbers_list)):\n",
    "    numbers_list[i] = int(numbers_list[i])\n",
    "tuples_list = tuple(numbers_list)\n",
    "print(\"Elements at even indices:\",tuples_list[::2])"
   ]
  },
  {
   "cell_type": "code",
   "execution_count": 20,
   "id": "f7ad804c",
   "metadata": {},
   "outputs": [
    {
     "name": "stdout",
     "output_type": "stream",
     "text": [
      "Enter set1: 10 20 30 40\n",
      "Enter set2: 20 25 30 35\n",
      "Symmetric difference of elements: [10, 25, 35, 40]\n"
     ]
    }
   ],
   "source": [
    "#Symmetric difference between two sets\n",
    "input_string1 = input('Enter set1: ')\n",
    "input_string2 = input('Enter set2: ')\n",
    "numbers_list1 = input_string1.split()\n",
    "numbers_list2 = input_string2.split()\n",
    "for i in range(len(numbers_list1)):\n",
    "    numbers_list1[i] = int(numbers_list1[i])\n",
    "for i in range(len(numbers_list2)):\n",
    "    numbers_list2[i] = int(numbers_list2[i])\n",
    "set1 = set(numbers_list1)\n",
    "set2 = set(numbers_list2)\n",
    "symmetric_diff = set1 ^ set2\n",
    "print(\"Symmetric difference of elements:\",sorted(symmetric_diff))"
   ]
  },
  {
   "cell_type": "code",
   "execution_count": 21,
   "id": "60fd74ba",
   "metadata": {},
   "outputs": [
    {
     "name": "stdout",
     "output_type": "stream",
     "text": [
      "Enter set1: 1 2 3\n",
      "Enter set2: 1 2 3 4 5\n",
      "Set1 is a subset of Set2.\n"
     ]
    }
   ],
   "source": [
    "#Check if one set is a subset of another\n",
    "input_string1 = input('Enter set1: ')\n",
    "input_string2 = input('Enter set2: ')\n",
    "numbers_list1 = input_string1.split()\n",
    "numbers_list2 = input_string2.split()\n",
    "for i in range(len(numbers_list1)):\n",
    "    numbers_list1[i] = int(numbers_list1[i])\n",
    "for i in range(len(numbers_list2)):\n",
    "    numbers_list2[i] = int(numbers_list2[i])\n",
    "set1 = set(numbers_list1)\n",
    "set2 = set(numbers_list2)\n",
    "if set1.issubset(set2):\n",
    "    print(\"Set1 is a subset of Set2.\")\n",
    "else:\n",
    "    print(\"Set1 is not a subset of Set2.\")"
   ]
  },
  {
   "cell_type": "code",
   "execution_count": 22,
   "id": "15285336",
   "metadata": {},
   "outputs": [
    {
     "name": "stdout",
     "output_type": "stream",
     "text": [
      "Enter set1: 1 2 3 4 5\n",
      "Enter set2: 3 4 5 6 7\n",
      "Common elements: [3, 4, 5]\n"
     ]
    }
   ],
   "source": [
    "#Find common elements between two sets\n",
    "input_string1 = input('Enter set1: ')\n",
    "input_string2 = input('Enter set2: ')\n",
    "numbers_list1 = input_string1.split()\n",
    "numbers_list2 = input_string2.split()\n",
    "for i in range(len(numbers_list1)):\n",
    "    numbers_list1[i] = int(numbers_list1[i])\n",
    "for i in range(len(numbers_list2)):\n",
    "    numbers_list2[i] = int(numbers_list2[i])\n",
    "set1 = set(numbers_list1)\n",
    "set2 = set(numbers_list2)\n",
    "common_elements = set1 & set2\n",
    "print(\"Common elements:\",sorted(common_elements))"
   ]
  },
  {
   "cell_type": "code",
   "execution_count": 23,
   "id": "236a0422",
   "metadata": {},
   "outputs": [
    {
     "name": "stdout",
     "output_type": "stream",
     "text": [
      "Enter set1: 1 2 3 4 5\n",
      "Enter set2: 3 4 5 6 7\n",
      "Elements in Set 1 but not in Set2: {1, 2}\n"
     ]
    }
   ],
   "source": [
    "input_string1 = input('Enter set1: ')\n",
    "input_string2 = input('Enter set2: ')\n",
    "numbers_list1 = input_string1.split()\n",
    "numbers_list2 = input_string2.split()\n",
    "for i in range(len(numbers_list1)):\n",
    "    numbers_list1[i] = int(numbers_list1[i])\n",
    "for i in range(len(numbers_list2)):\n",
    "    numbers_list2[i] = int(numbers_list2[i])\n",
    "set1 = set(numbers_list1)\n",
    "set2 = set(numbers_list2)\n",
    "difference = set1 - set2\n",
    "print(\"Elements in Set 1 but not in Set2:\",difference)"
   ]
  },
  {
   "cell_type": "code",
   "execution_count": 25,
   "id": "e5ef4935",
   "metadata": {},
   "outputs": [
    {
     "name": "stdout",
     "output_type": "stream",
     "text": [
      "Enter set1: 1 2 3 4 5\n",
      "Enter set2: 6 7 8 9 10\n",
      "The sets are disjoint.\n"
     ]
    }
   ],
   "source": [
    "input_string1 = input('Enter set1: ')\n",
    "input_string2 = input('Enter set2: ')\n",
    "numbers_list1 = input_string1.split()\n",
    "numbers_list2 = input_string2.split()\n",
    "for i in range(len(numbers_list1)):\n",
    "    numbers_list1[i] = int(numbers_list1[i])\n",
    "for i in range(len(numbers_list2)):\n",
    "    numbers_list2[i] = int(numbers_list2[i])\n",
    "set1 = set(numbers_list1)\n",
    "set2 = set(numbers_list2)\n",
    "if set1.isdisjoint(set2):\n",
    "    print(\"The sets are disjoint.\")\n",
    "else:\n",
    "    print(\"The sets are not disjoint.\")"
   ]
  },
  {
   "cell_type": "code",
   "execution_count": 1,
   "id": "a84cec7c",
   "metadata": {},
   "outputs": [
    {
     "name": "stdout",
     "output_type": "stream",
     "text": [
      "Enter sentence: This is a test. This test is simple.\n",
      "This: 2\n",
      "is: 2\n",
      "a: 1\n",
      "test: 2\n",
      "simple: 1\n"
     ]
    }
   ],
   "source": [
    "#Count the occurrences of each word in a sentence\n",
    "sentence = input('Enter sentence: ')\n",
    "words = sentence.split()\n",
    "word_count = {}\n",
    "for word in words:\n",
    "    word = word.strip(\".,!?;:\")\n",
    "    if word in word_count:\n",
    "        word_count[word] += 1\n",
    "    else:\n",
    "        word_count[word] = 1\n",
    "for word, count in word_count.items():\n",
    "    print(f\"{word}: {count}\")"
   ]
  },
  {
   "cell_type": "code",
   "execution_count": 8,
   "id": "f09fb2de",
   "metadata": {},
   "outputs": [
    {
     "name": "stdout",
     "output_type": "stream",
     "text": [
      "Enter name and phone number: Alice, 5555555555\n",
      "Enter name and phone number: Bob, 4444444444\n",
      "Enter name and phone number: Aswini, 9392785959\n",
      "Enter name and phone number: done\n",
      "Alice: 5555555555\n",
      "Bob: 4444444444\n",
      "Aswini: 9392785959\n"
     ]
    }
   ],
   "source": [
    "#Contact book using a Dictionary\n",
    "contacts = {}\n",
    "while True:\n",
    "    entry = input('Enter name and phone number: ')\n",
    "    if entry.lower() == 'done':\n",
    "        break\n",
    "    else:\n",
    "        name, phone = entry.split(\", \")\n",
    "        contacts[name] = phone\n",
    "for name, phone in contacts.items():\n",
    "    print(f\"{name}: {phone}\")"
   ]
  },
  {
   "cell_type": "code",
   "execution_count": 11,
   "id": "fe3fc3bd",
   "metadata": {},
   "outputs": [
    {
     "name": "stdout",
     "output_type": "stream",
     "text": [
      "Enter product and its price: Milk, 2.50\n",
      "Enter product and its price: Bread, 1.20\n",
      "Enter product and its price: Eggs, 3.00\n",
      "Enter product and its price: done\n",
      "Milk: 2.5\n",
      "Bread: 1.2\n",
      "Eggs: 3.0\n"
     ]
    }
   ],
   "source": [
    "product_prices = {}\n",
    "while True:\n",
    "    entry = input('Enter product and its price: ')\n",
    "    if entry.lower() == 'done':\n",
    "        break\n",
    "    else:\n",
    "        product, price = entry.split(\", \")\n",
    "        product_prices[product] = float(price)\n",
    "for product, price in product_prices.items():\n",
    "    print(f\"{product}: {price}\")"
   ]
  },
  {
   "cell_type": "code",
   "execution_count": null,
   "id": "66d213b2",
   "metadata": {},
   "outputs": [],
   "source": [
    "Object Oriented Programming\n",
    "CLASS : A class is like a blueprint for creating objects."
   ]
  },
  {
   "cell_type": "code",
   "execution_count": 4,
   "id": "a0f1dda0",
   "metadata": {},
   "outputs": [
    {
     "name": "stdout",
     "output_type": "stream",
     "text": [
      "Amit (Roll: S123 Age: 20) is attending the class.\n",
      "Amit (Roll: S123 Age: 20) has submitted the assignment.\n"
     ]
    }
   ],
   "source": [
    "#Defining a Class\n",
    "class Student:\n",
    "    def attend_class(self):\n",
    "        print(f\"{self.name} (Roll: {self.roll_number} Age: {self.age}) is attending the class.\")\n",
    "    def submit_assignment(self):\n",
    "        print(f\"{self.name} (Roll: {self.roll_number} Age: {self.age}) has submitted the assignment.\")\n",
    "        \n",
    "#Creating an instance of the student class\n",
    "student_1 = Student()\n",
    "\n",
    "#Assigning values to the student's attributes\n",
    "student_1.name = 'Amit'\n",
    "student_1.age = 20\n",
    "student_1.roll_number = 'S123'\n",
    "\n",
    "#Using the student's methods\n",
    "student_1.attend_class()\n",
    "student_1.submit_assignment()"
   ]
  },
  {
   "cell_type": "code",
   "execution_count": 7,
   "id": "24306438",
   "metadata": {},
   "outputs": [
    {
     "name": "stdout",
     "output_type": "stream",
     "text": [
      "Title: Inception, Director: Christopher Nolan, Status: Not Watched\n",
      "Inception has been marked as watched.\n",
      "Title: Inception, Director: Christopher Nolan, Status: Watched\n"
     ]
    }
   ],
   "source": [
    "class Movie:\n",
    "    def display_info(self):\n",
    "        status = 'Watched' if self.is_watched else 'Not Watched'\n",
    "        print(f\"Title: {self.title}, Director: {self.director}, Status: {status}\")\n",
    "        \n",
    "    def mark_watched(self):\n",
    "        if not self.is_watched:\n",
    "            self.is_watched = True\n",
    "            print(f\"{self.title} has been marked as watched.\")\n",
    "        else:\n",
    "            print(f\"{self.title} has already been watched.\")\n",
    "            \n",
    "movie_1 = Movie()\n",
    "\n",
    "movie_1.title = 'Inception'\n",
    "movie_1.director = 'Christopher Nolan'\n",
    "movie_1.is_watched = False\n",
    "\n",
    "movie_1.display_info()\n",
    "movie_1.mark_watched()\n",
    "movie_1.display_info()"
   ]
  },
  {
   "cell_type": "code",
   "execution_count": 2,
   "id": "ffc35a03",
   "metadata": {},
   "outputs": [
    {
     "name": "stdout",
     "output_type": "stream",
     "text": [
      "Title: 1984, Author: George Orwell, Status: Available\n",
      "1984 has been marked as borrowed.\n",
      "Title: 1984, Author: George Orwell, Status: Borrowed\n"
     ]
    }
   ],
   "source": [
    "class Book:\n",
    "    def display_info(self):\n",
    "        status = 'Borrowed' if self.is_borrowed else 'Available'\n",
    "        print(f\"Title: {self.title}, Author: {self.author}, Status: {status}\")\n",
    "        \n",
    "    def mark_borrowed(self):\n",
    "        if not self.is_borrowed:\n",
    "            self.is_borrowed = True\n",
    "            print(f\"{self.title} has been marked as borrowed.\")\n",
    "        else:\n",
    "            print(f\"{self.title} has already been borrowed.\")\n",
    "            \n",
    "book_1 = Book()\n",
    "\n",
    "book_1.title = '1984'\n",
    "book_1.author = 'George Orwell'\n",
    "book_1.is_borrowed = False\n",
    "\n",
    "book_1.display_info()\n",
    "book_1.mark_borrowed()\n",
    "book_1.display_info()"
   ]
  },
  {
   "cell_type": "code",
   "execution_count": 3,
   "id": "d67ba874",
   "metadata": {},
   "outputs": [
    {
     "name": "stdout",
     "output_type": "stream",
     "text": [
      "Make: Toyota, Model: Corolla, Status: Available\n",
      "Toyota Corolla has been marked as rented.\n",
      "Make: Toyota, Model: Corolla, Status: Rented\n"
     ]
    }
   ],
   "source": [
    "class Car:\n",
    "    def display_info(self):\n",
    "        status = 'Rented' if not self.is_available else 'Available'\n",
    "        print(f\"Make: {self.make}, Model: {self.model}, Status: {status}\")\n",
    "        \n",
    "    def mark_rented(self):\n",
    "        if self.is_available:\n",
    "            self.is_available = False\n",
    "            print(f\"{self.make} {self.model} has been marked as rented.\")\n",
    "        else:\n",
    "            print(f\"{self.make} {self.model} is already rented.\")\n",
    "            \n",
    "car_1 = Car()\n",
    "\n",
    "car_1.make = 'Toyota'\n",
    "car_1.model = 'Corolla'\n",
    "car_1.is_available = True\n",
    "\n",
    "car_1.display_info()\n",
    "car_1.mark_rented()\n",
    "car_1.display_info()"
   ]
  },
  {
   "cell_type": "code",
   "execution_count": null,
   "id": "d4237e66",
   "metadata": {},
   "outputs": [],
   "source": [
    "Constructor: A constructor is a special method that runs automatically when you create a new object. \n",
    "It is used to set up the initial values of the abject's attributes. In python this special method is called __init__()"
   ]
  },
  {
   "cell_type": "code",
   "execution_count": 7,
   "id": "dae5a094",
   "metadata": {},
   "outputs": [
    {
     "name": "stdout",
     "output_type": "stream",
     "text": [
      "Amit (Roll: S123, Age: 20) is attending the class.\n",
      "Amit (Roll: S123, Age: 20) has submitted the assignment.\n"
     ]
    }
   ],
   "source": [
    "class Student:\n",
    "    def __init__(self, name, age, roll_number):\n",
    "        self.name = name\n",
    "        self.age = age\n",
    "        self.roll_number = roll_number\n",
    "        \n",
    "    def attend_class(self):\n",
    "        print(f\"{self.name} (Roll: {self.roll_number}, Age: {self.age}) is attending the class.\")\n",
    "        \n",
    "    def submit_assignment(self):\n",
    "        print(f\"{self.name} (Roll: {self.roll_number}, Age: {self.age}) has submitted the assignment.\")\n",
    "        \n",
    "student_1 = Student('Amit', 20, 'S123')\n",
    "\n",
    "student_1.attend_class()\n",
    "student_1.submit_assignment()"
   ]
  },
  {
   "cell_type": "code",
   "execution_count": 2,
   "id": "20f017bf",
   "metadata": {},
   "outputs": [
    {
     "name": "stdout",
     "output_type": "stream",
     "text": [
      "Priya's age has been updated to 20.\n"
     ]
    }
   ],
   "source": [
    "#Update\n",
    "class Student:\n",
    "    def __init__(self, name, age, roll_number):\n",
    "        self.name = name\n",
    "        self.age = age\n",
    "        self.roll_number = roll_number\n",
    "    \n",
    "    def update_age(self, new_age):\n",
    "        self.age = new_age\n",
    "        print(f\"{self.name}'s age has been updated to {self.age}.\")\n",
    "        \n",
    "student_2 = Student('Priya', 19, 'S124')\n",
    "student_2.update_age(20)"
   ]
  },
  {
   "cell_type": "code",
   "execution_count": 4,
   "id": "3afd17fc",
   "metadata": {},
   "outputs": [
    {
     "name": "stdout",
     "output_type": "stream",
     "text": [
      "Title: 1984, Author: George Orwell, Status: Available\n",
      "1984 is already borrowed.\n",
      "Title: 1984, Author: George Orwell, Status: Available\n"
     ]
    }
   ],
   "source": [
    "class Book:\n",
    "    def __init__(self, title, author, is_available):\n",
    "        self.title = title\n",
    "        self.author = author\n",
    "        self.is_available = is_available\n",
    "        \n",
    "    def display_info(self):\n",
    "        status = 'Borrowed' if not self.is_available else 'Available'\n",
    "        print(f\"Title: {self.title}, Author: {self.author}, Status: {status}\")\n",
    "        \n",
    "    def mark_borrowed(self):\n",
    "        if not self.is_available:\n",
    "            self.is_available = False\n",
    "            print(f\"{self.title} has been marked as borrowed.\")\n",
    "        else:\n",
    "            print(f\"{self.title} is already borrowed.\")\n",
    "            \n",
    "book_1 = Book('1984', 'George Orwell', True)\n",
    "\n",
    "book_1.display_info()\n",
    "book_1.mark_borrowed()\n",
    "book_1.display_info()"
   ]
  },
  {
   "cell_type": "code",
   "execution_count": 7,
   "id": "574458e4",
   "metadata": {},
   "outputs": [
    {
     "name": "stdout",
     "output_type": "stream",
     "text": [
      "Enter Product Name: Laptop\n",
      "Enter Product Price: 1000.0\n",
      "Enter the stock: 50\n",
      "Product Name: Laptop, Price: 1000.0, Stock: 50\n",
      "Enter new price: 120.50\n",
      "Enter new stock: 30\n",
      "Updating price to 120.5...\n",
      "New Price: 120.5\n",
      "Updationg stock to 30...\n",
      "New Stock: 30\n"
     ]
    }
   ],
   "source": [
    "class Product:\n",
    "    def __init__(self, product_name, price, stock):\n",
    "        self.product_name = product_name\n",
    "        self.price = price\n",
    "        self.stock = stock\n",
    "    \n",
    "    def display_info(self):\n",
    "        print(f\"Product Name: {self.product_name}, Price: {self.price}, Stock: {stock}\")\n",
    "        \n",
    "    def update_price(self, new_price):\n",
    "        self.price = new_price\n",
    "        print(f\"Updating price to {new_price}...\")\n",
    "        print(f\"New Price: {self.price}\")\n",
    "        \n",
    "    def update_stock(self, new_stock):\n",
    "        self.stock = new_stock\n",
    "        print(f\"Updationg stock to {new_stock}...\")\n",
    "        print(f\"New Stock: {self.stock}\")\n",
    "        \n",
    "product_name = input('Enter Product Name: ')\n",
    "price = float(input('Enter Product Price: '))\n",
    "stock = int(input('Enter the stock: '))\n",
    "\n",
    "product = Product(product_name, price, stock)\n",
    "\n",
    "product.display_info()\n",
    "\n",
    "new_price = float(input('Enter new price: '))\n",
    "new_stock = int(input('Enter new stock: '))\n",
    "\n",
    "product.update_price(new_price)\n",
    "product.update_stock(new_stock)"
   ]
  },
  {
   "cell_type": "code",
   "execution_count": 8,
   "id": "9eb1feae",
   "metadata": {},
   "outputs": [
    {
     "name": "stdout",
     "output_type": "stream",
     "text": [
      "Make: Honda, Model: Civic, Status: Available\n",
      "Honda Civic has been marked as rented.\n",
      "Make: Honda, Model: Civic, Status: Rented\n"
     ]
    }
   ],
   "source": [
    "class Vehicle:\n",
    "    def __init__(self, make, model, is_available):\n",
    "        self.make = make\n",
    "        self.model = model\n",
    "        self.is_available = is_available\n",
    "        \n",
    "    def display_info(self):\n",
    "        status = 'Rented' if not self.is_available else 'Available'\n",
    "        print(f\"Make: {self.make}, Model: {self.model}, Status: {status}\")\n",
    "        \n",
    "    def mark_rented(self):\n",
    "        if self.is_available:\n",
    "            self.is_available = False\n",
    "            print(f\"{self.make} {self.model} has been marked as rented.\")\n",
    "        else:\n",
    "            print(f\"{self.make} {self.model} is already rented.\")\n",
    "            \n",
    "vehicle_1 = Vehicle('Honda', 'Civic', True)\n",
    "\n",
    "vehicle_1.display_info()\n",
    "vehicle_1.mark_rented()\n",
    "vehicle_1.display_info()"
   ]
  },
  {
   "cell_type": "code",
   "execution_count": 1,
   "id": "6d3b46d5",
   "metadata": {},
   "outputs": [
    {
     "name": "stdout",
     "output_type": "stream",
     "text": [
      "Name: Amit, Roll Number: S123, Grade: B\n",
      "Amit's grade has been updated to A.\n",
      "Name: Amit, Roll Number: S123, Grade: A\n"
     ]
    }
   ],
   "source": [
    "# Define the Student class\n",
    "class Student:\n",
    "    # Constructor to initialize attributes\n",
    "    def __init__(self, name, roll_number, grade):\n",
    "        self.name = name\n",
    "        self.roll_number = roll_number\n",
    "        self.grade = grade\n",
    "\n",
    "    # Method to display student details\n",
    "    def display_info(self):\n",
    "        print(f\"Name: {self.name}, Roll Number: {self.roll_number}, Grade: {self.grade}\")\n",
    "\n",
    "    # Method to update the student's grade\n",
    "    def update_grade(self, new_grade):\n",
    "        self.grade = new_grade\n",
    "        print(f\"{self.name}'s grade has been updated to {self.grade}.\")\n",
    "\n",
    "# Create an instance of the Student class\n",
    "student1 = Student(\"Amit\", \"S123\", \"B\")\n",
    "\n",
    "# Display initial student details\n",
    "student1.display_info()\n",
    "\n",
    "# Update the student's grade\n",
    "student1.update_grade(\"A\")\n",
    "\n",
    "# Display updated student details\n",
    "student1.display_info()"
   ]
  },
  {
   "cell_type": "code",
   "execution_count": 4,
   "id": "bf8dd068",
   "metadata": {},
   "outputs": [
    {
     "name": "stdout",
     "output_type": "stream",
     "text": [
      "Account Holder: Suresh, Account Number: 123456, Balance: 10000\n",
      "Depositing 5000...\n",
      "New Balance: 15000\n",
      "Withdrawing 3000...\n",
      "New Balance: 12000\n"
     ]
    }
   ],
   "source": [
    "class BankAccount:\n",
    "    def __init__(self, account_holder, account_number, balance):\n",
    "        self.account_holder = account_holder\n",
    "        self.account_number = account_number\n",
    "        self.balance = balance\n",
    "\n",
    "    def display_info(self):\n",
    "        print(f\"Account Holder: {self.account_holder}, Account Number: {self.account_number}, Balance: {self.balance}\")\n",
    "        \n",
    "    def deposit(self, amount):\n",
    "        self.balance += amount\n",
    "        print(f\"Depositing {amount}...\\nNew Balance: {self.balance}\")\n",
    "        \n",
    "    def withdraw(self, amount):\n",
    "        if amount <= self.balance:\n",
    "            self.balance -= amount\n",
    "            print(f\"Withdrawing {amount}...\\nNew Balance: {self.balance}\")\n",
    "        else:\n",
    "            print(f\"Insufficient balance.\")\n",
    "            \n",
    "account = BankAccount(\"Suresh\", \"123456\", 10000)\n",
    "account.display_info()\n",
    "account.deposit(5000)\n",
    "account.withdraw(3000)"
   ]
  },
  {
   "cell_type": "code",
   "execution_count": 10,
   "id": "88fa2745",
   "metadata": {},
   "outputs": [
    {
     "name": "stdout",
     "output_type": "stream",
     "text": [
      "Amit from ABC University is attending the class.\n",
      "Priya from ABC University is attending the class.\n",
      "ABC University\n",
      "ABC University\n"
     ]
    }
   ],
   "source": [
    "#Class Attributes : Class attributes are declared directly inside the class, but outside the method\n",
    "#Instance attributes : Instance attributes are declared inside the __init__() method, which initializes each object's specific\n",
    "#data.\n",
    "\n",
    "class Student:\n",
    "    #class attribute\n",
    "    college_name = \"ABC University\"\n",
    "    \n",
    "    def __init__(self, name, age, roll_number):\n",
    "        self.name = name\n",
    "        self.age = age\n",
    "        self.roll_number = roll_number    #Instance attribute\n",
    "        \n",
    "    def attend_class(self):\n",
    "        print(f\"{self.name} from {Student.college_name} is attending the class.\")\n",
    "        \n",
    "student_1 = Student(\"Amit\", 20, \"S123\")\n",
    "student_2 = Student(\"Priya\", 19, \"S124\")\n",
    "\n",
    "student_1.attend_class()\n",
    "student_2.attend_class()\n",
    "\n",
    "#Accessing class attribute directly through class name\n",
    "print(Student.college_name)\n",
    "\n",
    "#Accessing class attribute through an object reference\n",
    "print(student_1.college_name)"
   ]
  },
  {
   "cell_type": "code",
   "execution_count": 11,
   "id": "fbb3ae55",
   "metadata": {},
   "outputs": [
    {
     "name": "stdout",
     "output_type": "stream",
     "text": [
      "8\n",
      "15\n"
     ]
    }
   ],
   "source": [
    "#Static methods : Static methods are declared inside the class, using the @staticmethod decorator.\n",
    "\n",
    "#Static methods can be accessed using either the class name or an object reference.\n",
    "\n",
    "#Static methods are general purpose tools that do not require instance or class information, They are defined using the \n",
    "#@staticmethod decorator and do not take self or class as parameters.\n",
    "\n",
    "class MathOperations:\n",
    "    @staticmethod\n",
    "    def add_numbers(a, b):\n",
    "        return a+b\n",
    "#Using the static method without creating an instance\n",
    "#Accessing static method using class name\n",
    "result = MathOperations.add_numbers(5, 3)\n",
    "print(result)\n",
    "\n",
    "#Accessing static method using an object reference\n",
    "math_op = MathOperations()\n",
    "print(math_op.add_numbers(10, 5))"
   ]
  },
  {
   "cell_type": "code",
   "execution_count": 13,
   "id": "23598917",
   "metadata": {},
   "outputs": [
    {
     "name": "stdout",
     "output_type": "stream",
     "text": [
      "Amit from XYZ University is attending the class\n",
      "Priya from XYZ University is attending the class\n",
      "New University Name\n"
     ]
    }
   ],
   "source": [
    "#Class Methods: Class methods are declared inside the class using the @classmethod decorator.\n",
    "class Student:\n",
    "    college_name = \"ABC University\"\n",
    "    \n",
    "    def __init__(self, name, age, roll_number):\n",
    "        self.name = name\n",
    "        self.age = age\n",
    "        self.roll_number = roll_number\n",
    "        \n",
    "    @classmethod\n",
    "    def change_college_name(cls, new_name):\n",
    "        cls.college_name = new_name\n",
    "        \n",
    "    def attend_class(self):\n",
    "        print(f\"{self.name} from {Student.college_name} is attending the class\")\n",
    "        \n",
    "Student.change_college_name(\"XYZ University\")\n",
    "\n",
    "student_1 = Student(\"Amit\", 20, \"S123\")\n",
    "student_2 = Student(\"Priya\", 19, \"S124\")\n",
    "\n",
    "student_1.attend_class()\n",
    "student_2.attend_class()\n",
    "\n",
    "student_1.change_college_name(\"New University Name\")\n",
    "print(Student.college_name)"
   ]
  },
  {
   "cell_type": "code",
   "execution_count": 16,
   "id": "2d3350cd",
   "metadata": {},
   "outputs": [
    {
     "name": "stdout",
     "output_type": "stream",
     "text": [
      "Enter the company name: TechCorp\n",
      "Enter employee name: Alice\n",
      "Enter employee ID: E001\n",
      "Enter employee salary: 500000\n",
      "Updated Employee Count: 1\n",
      "Company: TechCorp\n",
      "Employee Count: 1\n",
      "Employee Name: Alice, ID: E001, Salary: 500000.0\n",
      "Company Policy: All employees must adhere to company ethics and integrity.\n"
     ]
    }
   ],
   "source": [
    "# Define the Employee class\n",
    "class Employee:\n",
    "    # Class attributes\n",
    "    company_name = \"Unknown\"  # Default company name\n",
    "    employee_count = 0        # Keeps track of the number of employees\n",
    "\n",
    "    # Constructor to initialize instance attributes\n",
    "    def __init__(self, name, employee_id, salary):\n",
    "        #Initializing instance attributes\n",
    "        self.name = name\n",
    "        self.employee_id = employee_id\n",
    "        self.salary = salary\n",
    "        # Increment employee count whenever a new employee is created\n",
    "        Employee.increment_employee_count()\n",
    "\n",
    "    # Class method to increment employee count\n",
    "    @classmethod\n",
    "    def increment_employee_count(cls):\n",
    "        cls.employee_count += 1\n",
    "        print(f\"Updated Employee Count: {cls.employee_count}\")\n",
    "\n",
    "    # Static method to display company policy\n",
    "    @staticmethod\n",
    "    def company_policy():\n",
    "        print(\"Company Policy: All employees must adhere to company ethics and integrity.\")\n",
    "\n",
    "    # Method to display employee details\n",
    "    def display_info(self):\n",
    "        print(f\"Employee Name: {self.name}, ID: {self.employee_id}, Salary: {self.salary}\")\n",
    "\n",
    "# Prompt the user for input\n",
    "Employee.company_name = input(\"Enter the company name: \")\n",
    "name = input(\"Enter employee name: \")\n",
    "employee_id = input(\"Enter employee ID: \")\n",
    "salary = float(input(\"Enter employee salary: \"))\n",
    "\n",
    "# Create an instance of the Employee class\n",
    "employee = Employee(name, employee_id, salary)\n",
    "\n",
    "\n",
    "# Display company details\n",
    "print(f\"Company: {Employee.company_name}\")\n",
    "print(f\"Employee Count: {Employee.employee_count}\")\n",
    "\n",
    "# Display employee details\n",
    "employee.display_info()\n",
    "\n",
    "# Display company policy\n",
    "Employee.company_policy()\n"
   ]
  },
  {
   "cell_type": "code",
   "execution_count": 18,
   "id": "19367f4f",
   "metadata": {},
   "outputs": [
    {
     "name": "stdout",
     "output_type": "stream",
     "text": [
      "Enter the Dealership name: AutoWorld\n",
      "Enter Vehicle make: Tayota\n",
      "Enter Vehicle model: Corolla\n",
      "Enter Vehicle price: 20000\n",
      "Updated Vehicle Count: 1\n",
      "Dealership: AutoWorld\n",
      "Total Vehicles: 1\n",
      "Vehicle Make: Tayota, Model: Corolla, Price: 20000\n",
      "Dealership Policy: All vehicles come with a 2-year warranty.\n"
     ]
    }
   ],
   "source": [
    "# Define the Employee class\n",
    "class Vehicle:\n",
    "    # Class attributes\n",
    "    dealership_name = \"Unknown\"  # Default dealership name\n",
    "    total_vehicles = 0        # Keeps track of the total vehicles\n",
    "\n",
    "    # Constructor to initialize instance attributes\n",
    "    def __init__(self, make, model, price):\n",
    "        #Initializing instance attributes\n",
    "        self.make = make\n",
    "        self.model = model\n",
    "        self.price = price\n",
    "        # Increment vehicle count whenever a new vehicle is created\n",
    "        Vehicle.increment_vehicle_count()\n",
    "\n",
    "    # Class method to increment vehcile count\n",
    "    @classmethod\n",
    "    def increment_vehicle_count(cls):\n",
    "        cls.total_vehicles += 1\n",
    "        print(f\"Updated Vehicle Count: {cls.total_vehicles}\")\n",
    "\n",
    "    # Static method to display dealership policy\n",
    "    @staticmethod\n",
    "    def dealership_policy():\n",
    "        print(\"Dealership Policy: All vehicles come with a 2-year warranty.\")\n",
    "\n",
    "    # Method to display employee details\n",
    "    def display_info(self):\n",
    "        print(f\"Vehicle Make: {self.make}, Model: {self.model}, Price: {self.price}\")\n",
    "\n",
    "# Prompt the user for input\n",
    "Vehicle.dealership_name = input(\"Enter the Dealership name: \")\n",
    "make = input(\"Enter Vehicle make: \")\n",
    "model = input(\"Enter Vehicle model: \")\n",
    "price = int(input(\"Enter Vehicle price: \"))\n",
    "\n",
    "# Create an instance of the Employee class\n",
    "vehicle = Vehicle(make, model, price)\n",
    "\n",
    "\n",
    "# Display company details\n",
    "print(f\"Dealership: {Vehicle.dealership_name}\")\n",
    "print(f\"Total Vehicles: {Vehicle.total_vehicles}\")\n",
    "\n",
    "# Display employee details\n",
    "vehicle.display_info()\n",
    "\n",
    "# Display company policy\n",
    "Vehicle.dealership_policy()\n"
   ]
  },
  {
   "cell_type": "code",
   "execution_count": 4,
   "id": "7d3037de",
   "metadata": {},
   "outputs": [
    {
     "name": "stdout",
     "output_type": "stream",
     "text": [
      "Enter store name: SuperMart\n",
      "Enter product name: Laptop\n",
      "Enter product id: P001\n",
      "Enter product price: 75000\n",
      "Updated Product Count: 1\n",
      "Store: SuperMart\n",
      "Total Products: 1\n",
      "Product Name: Laptop, ID: P001, Price: 75000\n",
      "Store Policy: All products come with a 30-day return policy.\n"
     ]
    }
   ],
   "source": [
    "# Define the Product class\n",
    "class Product:\n",
    "    store_name = \"Unknown\" # Class attribute to store the store name\n",
    "    product_count = 0 # Class attribute to store the count of products\n",
    "    \n",
    "    def __init__(self, product_name, product_id, price):\n",
    "        # Initializing instance attributes\n",
    "        self.product_name = product_name\n",
    "        self.product_id = product_id\n",
    "        self.price = price\n",
    "        Product.increment_product_count() # Increment product count when a new product is created\n",
    "    \n",
    "    @classmethod\n",
    "    def increment_product_count(cls):\n",
    "        # Class method to update the product count\n",
    "        cls.product_count += 1\n",
    "        print(f\"Updated Product Count: {cls.product_count}\")\n",
    "        \n",
    "    @staticmethod\n",
    "    def store_policy():\n",
    "        # Static method to display the store policy\n",
    "        print(\"Store Policy: All products come with a 30-day return policy.\")\n",
    "        \n",
    "    def display_info(self):\n",
    "        # Method to display product details\n",
    "        print (f\"Product Name: {self.product_name}, ID: {self.product_id}, Price: {self.price}\")\n",
    "\n",
    "# Get user input for store name, product details\n",
    "Product.store_name = input('Enter store name: ') # Set store name for all products\n",
    "product_name = input('Enter product name: ')\n",
    "product_id = input('Enter product id: ')\n",
    "price = int(input('Enter product price: '))\n",
    "\n",
    "# Create an instance of the Product class\n",
    "product_1 = Product (product_name, product_id, price)\n",
    "\n",
    "# Display the store name and product count\n",
    "print(f\"Store: {Product.store_name}\")\n",
    "print(f\"Total Products: {Product.product_count}\")\n",
    "\n",
    "# Use the product's methods\n",
    "product_1.display_info()\n",
    "Product.store_policy()"
   ]
  },
  {
   "cell_type": "code",
   "execution_count": 2,
   "id": "fde37490",
   "metadata": {},
   "outputs": [
    {
     "name": "stdout",
     "output_type": "stream",
     "text": [
      "Enter warehouse name:  NorthDepot\n",
      "Enter item name: Bolts\n",
      "Enter item code: B002\n",
      "Enter item quantity: 1500\n",
      "Updated Item Count: 1\n",
      "Warehouse: NorthDepot\n",
      "Total Items: 1\n",
      "Item Name: Bolts, Code: B002, Quantity: 1500\n",
      "Warehouse Policy: All items must be properly labeled and stored.\n"
     ]
    }
   ],
   "source": [
    "# Define the InventoryItem class\n",
    "class InventoryItem:\n",
    "    warehouse_name = \"Unknown\" # Class attribute to store the warehouse name\n",
    "    item_count = 0 # Class attribute to store the count of items\n",
    "    \n",
    "    def __init__(self, item_name, item_code, quantity):\n",
    "    # Initializing instance attributes\n",
    "        self.item_name = item_name\n",
    "        self.item_code = item_code\n",
    "        self.quantity = quantity\n",
    "        InventoryItem.increment_item_count() # Increment item count when a new item is created\n",
    "    \n",
    "    @classmethod\n",
    "    def increment_item_count(cls):\n",
    "        # Class method to update the item count\n",
    "        cls.item_count += 1\n",
    "        print(f\"Updated Item Count: {cls.item_count}\")\n",
    "    \n",
    "    @staticmethod\n",
    "    def warehouse_policy():\n",
    "        # Static method to display the warehouse policy\n",
    "        print(\"Warehouse Policy: All items must be properly labeled and stored.\")\n",
    "    \n",
    "    def display_info(self):\n",
    "        # Method to display item details\n",
    "        print(f\"Item Name: {self.item_name}, Code: {self.item_code}, Quantity: {self.quantity}\")\n",
    "    \n",
    "# Get user input for warehouse name, item details\n",
    "\n",
    "InventoryItem.warehouse_name = input('Enter warehouse name:  ') # Set warehouse name for all items\n",
    "item_name = input('Enter item name: ')\n",
    "item_code = input('Enter item code: ')\n",
    "quantity = int(input('Enter item quantity: '))\n",
    "\n",
    "# Create an instance of the InventoryItem class\n",
    "item_1 = InventoryItem(item_name, item_code, quantity)\n",
    "\n",
    "# Display the warehouse name and item count\n",
    "print(f\"Warehouse: {InventoryItem.warehouse_name}\")\n",
    "print(f\"Total Items: {InventoryItem.item_count}\")\n",
    "\n",
    "# Use the item's methods\n",
    "item_1.display_info()\n",
    "InventoryItem.warehouse_policy()"
   ]
  },
  {
   "cell_type": "code",
   "execution_count": null,
   "id": "6a92002b",
   "metadata": {},
   "outputs": [],
   "source": [
    "INHERITANCE : Inheritance is a mechanism in object oriented programming where one class derives (or inherits) properties and\n",
    "behaviors(methods) of another class."
   ]
  },
  {
   "cell_type": "code",
   "execution_count": 5,
   "id": "44de53e3",
   "metadata": {},
   "outputs": [
    {
     "name": "stdout",
     "output_type": "stream",
     "text": [
      "Buddy is eating.\n",
      "Buddy is sleeping.\n",
      "Buddy is barking. Bow Bow!\n",
      "Whiskers is eating.\n",
      "Whiskers is sleeping.\n",
      "Whiskers is meowing. Meow Meow!\n"
     ]
    }
   ],
   "source": [
    "#Base Class\n",
    "class Animal:\n",
    "    def __init__(self, name):\n",
    "        self.name = name\n",
    "        \n",
    "    def eat(self):\n",
    "        print(f\"{self.name} is eating.\")\n",
    "        \n",
    "    def sleep(self):\n",
    "        print(f\"{self.name} is sleeping.\")\n",
    "        \n",
    "    \n",
    "#Subclass - Dog\n",
    "class Dog(Animal):\n",
    "    def bark(self):\n",
    "        print(f\"{self.name} is barking. Bow Bow!\")\n",
    "        \n",
    "#Subclass - Cat\n",
    "class Cat(Animal):\n",
    "    def meow(self):\n",
    "        print(f\"{self.name} is meowing. Meow Meow!\")\n",
    "        \n",
    "#Creating Instances\n",
    "dog = Dog(\"Buddy\")\n",
    "cat = Cat(\"Whiskers\")\n",
    "\n",
    "#Using Methods\n",
    "dog.eat()\n",
    "dog.sleep()\n",
    "dog.bark()\n",
    "\n",
    "cat.eat()\n",
    "cat.sleep()\n",
    "cat.meow()"
   ]
  },
  {
   "cell_type": "code",
   "execution_count": 8,
   "id": "4c6137c0",
   "metadata": {},
   "outputs": [
    {
     "name": "stdout",
     "output_type": "stream",
     "text": [
      "Enter vehicle type: General Vehicle\n",
      "Enter car brand: Honda\n",
      "Vehicle Type: General Vehicle\n",
      "Car Brand: Honda\n"
     ]
    }
   ],
   "source": [
    "class Vehicle:\n",
    "    def __init__(self, vehicle_type):\n",
    "        self.vehicle_type = vehicle_type\n",
    "        \n",
    "    def show_info(self):\n",
    "        print(f\"Vehicle Type: {self.vehicle_type}\")\n",
    "        \n",
    "class Car(Vehicle):\n",
    "    def __init__(self, vehicle_type, brand):\n",
    "        super().__init__(vehicle_type) #Call the constructor of the base class\n",
    "        self.brand = brand\n",
    "        \n",
    "    def show_details(self):\n",
    "        self.show_info() #Use base class method to display type\n",
    "        print(f\"Car Brand: {self.brand}\")\n",
    "        \n",
    "vehicle_type = input('Enter vehicle type: ')\n",
    "brand = input('Enter car brand: ')\n",
    "\n",
    "car = Car(vehicle_type, brand)\n",
    "car.show_details()"
   ]
  },
  {
   "cell_type": "code",
   "execution_count": 10,
   "id": "0c10d89e",
   "metadata": {},
   "outputs": [
    {
     "name": "stdout",
     "output_type": "stream",
     "text": [
      "Enter employee name: John Doe\n",
      "Enter employee age: 30\n",
      "Enter employee_id: E001\n",
      "Name: John Doe\n",
      "Age: 30\n",
      "Employee ID: E001\n"
     ]
    }
   ],
   "source": [
    "class Person:\n",
    "    def __init__(self, name, age):\n",
    "        self.name = name\n",
    "        self.age = age\n",
    "        \n",
    "    def display_person_info(self):\n",
    "        print(f\"Name: {self.name}\")\n",
    "        print(f\"Age: {self.age}\")\n",
    "        \n",
    "class Employee(Person):\n",
    "    def __init__(self, name, age, employee_id):\n",
    "        super().__init__(name, age)\n",
    "        self.employee_id = employee_id\n",
    "        \n",
    "    def display_employee_info(self):\n",
    "        self.display_person_info()\n",
    "        print(f\"Employee ID: {self.employee_id}\")\n",
    "        \n",
    "name = input('Enter employee name: ')\n",
    "age = int(input('Enter employee age: '))\n",
    "employee_id = input('Enter employee_id: ')\n",
    "\n",
    "employee = Employee(name, age, employee_id)\n",
    "\n",
    "employee.display_employee_info()"
   ]
  },
  {
   "cell_type": "code",
   "execution_count": null,
   "id": "18dac60d",
   "metadata": {},
   "outputs": [],
   "source": [
    "Types Of Inheritance: Single Inheritance : One class inherits from another class (single child and single parent)"
   ]
  },
  {
   "cell_type": "code",
   "execution_count": 15,
   "id": "e31bc4a7",
   "metadata": {},
   "outputs": [
    {
     "name": "stdout",
     "output_type": "stream",
     "text": [
      "The car is starting.\n",
      "The Toyota car is honking. Beep beep!\n"
     ]
    }
   ],
   "source": [
    "# Base Class\n",
    "class Vehicle:\n",
    "    def __init__(self, vehicle_type):\n",
    "        self.vehicle_type = vehicle_type\n",
    "\n",
    "    def start(self):\n",
    "        print(f\"The {self.vehicle_type} is starting.\")\n",
    "\n",
    "# Subclass\n",
    "class Car(Vehicle):\n",
    "    def __init__(self, vehicle_type, brand):\n",
    "        # Call the base class constructor\n",
    "        super().__init__(vehicle_type)\n",
    "        self.brand = brand\n",
    "\n",
    "    def honk(self):\n",
    "        print(f\"The {self.brand} car is honking. Beep beep!\")\n",
    "\n",
    "# Creating Instance\n",
    "car1 = Car(vehicle_type=\"car\", brand=\"Toyota\")\n",
    "car1.start()\n",
    "car1.honk()\n"
   ]
  },
  {
   "cell_type": "code",
   "execution_count": null,
   "id": "5efadb46",
   "metadata": {},
   "outputs": [],
   "source": [
    "Multiple Inheritance : Multiple inheritance means a class inherit features from more than one base class (more than one parent\n",
    "class)"
   ]
  },
  {
   "cell_type": "code",
   "execution_count": 16,
   "id": "a8a3b5d5",
   "metadata": {},
   "outputs": [
    {
     "name": "stdout",
     "output_type": "stream",
     "text": [
      "The vehicle is charging.\n",
      "The vehicle is refueling.\n",
      "The hybrid car is driving.\n"
     ]
    }
   ],
   "source": [
    "#Base class 1\n",
    "class Electric:\n",
    "    def charge(self):\n",
    "        print(\"The vehicle is charging.\")\n",
    "        \n",
    "#Base class 2\n",
    "class Engine:\n",
    "    def fuel(self):\n",
    "        print(\"The vehicle is refueling.\")\n",
    "        \n",
    "#Subclass inheriting from both\n",
    "class HybridCar(Electric, Engine):\n",
    "    def drive(self):\n",
    "        print(\"The hybrid car is driving.\")\n",
    "        \n",
    "hybrid_car = HybridCar()\n",
    "hybrid_car.charge()\n",
    "hybrid_car.fuel()\n",
    "hybrid_car.drive()"
   ]
  },
  {
   "cell_type": "code",
   "execution_count": null,
   "id": "53fd9f2e",
   "metadata": {},
   "outputs": [],
   "source": [
    "Multilevel Inheritance: Multilevel inheritance means passing through generations, A child of one parent acts as a parent of\n",
    "another child eg:- Grandfather -> Father -> Son"
   ]
  },
  {
   "cell_type": "code",
   "execution_count": 17,
   "id": "57bf80e7",
   "metadata": {},
   "outputs": [
    {
     "name": "stdout",
     "output_type": "stream",
     "text": [
      "The vehicle is starting.\n",
      "The car is honking. Beep beep!\n",
      "The electric car is charging.\n"
     ]
    }
   ],
   "source": [
    "#Base class\n",
    "class Vehicle:\n",
    "    def start(self):\n",
    "        print(\"The vehicle is starting.\")\n",
    "        \n",
    "#Intermediate class\n",
    "class Car(Vehicle):\n",
    "    def honk(self):\n",
    "        print(\"The car is honking. Beep beep!\")\n",
    "        \n",
    "#Subclass\n",
    "class ElectricCar(Car):\n",
    "    def charge(self):\n",
    "        print(\"The electric car is charging.\")\n",
    "        \n",
    "#Creating instance\n",
    "electric_car = ElectricCar()\n",
    "electric_car.start()\n",
    "electric_car.honk()\n",
    "electric_car.charge()"
   ]
  },
  {
   "cell_type": "code",
   "execution_count": null,
   "id": "5a73e84e",
   "metadata": {},
   "outputs": [],
   "source": [
    "Hierarchical Inheritance :- Hierarchical inheritance means multiple classes inherit from the same base class.\n",
    "(Single parent multiple chiildren)"
   ]
  },
  {
   "cell_type": "code",
   "execution_count": 18,
   "id": "14e8cf05",
   "metadata": {},
   "outputs": [
    {
     "name": "stdout",
     "output_type": "stream",
     "text": [
      "The appliance is plugged in.\n",
      "The washing machine is washing clothes.\n",
      "---------------------\n",
      "The appliance is plugged in.\n",
      "The refrigerator is cooling food.\n",
      "---------------------\n",
      "The appliance is plugged in.\n",
      "The geacer is heating water.\n"
     ]
    }
   ],
   "source": [
    "#Base class\n",
    "class Appliance:\n",
    "    def plug_in(self):\n",
    "        print(\"The appliance is plugged in.\")\n",
    "        \n",
    "#Subclass 1\n",
    "class WashingMachine(Appliance):\n",
    "    def wash_clothes(self):\n",
    "        print(\"The washing machine is washing clothes.\")\n",
    "        \n",
    "#Subclass 2\n",
    "class Refrigerator(Appliance):\n",
    "    def cool_food(self):\n",
    "        print(\"The refrigerator is cooling food.\")\n",
    "        \n",
    "#Subclass 3\n",
    "class Geacer(Appliance):\n",
    "    def heat_water(self):\n",
    "        print(\"The geacer is heating water.\")\n",
    "        \n",
    "#Creating Instances\n",
    "washer = WashingMachine()\n",
    "fridge = Refrigerator()\n",
    "geacer = Geacer()\n",
    "\n",
    "washer.plug_in()\n",
    "washer.wash_clothes()\n",
    "print(\"---------------------\")\n",
    "fridge.plug_in()\n",
    "fridge.cool_food()\n",
    "print(\"---------------------\")\n",
    "geacer.plug_in()\n",
    "geacer.heat_water()"
   ]
  },
  {
   "cell_type": "code",
   "execution_count": null,
   "id": "bd522a13",
   "metadata": {},
   "outputs": [],
   "source": [
    "Hybrid Inheritance :- Different types of inheritances combine to form Hybrid Inheritance."
   ]
  },
  {
   "cell_type": "code",
   "execution_count": 20,
   "id": "0507d30e",
   "metadata": {},
   "outputs": [
    {
     "name": "stdout",
     "output_type": "stream",
     "text": [
      "The vehicle is starting.\n",
      "The car is honking. Beep beep!\n",
      "The vehicle is charging\n",
      "The electric car is driving silently.\n"
     ]
    }
   ],
   "source": [
    "#Base Class\n",
    "class Vehicle:\n",
    "    def start(self):\n",
    "        print(\"The vehicle is starting.\")\n",
    "        \n",
    "#Subclass 1\n",
    "class Car(Vehicle):\n",
    "    def honk(self):\n",
    "        print(\"The car is honking. Beep beep!\")\n",
    "        \n",
    "#Subclass 2\n",
    "class Electric:\n",
    "    def charge(self):\n",
    "        print(\"The vehicle is charging\")\n",
    "        \n",
    "#Subclass 3 - Inheriting from car and electric(hybrid)\n",
    "class ElectricCar(Car, Electric):\n",
    "    def drive(self):\n",
    "        print(\"The electric car is driving silently.\")\n",
    "        \n",
    "#Creating Instance\n",
    "electric_car = ElectricCar()\n",
    "electric_car.start()\n",
    "electric_car.honk()\n",
    "electric_car.charge()\n",
    "electric_car.drive()"
   ]
  },
  {
   "cell_type": "code",
   "execution_count": null,
   "id": "a5573a3d",
   "metadata": {},
   "outputs": [],
   "source": [
    "Method Resolution Order (MRO): The Method Resolution Order (MRO) is the sequence Python follows to look for a method or\n",
    "attribute in a class hierarchy when multiple inheritance involved. It tells Python which class to check first, then second, and\n",
    "so on. To check MRO of any class we use mro() method or __mro__ attribute."
   ]
  },
  {
   "cell_type": "code",
   "execution_count": 23,
   "id": "086424df",
   "metadata": {},
   "outputs": [
    {
     "name": "stdout",
     "output_type": "stream",
     "text": [
      "This is B\n",
      "[<class '__main__.D'>, <class '__main__.B'>, <class '__main__.C'>, <class '__main__.A'>, <class 'object'>]\n"
     ]
    }
   ],
   "source": [
    "class A:\n",
    "    def show(self):\n",
    "        print(\"This is A\")\n",
    "        \n",
    "class B(A):\n",
    "    def show(self):\n",
    "        print(\"This is B\")\n",
    "        \n",
    "class C(A):\n",
    "    def show(self):\n",
    "        print(\"This is C\")\n",
    "\n",
    "class D(B, C):\n",
    "    pass\n",
    "\n",
    "#Creating an instance\n",
    "d = D()\n",
    "d.show()\n",
    "\n",
    "#Checking the Method Resolution Order\n",
    "print(D.mro())"
   ]
  },
  {
   "cell_type": "code",
   "execution_count": null,
   "id": "18e0f890",
   "metadata": {},
   "outputs": [],
   "source": [
    "super() and MRO :\n",
    "The super() function is used to call the methods from the parent class.\n",
    "In multiple inheritance super() follows the MRO to ensure methods are called in the right order without repeating any class."
   ]
  },
  {
   "cell_type": "code",
   "execution_count": 28,
   "id": "eeeb3fa5",
   "metadata": {},
   "outputs": [
    {
     "name": "stdout",
     "output_type": "stream",
     "text": [
      "A is initialized\n",
      "C is initialized\n",
      "B is initialized\n",
      "D is initialized\n",
      "[<class '__main__.D'>, <class '__main__.B'>, <class '__main__.C'>, <class '__main__.A'>, <class 'object'>]\n"
     ]
    }
   ],
   "source": [
    "class A:\n",
    "    def __init__(self):\n",
    "        print(\"A is initialized\")\n",
    "        \n",
    "    def show(self):\n",
    "        print(\"A is initialized\")\n",
    "        \n",
    "class B(A):\n",
    "    def __init__(self):\n",
    "        super().__init__()\n",
    "        print(\"B is initialized\")\n",
    "        \n",
    "class C(A):\n",
    "    def __init__(self):\n",
    "        super().__init__()\n",
    "        print(\"C is initialized\")\n",
    "\n",
    "class D(B, C):\n",
    "    def __init__(self):\n",
    "        super().__init__()\n",
    "        print(\"D is initialized\")\n",
    "\n",
    "#Creating an instance\n",
    "d = D()\n",
    "print(D.mro())"
   ]
  },
  {
   "cell_type": "code",
   "execution_count": null,
   "id": "e335ee19",
   "metadata": {},
   "outputs": [],
   "source": [
    "The C3 Linearization Algorithm:-\n",
    "The C3 linearization algorithm is what python uses to determine the MRO"
   ]
  },
  {
   "cell_type": "code",
   "execution_count": 29,
   "id": "edd10a0b",
   "metadata": {},
   "outputs": [
    {
     "name": "stdout",
     "output_type": "stream",
     "text": [
      "Action from B\n"
     ]
    }
   ],
   "source": [
    "class A:\n",
    "    def action(self):\n",
    "        print(\"Action from A\")\n",
    "\n",
    "class B(A):\n",
    "    def action(self):\n",
    "        print(\"Action from B\")\n",
    "\n",
    "class C(A):\n",
    "    def action(self):\n",
    "        print(\"Action from C\")\n",
    "\n",
    "class D(B, C):\n",
    "    pass\n",
    "\n",
    "d = D()\n",
    "d.action()"
   ]
  },
  {
   "cell_type": "code",
   "execution_count": null,
   "id": "fe7e4455",
   "metadata": {},
   "outputs": [],
   "source": [
    "Common Pitfalls in Multiple Inheritance : Diamond Problem\n",
    "One common issue is the diamond problem, where a class inherits from two classes that both inherit from the same base class.\n",
    "This can create confusion about which class method should be used."
   ]
  },
  {
   "cell_type": "code",
   "execution_count": 30,
   "id": "fb4069c2",
   "metadata": {},
   "outputs": [
    {
     "name": "stdout",
     "output_type": "stream",
     "text": [
      "This is B\n"
     ]
    }
   ],
   "source": [
    "class A:\n",
    "    def show(self):\n",
    "        print(\"This is A\")\n",
    "        \n",
    "class B(A):\n",
    "    def show(self):\n",
    "        print(\"This is B\")\n",
    "        \n",
    "class C(A):\n",
    "    def show(self):\n",
    "        print(\"This is C\")\n",
    "        \n",
    "class D(B, C):\n",
    "    pass\n",
    "\n",
    "d = D()\n",
    "d.show()"
   ]
  },
  {
   "cell_type": "code",
   "execution_count": 31,
   "id": "f9279cc5",
   "metadata": {},
   "outputs": [
    {
     "name": "stdout",
     "output_type": "stream",
     "text": [
      "Enter the car make: Toyota\n",
      "Enter the car model: Corolla\n",
      "Enter the car ID: C001\n",
      "Enter the insurance provider: Allianz\n",
      "Enter the insurance expiry date (YYYY-MM-DD): 2025-05-20\n",
      "Make: Toyota\n",
      "Model: Corolla\n",
      "Car ID: C001\n",
      "Insurance Provider: Allianz\n",
      "Insurance Expiry: 2025-05-20\n"
     ]
    }
   ],
   "source": [
    "# Base class Vehicle                #MULTIPLE INHERITANCE\n",
    "class Vehicle:\n",
    "    def __init__(self, make, model):\n",
    "        self.make = make\n",
    "        self.model = model\n",
    "\n",
    "    def display_vehicle_info(self):\n",
    "        print(f\"Make: {self.make}\")\n",
    "        print(f\"Model: {self.model}\")\n",
    "\n",
    "\n",
    "# Base class Insurance\n",
    "class Insurance:\n",
    "    def __init__(self, insurance_provider, insurance_expiry):\n",
    "        self.insurance_provider = insurance_provider\n",
    "        self.insurance_expiry = insurance_expiry\n",
    "\n",
    "    def display_insurance_info(self):\n",
    "        print(f\"Insurance Provider: {self.insurance_provider}\")\n",
    "        print(f\"Insurance Expiry: {self.insurance_expiry}\")\n",
    "\n",
    "\n",
    "# Derived class Car\n",
    "class Car(Vehicle, Insurance):\n",
    "    def __init__(self, make, model, car_id, insurance_provider, insurance_expiry):\n",
    "        # Initialize both base classes\n",
    "        Vehicle.__init__(self, make, model)\n",
    "        Insurance.__init__(self, insurance_provider, insurance_expiry)\n",
    "        self.car_id = car_id\n",
    "\n",
    "    def display_car_info(self):\n",
    "        self.display_vehicle_info()\n",
    "        print(f\"Car ID: {self.car_id}\")\n",
    "        self.display_insurance_info()\n",
    "\n",
    "\n",
    "# Taking user input\n",
    "make = input(\"Enter the car make: \")\n",
    "model = input(\"Enter the car model: \")\n",
    "car_id = input(\"Enter the car ID: \")\n",
    "insurance_provider = input(\"Enter the insurance provider: \")\n",
    "insurance_expiry = input(\"Enter the insurance expiry date (YYYY-MM-DD): \")\n",
    "\n",
    "# Creating an instance of Car\n",
    "car = Car(make, model, car_id, insurance_provider, insurance_expiry)\n",
    "\n",
    "# Displaying car information\n",
    "car.display_car_info()"
   ]
  },
  {
   "cell_type": "code",
   "execution_count": 1,
   "id": "8e0bc9ed",
   "metadata": {},
   "outputs": [
    {
     "name": "stdout",
     "output_type": "stream",
     "text": [
      "Enter the laptop brand: Apple\n",
      "Enter the laptop model: MacBook Air\n",
      "Enter the laptop serial number: SN12345\n",
      "Enter the warranty provider: AppleCare\n",
      "Enter the warranty expiry date (YYYY-MM-DD): 2025-07-12\n",
      "Brand: Apple\n",
      "Model: MacBook Air\n",
      "Serial Number: SN12345\n",
      "Warranty Provider: AppleCare\n",
      "Warranty Expiry: 2025-07-12\n"
     ]
    }
   ],
   "source": [
    "# Base class Electronic Device\n",
    "class ElectronicDevice:\n",
    "    def __init__(self, brand, model):\n",
    "        self.brand = brand\n",
    "        self.model = model\n",
    "\n",
    "    def display_device_info(self):\n",
    "        print(f\"Brand: {self.brand}\")\n",
    "        print(f\"Model: {self.model}\")\n",
    "\n",
    "\n",
    "# Base class Warranty\n",
    "class Warranty:\n",
    "    def __init__(self, warranty_provider, warranty_expiry):\n",
    "        self.warranty_provider = warranty_provider\n",
    "        self.warranty_expiry = warranty_expiry\n",
    "\n",
    "    def display_warranty_info(self):\n",
    "        print(f\"Warranty Provider: {self.warranty_provider}\")\n",
    "        print(f\"Warranty Expiry: {self.warranty_expiry}\")\n",
    "\n",
    "\n",
    "# Derived class Laptop\n",
    "class Laptop(ElectronicDevice, Warranty):\n",
    "    def __init__(self, brand, model, serial_number, warranty_provider, warranty_expiry):\n",
    "        # Initialize both base classes\n",
    "        ElectronicDevice.__init__(self, brand, model)\n",
    "        Warranty.__init__(self, warranty_provider, warranty_expiry)\n",
    "        self.serial_number = serial_number\n",
    "\n",
    "    def display_laptop_info(self):\n",
    "        # Call methods from both base classes\n",
    "        self.display_device_info()\n",
    "        print(f\"Serial Number: {self.serial_number}\")\n",
    "        self.display_warranty_info()\n",
    "\n",
    "\n",
    "# Taking user input\n",
    "brand = input(\"Enter the laptop brand: \")\n",
    "model = input(\"Enter the laptop model: \")\n",
    "serial_number = input(\"Enter the laptop serial number: \")\n",
    "warranty_provider = input(\"Enter the warranty provider: \")\n",
    "warranty_expiry = input(\"Enter the warranty expiry date (YYYY-MM-DD): \")\n",
    "\n",
    "# Creating an instance of Laptop\n",
    "laptop = Laptop(brand, model, serial_number, warranty_provider, warranty_expiry)\n",
    "\n",
    "# Displaying laptop information\n",
    "laptop.display_laptop_info()"
   ]
  },
  {
   "cell_type": "code",
   "execution_count": 1,
   "id": "ec6e6afd",
   "metadata": {},
   "outputs": [
    {
     "name": "stdout",
     "output_type": "stream",
     "text": [
      "Enter the eBook title: 1984\n",
      "Enter the eBook author: George Orwell\n",
      "Enter the eBook file format (e.g., PDF, EPUB): PDF\n",
      "Enter the eBook file size (e.g., 2MB, 3MB): 3MB\n",
      "Title: 1984\n",
      "Author: George Orwell\n",
      "File Format: PDF\n",
      "File Size: 3MB\n"
     ]
    }
   ],
   "source": [
    "#Multilevel Inheritance\n",
    "# Base class Media\n",
    "class Media:\n",
    "    def __init__(self, title, author):\n",
    "        self.title = title\n",
    "        self.author = author\n",
    "\n",
    "    def display_media_info(self):\n",
    "        print(f\"Title: {self.title}\")\n",
    "        print(f\"Author: {self.author}\")\n",
    "\n",
    "# Derived class DigitalMedia\n",
    "class DigitalMedia(Media):\n",
    "    def __init__(self, title, author, file_format):\n",
    "        super().__init__(title, author)  # Initialize base class attributes\n",
    "        self.file_format = file_format\n",
    "\n",
    "    def display_digital_media_info(self):\n",
    "        self.display_media_info()  # Call method from base class\n",
    "        print(f\"File Format: {self.file_format}\")\n",
    "\n",
    "# Derived class EBook\n",
    "class EBook(DigitalMedia):\n",
    "    def __init__(self, title, author, file_format, file_size):\n",
    "        super().__init__(title, author, file_format)  # Initialize base and intermediate class attributes\n",
    "        self.file_size = file_size\n",
    "\n",
    "    def display_ebook_info(self):\n",
    "        self.display_digital_media_info()  # Call method from intermediate class\n",
    "        print(f\"File Size: {self.file_size}\")\n",
    "\n",
    "# Taking user input\n",
    "title = input(\"Enter the eBook title: \")\n",
    "author = input(\"Enter the eBook author: \")\n",
    "file_format = input(\"Enter the eBook file format (e.g., PDF, EPUB): \")\n",
    "file_size = input(\"Enter the eBook file size (e.g., 2MB, 3MB): \")\n",
    "\n",
    "# Creating an instance of EBook\n",
    "ebook = EBook(title, author, file_format, file_size)\n",
    "\n",
    "# Displaying eBook information\n",
    "ebook.display_ebook_info()"
   ]
  },
  {
   "cell_type": "code",
   "execution_count": 2,
   "id": "ccbb893b",
   "metadata": {},
   "outputs": [
    {
     "name": "stdout",
     "output_type": "stream",
     "text": [
      "Enter the brand of the car: Ford\n",
      "Enter the model of the car: Mustang\n",
      "Enter the engine type of the car: V8\n",
      "Enter the battery capacity of the car: N/A\n",
      "Brand: Ford\n",
      "Model: Mustang\n",
      "Engine Type: V8\n",
      "Battery Capacity: N/A\n"
     ]
    }
   ],
   "source": [
    "class Vehicle:\n",
    "    def __init__(self, brand, model):\n",
    "        self.brand = brand\n",
    "        self.model = model\n",
    "\n",
    "    def display_vehicle_info(self):\n",
    "        print(f\"Brand: {self.brand}\")\n",
    "        print(f\"Model: {self.model}\")\n",
    "\n",
    "class Engine:\n",
    "    def __init__(self, engine_type):\n",
    "        self.engine_type = engine_type\n",
    "\n",
    "    def display_engine_info(self):\n",
    "        print(f\"Engine Type: {self.engine_type}\")\n",
    "\n",
    "class Car(Vehicle, Engine):\n",
    "    def __init__(self, brand, model, engine_type):\n",
    "        Vehicle.__init__(self, brand, model)\n",
    "        Engine.__init__(self, engine_type)\n",
    "\n",
    "    def display_car_info(self):\n",
    "        self.display_vehicle_info()\n",
    "        self.display_engine_info()\n",
    "\n",
    "class ElectricCar(Car):\n",
    "    def __init__(self, brand, model, engine_type, battery_capacity):\n",
    "        super().__init__(brand, model, engine_type)\n",
    "        self.battery_capacity = battery_capacity\n",
    "\n",
    "    def display_electric_car_info(self):\n",
    "        self.display_car_info()\n",
    "        print(f\"Battery Capacity: {self.battery_capacity}\")\n",
    "\n",
    "# Prompt user for input\n",
    "brand = input(\"Enter the brand of the car: \")\n",
    "model = input(\"Enter the model of the car: \")\n",
    "engine_type = input(\"Enter the engine type of the car: \")\n",
    "battery_capacity = input(\"Enter the battery capacity of the car: \")\n",
    "\n",
    "# Create an instance of ElectricCar\n",
    "electric_car = ElectricCar(brand, model, engine_type, battery_capacity)\n",
    "\n",
    "# Display the electric car's information\n",
    "electric_car.display_electric_car_info()"
   ]
  },
  {
   "cell_type": "code",
   "execution_count": null,
   "id": "fcf0f727",
   "metadata": {},
   "outputs": [],
   "source": [
    "Polymorphism : poly means many, morph : forms, One function or method works with different types of things.\n",
    "Types of Polymorphism\n",
    "1. Duck Typing\n",
    "2. Method Overriding\n",
    "3. Method Overloading(Simulated)\n",
    "4. Operator Overloading"
   ]
  },
  {
   "cell_type": "code",
   "execution_count": null,
   "id": "fcd7d104",
   "metadata": {},
   "outputs": [],
   "source": [
    "1. Duck Typing :- Duck typing means you can use any object that has the behaviour, without worring about its exact type.\n",
    "Eg: You have a parrot and a remote-controlled airplane. Both of these can fly, but they are clearly different, Duck typing says\n",
    "\"I don't care if it's parrot or an airplane, as long as it can fly.\" if it has a fly() method we can use it."
   ]
  },
  {
   "cell_type": "code",
   "execution_count": 3,
   "id": "1244eeba",
   "metadata": {},
   "outputs": [
    {
     "name": "stdout",
     "output_type": "stream",
     "text": [
      "Parrot is flying high in the sky!\n",
      "Airplane is taking off!\n"
     ]
    }
   ],
   "source": [
    "class Parrot:\n",
    "    def fly(self):\n",
    "        print(\"Parrot is flying high in the sky!\")\n",
    "        \n",
    "class Airplane:\n",
    "    def fly(self):\n",
    "        print(\"Airplane is taking off!\")\n",
    "        \n",
    "#Function using Duck Typing\n",
    "def make_it_fly(thing):\n",
    "    thing.fly()\n",
    "    \n",
    "#creating instances\n",
    "parrot = Parrot()\n",
    "airplane = Airplane()\n",
    "\n",
    "#Passing different objects to the same function\n",
    "make_it_fly(parrot)\n",
    "make_it_fly(airplane)"
   ]
  },
  {
   "cell_type": "code",
   "execution_count": null,
   "id": "5873d39e",
   "metadata": {},
   "outputs": [],
   "source": [
    "2. Method Overriding :- Method overriding happens when a child class creates its own version of a method that already exists\n",
    "in its parent class."
   ]
  },
  {
   "cell_type": "code",
   "execution_count": 5,
   "id": "9a2c61e8",
   "metadata": {},
   "outputs": [
    {
     "name": "stdout",
     "output_type": "stream",
     "text": [
      "Vehicle is moving\n",
      "Car is driving on the road\n",
      "Bicycle is being pedaled on the path\n"
     ]
    }
   ],
   "source": [
    "class Vehicle:\n",
    "    def move(self):\n",
    "        print(\"Vehicle is moving\")\n",
    "        \n",
    "class Car(Vehicle):\n",
    "    #Override\n",
    "    def move(self):\n",
    "        print(\"Car is driving on the road\")\n",
    "        \n",
    "class Bicycle(Vehicle):\n",
    "    #Override\n",
    "    def move(self):\n",
    "        print(\"Bicycle is being pedaled on the path\")\n",
    "        \n",
    "v = Vehicle()\n",
    "c = Car()\n",
    "b = Bicycle()\n",
    "\n",
    "v.move()\n",
    "c.move()\n",
    "b.move()"
   ]
  },
  {
   "cell_type": "code",
   "execution_count": null,
   "id": "78adc007",
   "metadata": {},
   "outputs": [],
   "source": [
    "Method Overloading: Python doesnt support method overloading directly, simulating it with default arguments still shows\n",
    "\n",
    "polymorphism. It allows one function to work in different ways, depending on how many arguments you provide, giving the\n",
    "function multiple forms."
   ]
  },
  {
   "cell_type": "code",
   "execution_count": 6,
   "id": "18f37734",
   "metadata": {},
   "outputs": [
    {
     "name": "stdout",
     "output_type": "stream",
     "text": [
      "15\n",
      "30\n"
     ]
    }
   ],
   "source": [
    "class Calculator:\n",
    "    def add(self, a, b, c=0):\n",
    "        return a+b+c\n",
    "    \n",
    "#creating an instance\n",
    "calc = Calculator()\n",
    "\n",
    "#Demonstrating simulated overloading\n",
    "print(calc.add(5, 10))\n",
    "print(calc.add(5, 10, 15))"
   ]
  },
  {
   "cell_type": "code",
   "execution_count": 7,
   "id": "db922a1d",
   "metadata": {},
   "outputs": [],
   "source": [
    "Operator Overloading: Operator overloading lets you change how operators like +, -, and * work with objects of a custom class.\n",
    "\n",
    "For example: Adding two custum point objects that represent coordinates, which makes using + feel natural and intuitive for\n",
    "these objects. This make custom classes more intuitive and easy to use.\n",
    "\n",
    "When you use operators like + or - on objects, pyhton implicitly calls specific functions within the class. By overriding these\n",
    "functions, You can modify the behaviour of these operators for your custom class.\n",
    "\n",
    "  Operator       Function\n",
    "     +           __add__()\n",
    "     -           __sub__()\n",
    "     *           __mul__()\n",
    "     /        __truediv__()\n",
    "     %           __mod__()\n",
    "     ==          __eq__()\n",
    "     <           __lt__()\n",
    "     >           __gt__()"
   ]
  },
  {
   "cell_type": "code",
   "execution_count": 8,
   "id": "35bb4e26",
   "metadata": {},
   "outputs": [
    {
     "name": "stdout",
     "output_type": "stream",
     "text": [
      "(6, 8)\n"
     ]
    }
   ],
   "source": [
    "class Point:\n",
    "    def __init__(self, x, y):\n",
    "        self.x = x\n",
    "        self.y = y\n",
    "        \n",
    "    def __add__(self, other):\n",
    "        return Point(self.x + other.x, self.y + other.y)\n",
    "    \n",
    "    def __str__(self):\n",
    "        return f\"({self.x}, {self.y})\"\n",
    "    \n",
    "#Creating instances\n",
    "p1 = Point(2, 3)\n",
    "p2 = Point(4, 5)\n",
    "\n",
    "#Adding points using the overloaded + operator\n",
    "p3 = p1 + p2\n",
    "print(p3)"
   ]
  },
  {
   "cell_type": "code",
   "execution_count": 9,
   "id": "07f40a36",
   "metadata": {},
   "outputs": [
    {
     "name": "stdout",
     "output_type": "stream",
     "text": [
      "Enter the name for the circle: Circle X\n",
      "Enter the name for the square: Square Y\n",
      "Circle X: Area of Circle: pi * r^2\n",
      "Square Y: Area of Square: side * side\n"
     ]
    }
   ],
   "source": [
    "class Shape:\n",
    "    def __init__(self, name):\n",
    "        self.name = name\n",
    "\n",
    "    def area(self):\n",
    "        print(\"Calculating area...\")\n",
    "\n",
    "class Circle(Shape):\n",
    "    def __init__(self, name):\n",
    "        super().__init__(name)\n",
    "\n",
    "    def area(self):\n",
    "        print(f\"{self.name}: Area of Circle: pi * r^2\")\n",
    "\n",
    "class Square(Shape):\n",
    "    def __init__(self, name):\n",
    "        super().__init__(name)\n",
    "\n",
    "    def area(self):\n",
    "        print(f\"{self.name}: Area of Square: side * side\")\n",
    "\n",
    "# Prompting user input for names\n",
    "circle_name = input(\"Enter the name for the circle: \")\n",
    "square_name = input(\"Enter the name for the square: \")\n",
    "\n",
    "# Creating instances\n",
    "circle = Circle(circle_name)\n",
    "square = Square(square_name)\n",
    "\n",
    "# Demonstrating polymorphism by calling area method\n",
    "circle.area()\n",
    "square.area()"
   ]
  },
  {
   "cell_type": "code",
   "execution_count": 10,
   "id": "00adb79b",
   "metadata": {},
   "outputs": [
    {
     "name": "stdout",
     "output_type": "stream",
     "text": [
      "Enter the name for the Dog: Buddy\n",
      "Enter the name for the Cat: Luna\n",
      "Buddy says: Bow! Bow!\n",
      "Luna says: Meow! Meow!\n"
     ]
    }
   ],
   "source": [
    "class Animal:\n",
    "    def __init__(self, name):\n",
    "        self.name = name\n",
    "\n",
    "    def make_sound(self):\n",
    "        print(\"Some generic sound\")\n",
    "\n",
    "class Dog(Animal):\n",
    "    def __init__(self, name):\n",
    "        super().__init__(name)\n",
    "\n",
    "    def make_sound(self):\n",
    "        print(f\"{self.name} says: Bow! Bow!\")\n",
    "\n",
    "class Cat(Animal):\n",
    "    def __init__(self, name):\n",
    "        super().__init__(name)\n",
    "\n",
    "    def make_sound(self):\n",
    "        print(f\"{self.name} says: Meow! Meow!\")\n",
    "\n",
    "# Prompting user input for names\n",
    "dog_name = input(\"Enter the name for the Dog: \")\n",
    "cat_name = input(\"Enter the name for the Cat: \")\n",
    "\n",
    "# Creating instances\n",
    "dog = Dog(dog_name)\n",
    "cat = Cat(cat_name)\n",
    "\n",
    "# Demonstrating polymorphism by calling area method\n",
    "dog.make_sound()\n",
    "cat.make_sound()"
   ]
  },
  {
   "cell_type": "code",
   "execution_count": 11,
   "id": "c67236d2",
   "metadata": {},
   "outputs": [
    {
     "name": "stdout",
     "output_type": "stream",
     "text": [
      "Writing code...\n",
      "Creating designs...\n",
      "Testing software...\n"
     ]
    }
   ],
   "source": [
    "#Duck typing\n",
    "\n",
    "#Define developer class\n",
    "class Developer:\n",
    "    def work(self):\n",
    "        print(\"Writing code...\")\n",
    "        \n",
    "#Define the designer class\n",
    "class Designer:\n",
    "    def work(self):\n",
    "        print(\"Creating designs...\")\n",
    "        \n",
    "#Define the tester class\n",
    "class Tester:\n",
    "    def work(self):\n",
    "        print(\"Testing software...\")\n",
    "        \n",
    "#Creating instances of developer, designer and tester\n",
    "developer = Developer()\n",
    "designer = Designer()\n",
    "tester = Tester()\n",
    "\n",
    "#Use the work methods to display the tasks performed by each worker\n",
    "developer.work()\n",
    "designer.work()\n",
    "tester.work()"
   ]
  },
  {
   "cell_type": "code",
   "execution_count": 12,
   "id": "39f3a705",
   "metadata": {},
   "outputs": [
    {
     "name": "stdout",
     "output_type": "stream",
     "text": [
      "Enter the real part of the first complex number: 3\n",
      "Enter the imaginary part of the first complex number: 2\n",
      "Enter the real part of the second complex number: 1\n",
      "Enter the imaginary part of the second complex number: 7\n",
      "Sum: 4 + 9i\n",
      "Product: -11 + 23i\n"
     ]
    }
   ],
   "source": [
    "#Operator overloading\n",
    "\n",
    "class ComplexNumber:\n",
    "    def __init__(self, real, imaginary):\n",
    "        self.real = real\n",
    "        self.imaginary = imaginary\n",
    "\n",
    "    def __add__(self, other):\n",
    "        # Adding real and imaginary parts\n",
    "        return ComplexNumber(self.real + other.real, self.imaginary + other.imaginary)\n",
    "\n",
    "    def __mul__(self, other):\n",
    "        # Multiplying complex numbers\n",
    "        real_part = self.real * other.real - self.imaginary * other.imaginary\n",
    "        imaginary_part = self.real * other.imaginary + self.imaginary * other.real\n",
    "        return ComplexNumber(real_part, imaginary_part)\n",
    "\n",
    "    def __str__(self):\n",
    "        # Formatting as \"a + bi\"\n",
    "        return f\"{self.real} + {self.imaginary}i\"\n",
    "\n",
    "\n",
    "# Input for two complex numbers\n",
    "real1 = int(input(\"Enter the real part of the first complex number: \"))\n",
    "imaginary1 = int(input(\"Enter the imaginary part of the first complex number: \"))\n",
    "real2 = int(input(\"Enter the real part of the second complex number: \"))\n",
    "imaginary2 = int(input(\"Enter the imaginary part of the second complex number: \"))\n",
    "\n",
    "# Creating instances of ComplexNumber\n",
    "c1 = ComplexNumber(real1, imaginary1)\n",
    "c2 = ComplexNumber(real2, imaginary2)\n",
    "\n",
    "# Performing arithmetic operations\n",
    "sum_result = c1 + c2\n",
    "product_result = c1 * c2\n",
    "\n",
    "# Printing the results\n",
    "print(f\"Sum: {sum_result}\")\n",
    "print(f\"Product: {product_result}\")"
   ]
  },
  {
   "cell_type": "code",
   "execution_count": null,
   "id": "b4958bcd",
   "metadata": {},
   "outputs": [],
   "source": [
    "Abstraction :- Abstraction is achieved mainly through abstract classes and interfaces. These tools allow developers to create a\n",
    "blueprint for other classes without implementing complete details.\n",
    "\n",
    "Abstract class :- An abstract class is a class that cannot be instantiated on its own.cIt serves as a template that other\n",
    "classes inherit from. Abstract classes contain one or more abstract methods - methods that are declared but have no\n",
    "implementation. Child classes are then responsible for providing the implementation of these methods."
   ]
  },
  {
   "cell_type": "code",
   "execution_count": 8,
   "id": "e734c8d0",
   "metadata": {},
   "outputs": [
    {
     "name": "stdout",
     "output_type": "stream",
     "text": [
      "Car is starting\n",
      "Car is stopping\n"
     ]
    }
   ],
   "source": [
    "from abc import ABC, abstractmethod\n",
    "\n",
    "#Abstract class\n",
    "class Vehicle(ABC):\n",
    "    \n",
    "    @abstractmethod\n",
    "    def start(self):\n",
    "        pass\n",
    "    \n",
    "    @abstractmethod\n",
    "    def stop(self):\n",
    "        pass\n",
    "    \n",
    "#concrete class inheriting from the abstract class\n",
    "class Car(Vehicle):\n",
    "    def start(self):\n",
    "        print(\"Car is starting\")\n",
    "        \n",
    "    def stop(self):\n",
    "        print(\"Car is stopping\")\n",
    "        \n",
    "#Creating an instance of car\n",
    "my_car = Car()\n",
    "my_car.start()\n",
    "my_car.stop()"
   ]
  },
  {
   "cell_type": "code",
   "execution_count": null,
   "id": "2a413e24",
   "metadata": {},
   "outputs": [],
   "source": [
    "Interfaces :- Python does not have a built-in concept od interfaces, However abstract classes can serve as interfaces by\n",
    "defining a set of methods thet must be implemented by any subclass."
   ]
  },
  {
   "cell_type": "code",
   "execution_count": 9,
   "id": "c0a21613",
   "metadata": {},
   "outputs": [
    {
     "name": "stdout",
     "output_type": "stream",
     "text": [
      "Processing credit card payment of 100 dollars\n",
      "Processing PayPal payment of 150 dollars\n"
     ]
    }
   ],
   "source": [
    "from abc import ABC, abstractmethod\n",
    "\n",
    "class PaymentProcessor(ABC):  #Abstract class that acts like an interface\n",
    "    @abstractmethod\n",
    "    def process_payment(self, amount):\n",
    "        pass\n",
    "    \n",
    "class CreditCardPayment(PaymentProcessor):\n",
    "    def process_payment(self, amount):\n",
    "        print(f\"Processing credit card payment of {amount} dollars\")\n",
    "        \n",
    "class PayPalPayment(PaymentProcessor):\n",
    "    def process_payment(self, amount):\n",
    "        print(f\"Processing PayPal payment of {amount} dollars\")\n",
    "        \n",
    "#creating instances\n",
    "credit_payment = CreditCardPayment()\n",
    "paypal_payment = PayPalPayment()\n",
    "\n",
    "credit_payment.process_payment(100)\n",
    "paypal_payment.process_payment(150)"
   ]
  },
  {
   "cell_type": "code",
   "execution_count": 10,
   "id": "40c22e68",
   "metadata": {},
   "outputs": [
    {
     "name": "stdout",
     "output_type": "stream",
     "text": [
      "Enter the length of the rectangle: 4\n",
      "Enter the width of the rectangle: 6\n",
      "Enter the radius of the circle: 5\n",
      "Rectangle Area: 24.00\n",
      "Rectangle Perimeter: 20.00\n",
      "Circle Area: 78.54\n",
      "Circle Perimeter: 31.42\n"
     ]
    }
   ],
   "source": [
    "from abc import ABC, abstractmethod\n",
    "import math\n",
    "\n",
    "# Abstract base class\n",
    "class Shape(ABC):\n",
    "    \n",
    "    @abstractmethod\n",
    "    def area(self):\n",
    "        pass\n",
    "\n",
    "    @abstractmethod\n",
    "    def perimeter(self):\n",
    "        pass\n",
    "\n",
    "# Rectangle class inheriting from Shape\n",
    "class Rectangle(Shape):\n",
    "    def __init__(self, length, width):\n",
    "        self.length = length\n",
    "        self.width = width\n",
    "\n",
    "    def area(self):\n",
    "        return self.length * self.width\n",
    "\n",
    "    def perimeter(self):\n",
    "        return 2 * (self.length + self.width)\n",
    "\n",
    "# Circle class inheriting from Shape\n",
    "class Circle(Shape):\n",
    "    def __init__(self, radius):\n",
    "        self.radius = radius\n",
    "\n",
    "    def area(self):\n",
    "        return math.pi * (self.radius ** 2)\n",
    "\n",
    "    def perimeter(self):\n",
    "        return 2 * math.pi * self.radius\n",
    "\n",
    "# Create instances of Rectangle and Circle\n",
    "length = float(input(\"Enter the length of the rectangle: \"))\n",
    "width = float(input(\"Enter the width of the rectangle: \"))\n",
    "radius = float(input(\"Enter the radius of the circle: \"))\n",
    "\n",
    "rectangle = Rectangle(length, width)\n",
    "circle = Circle(radius)\n",
    "\n",
    "# Display the area and perimeter of each shape\n",
    "print(f\"Rectangle Area: {rectangle.area():.2f}\")\n",
    "print(f\"Rectangle Perimeter: {rectangle.perimeter():.2f}\")\n",
    "print(f\"Circle Area: {circle.area():.2f}\")\n",
    "print(f\"Circle Perimeter: {circle.perimeter():.2f}\")"
   ]
  },
  {
   "cell_type": "code",
   "execution_count": 12,
   "id": "5a7997b7",
   "metadata": {},
   "outputs": [
    {
     "name": "stdout",
     "output_type": "stream",
     "text": [
      "Enter the amount for Credit Card Payment: 100\n",
      "Enter the amount for PayPal Payment: 150\n",
      "Payment of 100.0 made using Credit Card.\n",
      "Payment of 150.0 made using PayPal.\n"
     ]
    }
   ],
   "source": [
    "from abc import ABC, abstractmethod\n",
    "\n",
    "# Abstract base class\n",
    "class Payment(ABC):\n",
    "    @abstractmethod\n",
    "    def pay(self):\n",
    "        pass\n",
    "\n",
    "# Derived class for credit card payment\n",
    "class CreditCardPayment(Payment):\n",
    "    def __init__(self, amount):\n",
    "        self.amount = amount\n",
    "\n",
    "    def pay(self):\n",
    "        print(f\"Payment of {self.amount:.1f} made using Credit Card.\")\n",
    "\n",
    "# Derived class for PayPal payment\n",
    "class PayPalPayment(Payment):\n",
    "    def __init__(self, amount):\n",
    "        self.amount = amount\n",
    "\n",
    "    def pay(self):\n",
    "        print(f\"Payment of {self.amount:.1f} made using PayPal.\")\n",
    "\n",
    "# Prompt the user for payment amounts\n",
    "credit_card_amount = float(input(\"Enter the amount for Credit Card Payment: \"))\n",
    "paypal_amount = float(input(\"Enter the amount for PayPal Payment: \"))\n",
    "\n",
    "# Create instances of the payment methods\n",
    "credit_card_payment = CreditCardPayment(credit_card_amount)\n",
    "paypal_payment = PayPalPayment(paypal_amount)\n",
    "\n",
    "# Display the payment process\n",
    "credit_card_payment.pay()\n",
    "paypal_payment.pay()\n"
   ]
  },
  {
   "cell_type": "code",
   "execution_count": 16,
   "id": "c2b6d5b8",
   "metadata": {},
   "outputs": [
    {
     "name": "stdout",
     "output_type": "stream",
     "text": [
      "Enter number of days for car rental: 3\n",
      "Enter number of hours for bike rental: 5\n",
      "Car rental for 3 days.\n",
      "Bike rental for 5 hours.\n"
     ]
    }
   ],
   "source": [
    "from abc import ABC, abstractmethod\n",
    "\n",
    "# Abstract base class\n",
    "class VehicleRental(ABC):\n",
    "    @abstractmethod\n",
    "    def rent(self):\n",
    "        pass\n",
    "\n",
    "# Derived class for CarRental\n",
    "class CarRental(VehicleRental):\n",
    "    def __init__(self, days):\n",
    "        self.days = days\n",
    "\n",
    "    def rent(self):\n",
    "        print(f\"Car rental for {self.days} days.\")\n",
    "\n",
    "# Derived class for BikeRental\n",
    "class BikeRental(VehicleRental):\n",
    "    def __init__(self, hours):\n",
    "        self.hours = hours\n",
    "\n",
    "    def rent(self):\n",
    "        print(f\"Bike rental for {self.hours} hours.\")\n",
    "\n",
    "# Prompt the user for rental durations\n",
    "car_rental_days = int(input(\"Enter number of days for car rental: \"))\n",
    "bike_rental_hours = int(input(\"Enter number of hours for bike rental: \"))\n",
    "\n",
    "# Create instances of CarRental and BikeRental\n",
    "car_rental = CarRental(car_rental_days)\n",
    "bike_rental = BikeRental(bike_rental_hours)\n",
    "# Display the rental process\n",
    "car_rental.rent()\n",
    "bike_rental.rent()"
   ]
  },
  {
   "cell_type": "code",
   "execution_count": null,
   "id": "399b97b7",
   "metadata": {},
   "outputs": [],
   "source": [
    "Encapsulation :- Encapsulation is the core idea in object-oriented programming(OOP).\n",
    "\n",
    "It bundles data (attributes) and the methods that operate on that data into a single unit called a class.\n",
    "\n",
    "In python, encapsulation is mainly done by controlling how attributes and methods can be accessed.\n",
    "\n",
    "There are three levels:\n",
    "\n",
    "1. Public members : These can be accessed from anywhere. By default, all members of a class are public.\n",
    "\n",
    "2. Protected members : These are marked with a single underscore _before the name. They shouldn't be accessed directly from\n",
    "outside the class, but they can be used by subclasses. This allows subclasses to extend or modify behaviour while keeping\n",
    "control over how the attribute is used.\n",
    "\n",
    "3. Private members : These are marked with a double underscore __before the name. They cannot be accesseddirectly from outside\n",
    "the class, offering the highest level of protection."
   ]
  },
  {
   "cell_type": "code",
   "execution_count": 1,
   "id": "ef65df2c",
   "metadata": {},
   "outputs": [
    {
     "name": "stdout",
     "output_type": "stream",
     "text": [
      "Alice\n",
      "30\n",
      "35\n",
      "Invalid age. Age must be positive.\n"
     ]
    }
   ],
   "source": [
    "class Person:\n",
    "    def __init__(self, name, age):\n",
    "        self.name = name    #Public attribute\n",
    "        self.__age = age    #Private attribute\n",
    "        \n",
    "    #Public method to get age\n",
    "    def get_age(self):\n",
    "        return self.__age\n",
    "    \n",
    "    #public method to set age (with some validation)\n",
    "    def set_age(self, age):\n",
    "        if age > 0:\n",
    "            self.__age = age\n",
    "        else:\n",
    "            print(\"Invalid age. Age must be positive.\")\n",
    "            \n",
    "#Creating an instance of person\n",
    "person1 = Person(\"Alice\", 30)\n",
    "\n",
    "#Accessing public and private members\n",
    "print(person1.name)\n",
    "print(person1.get_age())\n",
    "\n",
    "person1.set_age(35) #Updating age\n",
    "print(person1.get_age())\n",
    "\n",
    "person1.set_age(-5)"
   ]
  },
  {
   "cell_type": "code",
   "execution_count": 3,
   "id": "08e6401e",
   "metadata": {},
   "outputs": [
    {
     "name": "stdout",
     "output_type": "stream",
     "text": [
      "Toyota\n",
      "Corolla\n",
      "Car: Toyota Corolla\n"
     ]
    }
   ],
   "source": [
    "#Public Members:\n",
    "class Car:\n",
    "    def __init__(self, make, model):\n",
    "        self.make = make      #public attribute\n",
    "        self.model = model    #Public attribute\n",
    "        \n",
    "    def display_info(self):\n",
    "        print(f\"Car: {self.make} {self.model}\")\n",
    "        \n",
    "#Creating an instance of Car\n",
    "my_car = Car(\"Toyota\", \"Corolla\")\n",
    "\n",
    "#Accessing public attributes and method\n",
    "print(my_car.make)\n",
    "print(my_car.model)\n",
    "my_car.display_info()"
   ]
  },
  {
   "cell_type": "code",
   "execution_count": 5,
   "id": "4a4fd19d",
   "metadata": {},
   "outputs": [
    {
     "name": "stdout",
     "output_type": "stream",
     "text": [
      "1984\n",
      "Book: 1984 by George Orwell\n"
     ]
    }
   ],
   "source": [
    "#Protected Members:\n",
    "class Book:\n",
    "    def __init__(self, title, author):\n",
    "        self._title = title   #Protected attribute\n",
    "        self._author = author #Protected attribute\n",
    "        \n",
    "    def _display_info(self):    #Protected method\n",
    "        print(f\"Book: {self._title} by {self._author}\")\n",
    "        \n",
    "#Creating an instance of book\n",
    "my_book = Book(\"1984\", \"George Orwell\")\n",
    "\n",
    "#Accessing protected attributes and method (not recommended)\n",
    "print(my_book._title)\n",
    "my_book._display_info()"
   ]
  },
  {
   "cell_type": "code",
   "execution_count": 9,
   "id": "753f3609",
   "metadata": {},
   "outputs": [
    {
     "name": "stdout",
     "output_type": "stream",
     "text": [
      "Alice\n",
      "1000\n"
     ]
    }
   ],
   "source": [
    "#Private members:\n",
    "class BankAccount:\n",
    "    def __init__(self, owner, balance):\n",
    "        self.owner = owner        #Public attribute\n",
    "        self.__balance = balance  #Private attribute\n",
    "    \n",
    "    def deposit(self, amount):\n",
    "        if amount > 0:\n",
    "            self.__balance += amount\n",
    "            print(f\"Deposited {amount}. New balance: {self.__balance}\")\n",
    "        else:\n",
    "            print(\"Invalid amount. Please enter a positive value.\")\n",
    "    \n",
    "    def get_balance(self):\n",
    "        return self.__balance\n",
    "    \n",
    "#Creating an instance of BankAccount\n",
    "my_account = BankAccount(\"Alice\", 1000)\n",
    "\n",
    "#Accessing public and privete attributes\n",
    "print(my_account.owner)\n",
    "print(my_account.get_balance())\n",
    "\n",
    "#Attempting to access private attribute directly (will raise an error)\n",
    "#print(my_account.__balance)  AttributeError: 'BankAccount' object has no attribute '__balance'"
   ]
  },
  {
   "cell_type": "code",
   "execution_count": 10,
   "id": "2ccde2fd",
   "metadata": {},
   "outputs": [
    {
     "name": "stdout",
     "output_type": "stream",
     "text": [
      "1984\n",
      "George Orwell\n"
     ]
    }
   ],
   "source": [
    "#Accessing Protected and Private Members Directly\n",
    "class Book:\n",
    "    def __init__(self, title, author):\n",
    "        self._title = title    #Protected attribute\n",
    "        self._author = author  #Protected attribute\n",
    "        \n",
    "#Creating an instance of Book\n",
    "my_book = Book(\"1984\", \"George Orwell\")\n",
    "\n",
    "#Accessing protected attributes directly\n",
    "print(my_book._title)\n",
    "print(my_book._author)"
   ]
  },
  {
   "cell_type": "code",
   "execution_count": null,
   "id": "5d877c8c",
   "metadata": {},
   "outputs": [],
   "source": [
    "Accessing Private Members with Name Mangling\n",
    "Private members, marked with double underscores(_), cannot be accessed directly from outside the class.\n",
    "However, Python uses name mangling to make them accessible in special cases by modifying the attribute name internally."
   ]
  },
  {
   "cell_type": "code",
   "execution_count": 11,
   "id": "c10b1b82",
   "metadata": {},
   "outputs": [
    {
     "name": "stdout",
     "output_type": "stream",
     "text": [
      "1000\n"
     ]
    }
   ],
   "source": [
    "class BankAccount:\n",
    "    def __init__(self, owner, balance):\n",
    "        self.owner = owner         #Public attribute\n",
    "        self.__balance = balance   #Private attribute\n",
    "        \n",
    "    def get_balance(self):\n",
    "        return self.__balance\n",
    "    \n",
    "#Creating an instance of BankAccount\n",
    "my_account = BankAccount(\"Alice\", 1000)\n",
    "\n",
    "#Attempting to access private attribute directly (will raise an error)\n",
    "#print(my_account.__balance) AttributeError: 'BankAccount' object has no attribute '__balance'\n",
    "\n",
    "#Accessing the private attribute using name mangling\n",
    "print(my_account._BankAccount__balance)"
   ]
  },
  {
   "cell_type": "code",
   "execution_count": 19,
   "id": "9299a8b5",
   "metadata": {},
   "outputs": [
    {
     "name": "stdout",
     "output_type": "stream",
     "text": [
      "Enter deposit amount: 1000\n",
      "Enter withdraw amount: 500\n",
      "Deposit of 1000 successful. Current balance: 1000\n",
      "Withdrawal of 500 successful. Current balance: 500\n"
     ]
    }
   ],
   "source": [
    "# Define the BankAccount class\n",
    "class BankAccount:\n",
    "    def __init__(self):\n",
    "        self.__balance = 0  # Private attribute to store balance\n",
    "        \n",
    "    def deposit(self, amount):\n",
    "        if amount > 0:\n",
    "            self.__balance += amount\n",
    "            print(f\"Deposit of {amount} successful. Current balance: {self.__balance}\")\n",
    "        else:\n",
    "            print(\"Deposit amount must be greater than zero.\")\n",
    "\n",
    "    def withdraw(self, amount):\n",
    "        if amount > 0:\n",
    "            if amount <= self.__balance:\n",
    "                self.__balance -= amount\n",
    "                print (f\"Withdrawal of {amount} successful. Current balance: {self.__balance}\")\n",
    "            else:\n",
    "                print(\"Withdrawal failed. Insufficient balance.\")\n",
    "        else:\n",
    "            print(\"Withdrawal amount must be greater than zero.\")\n",
    "       \n",
    "    def get_balance(self):\n",
    "        return self.__balance\n",
    "\n",
    "# Create an instance of BankAccount\n",
    "account = BankAccount()\n",
    "                  \n",
    "# Get user input for deposit and withdrawal amounts\n",
    "deposit_amount = int(input(\"Enter deposit amount: \"))\n",
    "withdraw_amount = int(input(\"Enter withdraw amount: \"))\n",
    "\n",
    "# Perform deposit operation\n",
    "account.deposit(deposit_amount)\n",
    "\n",
    "# Perform withdrawal operation\n",
    "account.withdraw(withdraw_amount)"
   ]
  },
  {
   "cell_type": "code",
   "execution_count": 20,
   "id": "6c11b78c",
   "metadata": {},
   "outputs": [
    {
     "name": "stdout",
     "output_type": "stream",
     "text": [
      "Enter the employee name: John Doe\n",
      "Enter the employee ID: E123\n",
      "Enter the initial salary: 50000\n",
      "Employee Name: John Doe, Employee ID: E123\n",
      "Enter the new salary: 60000\n",
      "Salary updated to 60000.\n",
      "Current Salary: 60000\n"
     ]
    }
   ],
   "source": [
    "class Employee:\n",
    "    def __init__(self, name, employee_id, salary):\n",
    "        # Initialize employee attributes\n",
    "        self.name = name\n",
    "        self.employee_id = employee_id\n",
    "        self.__salary = salary  # Private attribute\n",
    "\n",
    "    def set_salary(self, amount):\n",
    "        # Update salary if the amount is valid\n",
    "        if amount > 0:\n",
    "            self.__salary = amount\n",
    "            print(f\"Salary updated to {self.__salary}.\")\n",
    "        else:\n",
    "            print(\"Salary update failed. Amount must be greater than 0.\")\n",
    "\n",
    "    def get_salary(self):\n",
    "        # Return the current salary\n",
    "        return self.__salary\n",
    "\n",
    "    def display_info(self):\n",
    "        # Display employee information\n",
    "        print(f\"Employee Name: {self.name}, Employee ID: {self.employee_id}\")\n",
    "\n",
    "\n",
    "# Prompt user for employee information\n",
    "name = input(\"Enter the employee name: \")\n",
    "employee_id = input(\"Enter the employee ID: \")\n",
    "initial_salary = int(input(\"Enter the initial salary: \"))\n",
    "\n",
    "# Create an instance of Employee\n",
    "employee = Employee(name, employee_id, initial_salary)\n",
    "\n",
    "# Display employee information\n",
    "employee.display_info()\n",
    "\n",
    "# Update salary\n",
    "new_salary = int(input(\"Enter the new salary: \"))\n",
    "employee.set_salary(new_salary)\n",
    "\n",
    "# Display the updated salary\n",
    "print(f\"Current Salary: {employee.get_salary()}\")\n"
   ]
  },
  {
   "cell_type": "code",
   "execution_count": 6,
   "id": "9192dfe3",
   "metadata": {},
   "outputs": [
    {
     "name": "stdout",
     "output_type": "stream",
     "text": [
      "Enter student name: Bob\n",
      "Enter student roll number: S002\n",
      "Enter initial grade: 70\n",
      "Student Name: Bob, Roll Number: S002\n",
      "Enter new grade1: 105\n",
      "Invalid grade. Grade must be between 0 and 100.\n",
      "Enter new grade2: 88\n",
      "Grade 88 added.\n",
      "Average Grade: 79.0\n"
     ]
    }
   ],
   "source": [
    "class Student:\n",
    "    def __init__(self, name, roll_number, grade):\n",
    "        self.name = name\n",
    "        self.roll_number = roll_number\n",
    "        self.__grades = [grade]\n",
    "\n",
    "    def add_grade(self, grade):\n",
    "        if 0 <= grade <= 100:\n",
    "            self.__grades.append(grade)\n",
    "            print(f\"Grade {grade} added.\")\n",
    "        else:\n",
    "            print(\"Invalid grade. Grade must be between 0 and 100.\")\n",
    "\n",
    "    def get_average_grade(self):\n",
    "        return sum(self.__grades) / len(self.__grades)\n",
    "\n",
    "    def display_info(self):\n",
    "        print(f\"Student Name: {self.name}, Roll Number: {self.roll_number}\")\n",
    "\n",
    "name = input(\"Enter student name: \")\n",
    "roll_number = input(\"Enter student roll number: \")\n",
    "initial_grade = int(input(\"Enter initial grade: \"))\n",
    "\n",
    "student = Student(name, roll_number, initial_grade)\n",
    "student.display_info()\n",
    "\n",
    "new_grade1 = int(input(\"Enter new grade1: \"))\n",
    "student.add_grade(new_grade1)\n",
    "\n",
    "new_grade2 = int(input(\"Enter new grade2: \"))\n",
    "student.add_grade(new_grade2)\n",
    "\n",
    "print(f\"Average Grade: {student.get_average_grade():.1f}\")"
   ]
  },
  {
   "cell_type": "code",
   "execution_count": null,
   "id": "31a6952e",
   "metadata": {},
   "outputs": [],
   "source": [
    "Exceptions:- Exceptions happen when something unexpected occurs while your code is running."
   ]
  },
  {
   "cell_type": "code",
   "execution_count": 7,
   "id": "b5cc81ac",
   "metadata": {},
   "outputs": [
    {
     "ename": "ZeroDivisionError",
     "evalue": "division by zero",
     "output_type": "error",
     "traceback": [
      "\u001b[1;31m---------------------------------------------------------------------------\u001b[0m",
      "\u001b[1;31mZeroDivisionError\u001b[0m                         Traceback (most recent call last)",
      "Cell \u001b[1;32mIn[7], line 9\u001b[0m\n\u001b[0;32m      7\u001b[0m num1 \u001b[38;5;241m=\u001b[39m \u001b[38;5;241m10\u001b[39m\n\u001b[0;32m      8\u001b[0m num2 \u001b[38;5;241m=\u001b[39m \u001b[38;5;241m0\u001b[39m\n\u001b[1;32m----> 9\u001b[0m divide_numbers(num1, num2)\n",
      "Cell \u001b[1;32mIn[7], line 3\u001b[0m, in \u001b[0;36mdivide_numbers\u001b[1;34m(a, b)\u001b[0m\n\u001b[0;32m      2\u001b[0m \u001b[38;5;28;01mdef\u001b[39;00m \u001b[38;5;21mdivide_numbers\u001b[39m(a, b):\n\u001b[1;32m----> 3\u001b[0m     result \u001b[38;5;241m=\u001b[39m a\u001b[38;5;241m/\u001b[39mb\n\u001b[0;32m      4\u001b[0m     \u001b[38;5;28mprint\u001b[39m(\u001b[38;5;124mf\u001b[39m\u001b[38;5;124m\"\u001b[39m\u001b[38;5;124mThe result is: \u001b[39m\u001b[38;5;132;01m{\u001b[39;00mresult\u001b[38;5;132;01m}\u001b[39;00m\u001b[38;5;124m\"\u001b[39m)\n",
      "\u001b[1;31mZeroDivisionError\u001b[0m: division by zero"
     ]
    }
   ],
   "source": [
    "#Division by zero\n",
    "def divide_numbers(a, b):\n",
    "    result = a/b\n",
    "    print(f\"The result is: {result}\")\n",
    "    \n",
    "#Trying to divide by zero\n",
    "num1 = 10\n",
    "num2 = 0\n",
    "divide_numbers(num1, num2)"
   ]
  },
  {
   "cell_type": "code",
   "execution_count": 8,
   "id": "03d411e9",
   "metadata": {},
   "outputs": [
    {
     "name": "stdout",
     "output_type": "stream",
     "text": [
      "Trying to access an element from the list...\n"
     ]
    },
    {
     "ename": "IndexError",
     "evalue": "list index out of range",
     "output_type": "error",
     "traceback": [
      "\u001b[1;31m---------------------------------------------------------------------------\u001b[0m",
      "\u001b[1;31mIndexError\u001b[0m                                Traceback (most recent call last)",
      "Cell \u001b[1;32mIn[8], line 9\u001b[0m\n\u001b[0;32m      7\u001b[0m \u001b[38;5;66;03m#Trying to access an element at an invalid index\u001b[39;00m\n\u001b[0;32m      8\u001b[0m my_list \u001b[38;5;241m=\u001b[39m [\u001b[38;5;241m1\u001b[39m, \u001b[38;5;241m2\u001b[39m, \u001b[38;5;241m3\u001b[39m]\n\u001b[1;32m----> 9\u001b[0m access_list_element(my_list, \u001b[38;5;241m5\u001b[39m)\n",
      "Cell \u001b[1;32mIn[8], line 4\u001b[0m, in \u001b[0;36maccess_list_element\u001b[1;34m(my_list, index)\u001b[0m\n\u001b[0;32m      2\u001b[0m \u001b[38;5;28;01mdef\u001b[39;00m \u001b[38;5;21maccess_list_element\u001b[39m(my_list, index):\n\u001b[0;32m      3\u001b[0m     \u001b[38;5;28mprint\u001b[39m(\u001b[38;5;124m\"\u001b[39m\u001b[38;5;124mTrying to access an element from the list...\u001b[39m\u001b[38;5;124m\"\u001b[39m) \u001b[38;5;66;03m#starting\u001b[39;00m\n\u001b[1;32m----> 4\u001b[0m     element \u001b[38;5;241m=\u001b[39m my_list[index]\n\u001b[0;32m      5\u001b[0m     \u001b[38;5;28mprint\u001b[39m(\u001b[38;5;124mf\u001b[39m\u001b[38;5;124m\"\u001b[39m\u001b[38;5;124mThe element at index \u001b[39m\u001b[38;5;132;01m{\u001b[39;00mindex\u001b[38;5;132;01m}\u001b[39;00m\u001b[38;5;124m is: \u001b[39m\u001b[38;5;132;01m{\u001b[39;00melement\u001b[38;5;132;01m}\u001b[39;00m\u001b[38;5;124m\"\u001b[39m)\n",
      "\u001b[1;31mIndexError\u001b[0m: list index out of range"
     ]
    }
   ],
   "source": [
    "#List index out of range\n",
    "def access_list_element(my_list, index):\n",
    "    print(\"Trying to access an element from the list...\") #starting\n",
    "    element = my_list[index]\n",
    "    print(f\"The element at index {index} is: {element}\")\n",
    "    \n",
    "#Trying to access an element at an invalid index\n",
    "my_list = [1, 2, 3]\n",
    "access_list_element(my_list, 5)"
   ]
  },
  {
   "cell_type": "code",
   "execution_count": null,
   "id": "f4e70371",
   "metadata": {},
   "outputs": [],
   "source": [
    "Handling Exceptions\n",
    "try - except Block :- The try-except block lets us test a piece of code to see if it has errors, if an error happens, the code\n",
    "inside the except block will run. This prevents the program from crashing and helps it respond more smoothly.\n",
    "\n",
    "Basic structure\n",
    "try:\n",
    "    #code that might cause an exception\n",
    "    risky_code()\n",
    "except SomeException:\n",
    "    #Code to run if an exception occurs\n",
    "    handle_the_error() "
   ]
  },
  {
   "cell_type": "code",
   "execution_count": 10,
   "id": "d60cc107",
   "metadata": {},
   "outputs": [
    {
     "name": "stdout",
     "output_type": "stream",
     "text": [
      "Error: You cannot divide by zero. Please provide a valid divisor\n"
     ]
    }
   ],
   "source": [
    "#Handling Division by zero\n",
    "def divide_numbers(a, b):\n",
    "    try:\n",
    "        result = a/b\n",
    "        print(f\"The result is: {result}\")\n",
    "    except ZeroDivisionError:\n",
    "        print(\"Error: You cannot divide by zero. Please provide a valid divisor\")\n",
    "        \n",
    "#Trying to divide by zero'\n",
    "num1 = 10\n",
    "num2 = 0\n",
    "divide_numbers(num1, num2)"
   ]
  },
  {
   "cell_type": "code",
   "execution_count": 12,
   "id": "1919c6bf",
   "metadata": {},
   "outputs": [
    {
     "name": "stdout",
     "output_type": "stream",
     "text": [
      "Error: The index is out of range. Please provide a valid index.\n",
      "Error: You cannot divide by zero. Please provide a valid divisor\n"
     ]
    }
   ],
   "source": [
    "#Handling multiple exceptions\n",
    "def process_list_element(my_list, index, divisor):\n",
    "    try:\n",
    "        #Accessing an element from the list\n",
    "        element = my_list[index]\n",
    "        \n",
    "        #Dividing the element by the divisor\n",
    "        result = element/divisor\n",
    "        print(f\"The result is: {result}\")\n",
    "    except IndexError:\n",
    "        print(\"Error: The index is out of range. Please provide a valid index.\")\n",
    "    except ZeroDivisionError:\n",
    "        print(\"Error: You cannot divide by zero. Please provide a valid divisor\")\n",
    "        \n",
    "#Trying to access an invalid index and divide by zero\n",
    "my_list = [10, 20, 30]\n",
    "process_list_element(my_list, 5, 2)\n",
    "process_list_element(my_list, 1, 0)"
   ]
  },
  {
   "cell_type": "code",
   "execution_count": null,
   "id": "ae1abb93",
   "metadata": {},
   "outputs": [],
   "source": [
    "else and finally\n",
    "else :- This block runs if no errors were raised in the try block.\n",
    "finally :- This block runs no matter what whether an error occurred or not."
   ]
  },
  {
   "cell_type": "code",
   "execution_count": 13,
   "id": "c0e5e3ae",
   "metadata": {},
   "outputs": [
    {
     "name": "stdout",
     "output_type": "stream",
     "text": [
      "The result is: 5.0\n",
      "Execution completed.\n",
      "Error: You cannot divide by zero.\n",
      "Execution completed.\n"
     ]
    }
   ],
   "source": [
    "def safe_division(a, b):\n",
    "    try:\n",
    "        result = a/b\n",
    "    except ZeroDivisionError:\n",
    "        print(\"Error: You cannot divide by zero.\")\n",
    "    else:\n",
    "        print(f\"The result is: {result}\")\n",
    "    finally:\n",
    "        print(\"Execution completed.\")\n",
    "        \n",
    "#Running the function\n",
    "safe_division(10, 2)\n",
    "safe_division(10, 0)"
   ]
  },
  {
   "cell_type": "code",
   "execution_count": null,
   "id": "0702e4a3",
   "metadata": {},
   "outputs": [],
   "source": [
    "Raise keyword and custom exceptions in python\n",
    "\n",
    "The raise keyword in python is used to create an error on purpose. This is helpful if we want to enforce a rule or handle a\n",
    "situation that python's normal error's don't cover.\n",
    "\n",
    "Syntax: raise SomeException(\"Error message\")"
   ]
  },
  {
   "cell_type": "code",
   "execution_count": 14,
   "id": "73284131",
   "metadata": {},
   "outputs": [
    {
     "name": "stdout",
     "output_type": "stream",
     "text": [
      "Error: Cannot calculate the square root of a negative number.\n"
     ]
    }
   ],
   "source": [
    "#Raising a ValueError\n",
    "def calculate_square_root(number):\n",
    "    if number < 0:\n",
    "        raise ValueError(\"Cannot calculate the square root of a negative number.\")\n",
    "    return number ** 0.5\n",
    "\n",
    "try:\n",
    "    result = calculate_square_root(-9)\n",
    "    print(f\"The result is: {result}\")\n",
    "except ValueError as e:\n",
    "    print(f\"Error: {e}\")"
   ]
  },
  {
   "cell_type": "code",
   "execution_count": 15,
   "id": "cd16e697",
   "metadata": {},
   "outputs": [
    {
     "name": "stdout",
     "output_type": "stream",
     "text": [
      "Custom Error: You cannot calculate the square root of a negative number\n"
     ]
    }
   ],
   "source": [
    "#Creating a custom exception class\n",
    "class NegativeNumberError(Exception):\n",
    "    def __init__(self, message = \"Nagative numbers are not allowed\"):\n",
    "        self.message = message\n",
    "        super().__init__(self.message)\n",
    "    \n",
    "#Using the custom exception\n",
    "\n",
    "def calculate_square_root(number):\n",
    "    if number < 0:\n",
    "        raise NegativeNumberError(\"You cannot calculate the square root of a negative number\")\n",
    "    return number ** 0.5\n",
    "\n",
    "try:\n",
    "    result = calculate_square_root(-4)\n",
    "    print(f\"The result is: {result}\")\n",
    "except NegativeNumberError as e:\n",
    "    print(f\"Custom Error: {e}\")"
   ]
  },
  {
   "cell_type": "code",
   "execution_count": 16,
   "id": "3d5cafb6",
   "metadata": {},
   "outputs": [
    {
     "name": "stdout",
     "output_type": "stream",
     "text": [
      "Banking Error: You cannot withdraw more than your current balance.\n"
     ]
    }
   ],
   "source": [
    "#Banking Application\n",
    "class InsufficientFundsError(Exception):\n",
    "    def __init__(self, message=\"Insufficient funds for this withdrawal\"):\n",
    "        self.message = message\n",
    "        super().__init__(self.message)\n",
    "\n",
    "#Using the custom exception\n",
    "\n",
    "def withdraw_money(balance, amount):\n",
    "    if amount > balance:\n",
    "        raise InsufficientFundsError(\"You cannot withdraw more than your current balance.\")\n",
    "    balance -= amount\n",
    "    return balance\n",
    "\n",
    "try:\n",
    "    current_balance = 1000\n",
    "    withdraw_amount = 1500\n",
    "    new_balance = withdraw_money(current_balance, withdraw_amount)\n",
    "    print(f\"New balance: {new_balance}\")\n",
    "except InsufficientFundsError as e:\n",
    "    print(f\"Banking Error: {e}\")"
   ]
  },
  {
   "cell_type": "code",
   "execution_count": 18,
   "id": "fa35f760",
   "metadata": {},
   "outputs": [
    {
     "name": "stdout",
     "output_type": "stream",
     "text": [
      "Enter amount to deposit: 1000\n",
      "Deposit of 1000 successful. Current balance: 1000\n",
      "Enter amount to withdraw: 500\n",
      "Withdrawal of 500 successful. Current balance: 500\n"
     ]
    }
   ],
   "source": [
    "#Define the BankAccount class\n",
    "class BankAccount:\n",
    "    def __init__(self):\n",
    "        self.balance = 0   #initialize balance to 0\n",
    "        \n",
    "    def deposit(self, amount):\n",
    "        if amount < 0:\n",
    "            raise ValueError(\"Deposit amount must be positive.\")\n",
    "        self.balance += amount\n",
    "        print(f\"Deposit of {amount} successful. Current balance: {self.balance}\")\n",
    "        \n",
    "    def withdraw(self, amount):\n",
    "        if amount < 0:\n",
    "            raise ValueError(\"Withdrawal amount must be positive.\")\n",
    "        if amount > self.balance:\n",
    "            raise ValueError(\"Insufficient balance.\")\n",
    "        self.balance -= amount\n",
    "        print(f\"Withdrawal of {amount} successful. Current balance: {self.balance}\")\n",
    "        \n",
    "#Create an instance of BankAccount\n",
    "account = BankAccount()\n",
    "\n",
    "#Get user input for deposit and withdrawal amounts\n",
    "try:\n",
    "    deposit_amount = int(input('Enter amount to deposit: ').split(': ')[-1])\n",
    "    account.deposit(deposit_amount)\n",
    "except ValueError as e:\n",
    "    print(f\"Deposit failed. {e}\")\n",
    "    \n",
    "try:\n",
    "    withdraw_amount = int(input('Enter amount to withdraw: ').split(': ')[-1])\n",
    "    account.withdraw(withdraw_amount)\n",
    "except ValueError as e:\n",
    "    print(f\"Withdrawal failed. {e}\")"
   ]
  },
  {
   "cell_type": "code",
   "execution_count": 19,
   "id": "fe3916eb",
   "metadata": {},
   "outputs": [
    {
     "name": "stdout",
     "output_type": "stream",
     "text": [
      "Enter order amount: 1500\n",
      "Order of 1500.0 placed successfully. Current total: 1500.0\n",
      "Enter discount amount: 300\n",
      "Discount of 300.0 applied successfully. Current total: 1200.0\n"
     ]
    }
   ],
   "source": [
    "class Order:\n",
    "    def __init__(self):\n",
    "        # Initialize the total order value to 0\n",
    "        self.total = 0\n",
    "\n",
    "    def place_order(self, order_amount):\n",
    "        # Add the order amount to the total, but raise an error if it's negative\n",
    "        if order_amount < 0:\n",
    "            raise ValueError(\"Order amount must be positive.\")\n",
    "        self.total += order_amount\n",
    "\n",
    "    def apply_discount(self, discount_amount):\n",
    "        # Subtract the discount amount from the total, but raise an error if discount is invalid\n",
    "        if discount_amount < 0:\n",
    "            raise ValueError(\"Discount cannot be negative.\")\n",
    "        if discount_amount > self.total:\n",
    "            raise ValueError(\"Discount cannot be greater than total order value.\")\n",
    "        self.total -= discount_amount\n",
    "\n",
    "# Create an instance of the Order class\n",
    "order = Order()\n",
    "\n",
    "# Prompt the user for inputs\n",
    "try:\n",
    "    # Place the order\n",
    "    order_amount = float(input(\"Enter order amount: \"))\n",
    "    order.place_order(order_amount)\n",
    "    print(f\"Order of {order_amount} placed successfully. Current total: {order.total}\")\n",
    "\n",
    "    # Apply the discount\n",
    "    discount_amount = float(input(\"Enter discount amount: \"))\n",
    "    order.apply_discount(discount_amount)\n",
    "    print(f\"Discount of {discount_amount} applied successfully. Current total: {order.total}\")\n",
    "\n",
    "except ValueError as e:\n",
    "    # Handle any exceptions that occur and display the appropriate message\n",
    "    print(f\"Error: {e}\")"
   ]
  },
  {
   "cell_type": "code",
   "execution_count": 20,
   "id": "7fcdf751",
   "metadata": {},
   "outputs": [
    {
     "name": "stdout",
     "output_type": "stream",
     "text": [
      "Enter product_name and quantity to add into inventory: Apples 50\n",
      "50 Apples added to inventory. Current quantity: 50\n",
      "Enter product_name and quantity to remove from inventory: Apples 30\n",
      "30 Apples removed from inventory. Current quantity: 20\n"
     ]
    }
   ],
   "source": [
    "#Define the Inventory class\n",
    "class Inventory:\n",
    "    def __init__(self):\n",
    "        #Initialize an empty dictionary to store product quantities\n",
    "        self.products = {}\n",
    "        \n",
    "    def add_product(self, product_name, quantity):\n",
    "        if quantity < 0:\n",
    "            raise ValueError(\"Quantity must be positive.\")\n",
    "        if product_name in self.products:\n",
    "            self.products[product_name] += quantity\n",
    "        else:\n",
    "            self.products[product_name] = quantity\n",
    "        print(f\"{quantity} {product_name} added to inventory. Current quantity: {self.products[product_name]}\")\n",
    "        \n",
    "    def remove_product(self, product_name, quantity):\n",
    "        if product_name not in self.products:\n",
    "            raise ValueError(f\"Product {product_name} not found in inventory.\")\n",
    "        if quantity < 0:\n",
    "            raise ValueError(f\"Quantity must be positive.\")\n",
    "        if quantity > self.products[product_name]:\n",
    "            raise ValueError(\"Not enough quantity available to remove.\")\n",
    "        self.products[product_name] -= quantity\n",
    "        print(f\"{quantity} {product_name} removed from inventory. Current quantity: {self.products[product_name]}\")\n",
    "        \n",
    "inventory = Inventory()\n",
    "\n",
    "try:\n",
    "    product_info = input('Enter product_name and quantity to add into inventory: ').strip().split()\n",
    "    product_name = product_info[0]\n",
    "    quantity = int(product_info[1])\n",
    "    inventory.add_product(product_name, quantity)\n",
    "except ValueError as e:\n",
    "    print(f\"Addition failed. {e}\")\n",
    "    \n",
    "try:\n",
    "    product_info = input('Enter product_name and quantity to remove from inventory: ').strip().split()\n",
    "    product_name = product_info[0]\n",
    "    quantity = int(product_info[1])\n",
    "    inventory.remove_product(product_name, quantity)\n",
    "except ValueError as e:\n",
    "    print(f\"Removal failed. {e}\")"
   ]
  },
  {
   "cell_type": "code",
   "execution_count": 18,
   "id": "2194b818",
   "metadata": {},
   "outputs": [
    {
     "name": "stdout",
     "output_type": "stream",
     "text": [
      "Enter book name to rent: The Hobbit\n",
      "The Hobbit rented successfully.\n",
      "Enter book name to return: The Great Gatsby\n",
      "Return failed. Book The Great Gatsby was not rented.\n"
     ]
    }
   ],
   "source": [
    "#Define custom exception classes\n",
    "class BookNotAvailableError(Exception):\n",
    "    pass\n",
    "class BookNotRentedError(Exception):\n",
    "    pass\n",
    "\n",
    "#Define the Library class\n",
    "class Library:\n",
    "    def __init__(self):\n",
    "        #Dictionary to store books and their availability\n",
    "        self.books = {\n",
    "            \"Harry Potter\": True,\n",
    "            \"The Hobbit\": True,\n",
    "            \"1984\": True,\n",
    "            \"The Great Gatsby\": True\n",
    "        }\n",
    "        \n",
    "    def rent_book(self, title):\n",
    "        if title not in self.books or not self.books[title]:\n",
    "            raise BookNotAvailableError(f\"Book {title} is not available for rent.\")\n",
    "        self.books[title] = False\n",
    "        print(f\"{title} rented successfully.\")\n",
    "        \n",
    "    def return_book(self, title):\n",
    "        if title not in self.books or self.books[title]:\n",
    "            raise BookNotRentedError(f\"Book {title} was not rented.\")\n",
    "        self.books[title] = True\n",
    "        print(f\"{title} returned successfully.\")\n",
    "        \n",
    "#Create an instance of library\n",
    "library = Library()\n",
    "\n",
    "#Get user input for renting and returning books\n",
    "try:\n",
    "    book_to_rent = input('Enter book name to rent: ').split(': ')[-1]\n",
    "    library.rent_book(book_to_rent)\n",
    "except BookNotAvailableError as e:\n",
    "    print(f\"Rental failed. {e}\")\n",
    "    \n",
    "try:\n",
    "    book_to_return = input('Enter book name to return: ').split(': ')[-1]\n",
    "    library.return_book(book_to_return)\n",
    "except BookNotRentedError as e:\n",
    "    print(f\"Return failed. {e}\")"
   ]
  },
  {
   "cell_type": "code",
   "execution_count": 26,
   "id": "681542ed",
   "metadata": {},
   "outputs": [
    {
     "name": "stdout",
     "output_type": "stream",
     "text": [
      "Res= 5.0\n"
     ]
    }
   ],
   "source": [
    "def div(a, b):\n",
    "    res = a/b\n",
    "    print(\"Res=\",res);\n",
    "div(10,2)"
   ]
  },
  {
   "cell_type": "code",
   "execution_count": 27,
   "id": "74464314",
   "metadata": {},
   "outputs": [
    {
     "name": "stdout",
     "output_type": "stream",
     "text": [
      "Program is starting\n",
      "Enter 1st number: 7\n",
      "Enter 2nd number: 0\n",
      "About to start calculation\n",
      "Division by 0 not allowed!\n",
      "Program is ending\n"
     ]
    }
   ],
   "source": [
    " #Division by zero not allowed error\n",
    "def div(a, b):\n",
    "    print(\"About to start calculation\")\n",
    "    try:\n",
    "        res = a/b\n",
    "        print(\"Division:\",div)\n",
    "    except:\n",
    "        print(\"Division by 0 not allowed!\")\n",
    "print(\"Program is starting\")\n",
    "n1 = int(input(\"Enter 1st number: \"))\n",
    "n2 = int(input(\"Enter 2nd number: \"))\n",
    "div(n1, n2)\n",
    "print(\"Program is ending\")    "
   ]
  },
  {
   "cell_type": "code",
   "execution_count": 28,
   "id": "36bc8e8c",
   "metadata": {},
   "outputs": [
    {
     "name": "stdout",
     "output_type": "stream",
     "text": [
      "Program is starting\n",
      "Enter 1st number: 14\n",
      "Enter 2nd number: 7\n",
      "About to start calculation\n",
      "Division = 2.0\n",
      "Variable not defined\n",
      "Program is ending\n"
     ]
    }
   ],
   "source": [
    "def calculate(a, b):\n",
    "    print(\"About to start calculation\")\n",
    "    try:\n",
    "        div = a/b\n",
    "        print(\"Division =\",div)\n",
    "        \n",
    "        add = a+c\n",
    "        print(\"aDDITION =\",add)\n",
    "    except ZeroDivisionError:\n",
    "        print(\"Division by 0 not allowed!\")\n",
    "    except NameError:\n",
    "        print(\"Variable not defined\")\n",
    "print(\"Program is starting\")\n",
    "n1 = int(input(\"Enter 1st number: \"))\n",
    "n2 = int(input(\"Enter 2nd number: \"))\n",
    "calculate(n1, n2)\n",
    "print(\"Program is ending\")"
   ]
  },
  {
   "cell_type": "code",
   "execution_count": 29,
   "id": "ea2f2c59",
   "metadata": {},
   "outputs": [
    {
     "name": "stdout",
     "output_type": "stream",
     "text": [
      "Enter 1st number: 12\n",
      "Enter 2nd number: 24\n",
      "Division = 0.5\n",
      "Program about to exit\n"
     ]
    }
   ],
   "source": [
    "def calculate(a, b):\n",
    "    try:\n",
    "        div = a/b\n",
    "    #Only executed when exception occurs\n",
    "    except:\n",
    "        print(\"Division by 0 not allowed!\")\n",
    "    #Only executed when exception does not occur\n",
    "    else:\n",
    "        print(\"Division =\",div)\n",
    "    #executed regardless exception occurs or not\n",
    "    finally:\n",
    "        print(\"Program about to exit\")\n",
    "        \n",
    "n1 = int(input(\"Enter 1st number: \"))\n",
    "n2 = int(input(\"Enter 2nd number: \"))\n",
    "calculate(n1, n2)"
   ]
  },
  {
   "cell_type": "code",
   "execution_count": 30,
   "id": "fe403396",
   "metadata": {},
   "outputs": [
    {
     "name": "stdout",
     "output_type": "stream",
     "text": [
      "Enter age: 19\n",
      "Eligible for voting!\n"
     ]
    }
   ],
   "source": [
    "def validate(age):\n",
    "    if(age>=18):\n",
    "        print(\"Eligible for voting!\")\n",
    "    else:\n",
    "        raise ValueError(\"Age must be >= 18!\")\n",
    "        \n",
    "age = int(input(\"Enter age: \"))\n",
    "validate(age)"
   ]
  },
  {
   "cell_type": "code",
   "execution_count": 32,
   "id": "9d43c19f",
   "metadata": {},
   "outputs": [
    {
     "name": "stdout",
     "output_type": "stream",
     "text": [
      "Enter age: 18\n",
      "Eligible for voting!\n"
     ]
    }
   ],
   "source": [
    "class AgeError(Exception):\n",
    "    pass\n",
    "\n",
    "def validate(age):\n",
    "    if(age>=18):\n",
    "        print(\"Eligible for voting!\")\n",
    "    else:\n",
    "        raise ValueError(\"Age must be >= 18!\")\n",
    "        \n",
    "age = int(input(\"Enter age: \"))\n",
    "validate(age)"
   ]
  },
  {
   "cell_type": "code",
   "execution_count": null,
   "id": "63e73c5b",
   "metadata": {},
   "outputs": [],
   "source": [
    "Multithreading:- Multithreading allows different parts of your code to run together at the same time. Instead of waiting for\n",
    "one funtion to finish before starting another, you can run them simultaneously, which makes your program faster and more\n",
    "efficient. This is especially useful for tasks that involve a lot of waiting, like reading files or making web requests."
   ]
  },
  {
   "cell_type": "code",
   "execution_count": 22,
   "id": "f240ca86",
   "metadata": {},
   "outputs": [
    {
     "name": "stdout",
     "output_type": "stream",
     "text": [
      "Number: 1\n",
      "Number: 2\n",
      "Number: 3\n",
      "Number: 4\n",
      "Number: 5\n",
      "Letter: A\n",
      "Letter: B\n",
      "Letter: C\n",
      "Letter: D\n",
      "Letter: E\n",
      "All tasks are complete!\n"
     ]
    }
   ],
   "source": [
    "#Single Thread\n",
    "import time\n",
    "\n",
    "def print_numbers():\n",
    "    for i in range(1, 6):\n",
    "        print(f\"Number: {i}\")\n",
    "        time.sleep(1) #Pause for 1 second\n",
    "        \n",
    "def print_letters():\n",
    "    for letter in ['A', 'B', 'C', 'D', 'E']:\n",
    "        print(f\"Letter: {letter}\")\n",
    "        time.sleep(1) #Pause for 1 second\n",
    "        \n",
    "#Run functions one after another\n",
    "print_numbers()\n",
    "print_letters()\n",
    "\n",
    "print(\"All tasks are complete!\")"
   ]
  },
  {
   "cell_type": "code",
   "execution_count": 23,
   "id": "7ec479a0",
   "metadata": {},
   "outputs": [
    {
     "name": "stdout",
     "output_type": "stream",
     "text": [
      "Number: 1\n",
      "Letter: A\n",
      "Number: 2Letter: B\n",
      "\n",
      "Number: 3Letter: C\n",
      "\n",
      "Number: 4Letter: D\n",
      "\n",
      "Number: 5Letter: E\n",
      "\n"
     ]
    }
   ],
   "source": [
    "#Multithreading\n",
    "import threading\n",
    "import time\n",
    "\n",
    "def print_numbers():\n",
    "    for i in range(1, 6):\n",
    "        print(f\"Number: {i}\")\n",
    "        time.sleep(1) #Pause for 1 second\n",
    "        \n",
    "#Create threads\n",
    "thread1 = threading.Thread(target=print_numbers)\n",
    "thread2 = threading.Thread(target=print_letters)\n",
    "\n",
    "#Start threads\n",
    "thread1.start()\n",
    "thread2.start()\n",
    "\n",
    "#Wait for threads to complete\n",
    "thread1.join()\n",
    "thread2.join()"
   ]
  },
  {
   "cell_type": "code",
   "execution_count": 24,
   "id": "43719bd8",
   "metadata": {},
   "outputs": [
    {
     "name": "stdout",
     "output_type": "stream",
     "text": [
      "Hello from thread!\n"
     ]
    }
   ],
   "source": [
    "#Methods for Multithreading:-\n",
    "#start() : This method starts a thread.\n",
    "\n",
    "import threading\n",
    "def print_hello():\n",
    "    print(\"Hello from thread!\")\n",
    "    \n",
    "#Create a thread\n",
    "thread = threading.Thread(target=print_hello)\n",
    "thread.start() #Start the thread"
   ]
  },
  {
   "cell_type": "code",
   "execution_count": 26,
   "id": "9929bebf",
   "metadata": {},
   "outputs": [
    {
     "name": "stdout",
     "output_type": "stream",
     "text": [
      "Number: 1\n",
      "Number: 2\n",
      "Number: 3\n",
      "Thread has completed, continuing the program.\n"
     ]
    }
   ],
   "source": [
    "#join() : This method waits for a thread to finish before continuing with the rest of the program. when you call join(), the\n",
    "#main program pauses until the specified thread is done running.\n",
    "\n",
    "import threading\n",
    "\n",
    "def print_numbers():\n",
    "    for i in range(1, 4):\n",
    "        print(f\"Number: {i}\")\n",
    "        \n",
    "#Create a thread\n",
    "thread = threading.Thread(target=print_numbers)\n",
    "thread.start()\n",
    "thread.join() #Wait until thread completes\n",
    "\n",
    "print(\"Thread has completed, continuing the program.\")"
   ]
  },
  {
   "cell_type": "code",
   "execution_count": 5,
   "id": "c36aad1f",
   "metadata": {},
   "outputs": [
    {
     "name": "stdout",
     "output_type": "stream",
     "text": [
      "Is thread alive? True\n",
      "Message from thread!\n"
     ]
    }
   ],
   "source": [
    "#is_alive() : This method checks if a thread is still running. It returns true if the thread is still running and false if it\n",
    "#has finished. This is useful if you want to see whether a thread is still doing its job.\n",
    "import threading\n",
    "import time\n",
    "\n",
    "def print_message():\n",
    "    time.sleep(2)\n",
    "    print(\"Message from thread!\")\n",
    "    \n",
    "#Create and start a thread\n",
    "thread = threading.Thread(target=print_message)\n",
    "thread.start()\n",
    "\n",
    "#Check if the thread is alive\n",
    "print(f\"Is thread alive? {thread.is_alive()}\")"
   ]
  },
  {
   "cell_type": "code",
   "execution_count": 8,
   "id": "c86793c8",
   "metadata": {},
   "outputs": [
    {
     "name": "stdout",
     "output_type": "stream",
     "text": [
      "Hello from MyThread!\n"
     ]
    }
   ],
   "source": [
    "#name : You can give each thread a name to help keep track of what each one is doing. This is helpful when multiple threads\n",
    "#running at the same time\n",
    "\n",
    "import threading\n",
    "\n",
    "def print_hello():\n",
    "    print(f\"Hello from {threading.current_thread().name}!\")\n",
    "    \n",
    "#Create a thread with a name\n",
    "thread = threading.Thread(target=print_hello, name=\"MyThread\")\n",
    "thread.start()"
   ]
  },
  {
   "cell_type": "code",
   "execution_count": 10,
   "id": "42c5cdb3",
   "metadata": {},
   "outputs": [
    {
     "name": "stdout",
     "output_type": "stream",
     "text": [
      "Background task running...\n",
      "Background task running...\n",
      "Background task running...\n",
      "Background task running...\n",
      "Background task running...\n",
      "Background task running...\n",
      "Main program ends.\n",
      "Background task running...\n",
      "Background task running...\n",
      "Background task running...\n",
      "Background task running...\n"
     ]
    }
   ],
   "source": [
    "#Daemon : A daemon thread runs in the background and automatically exits when the main program ends. This is useful for tasks\n",
    "#that should run continuously but don't need to stop the entire program from finishing.\n",
    "\n",
    "#A common use case for daemon threads is logging or monitoring tasks that run in the background.\n",
    "\n",
    "import threading\n",
    "import time\n",
    "\n",
    "def background_task():\n",
    "    while True:\n",
    "        print(\"Background task running...\")\n",
    "        time.sleep(1)\n",
    "        \n",
    "#Create a daemon thread\n",
    "thread = threading.Thread(target=background_task)\n",
    "thread.daemon = True     #Set the thread as a daemon\n",
    "thread.start()\n",
    "\n",
    "#Main program ends here\n",
    "time.sleep(3)\n",
    "print(\"Main program ends.\")"
   ]
  },
  {
   "cell_type": "code",
   "execution_count": 13,
   "id": "7388793f",
   "metadata": {},
   "outputs": [
    {
     "name": "stdout",
     "output_type": "stream",
     "text": [
      "Background task running...\n",
      "Background task running...\n",
      "Background task running...\n",
      "Background task running...\n",
      "task 1, task 2, task 3\n",
      "Starting print job for task 1...\n",
      "Starting print job for task 2...\n",
      "Starting print job for task 3...\n",
      "Background task running...\n",
      "Background task running...\n",
      "Background task running...\n",
      "Background task running...\n",
      "Print job for task 1 completed.\n",
      "Print job for task 2 completed.\n",
      "Print job for task 3 completed.\n",
      "Background task running...\n",
      "Background task running...\n"
     ]
    }
   ],
   "source": [
    "import threading\n",
    "import time\n",
    "\n",
    "#Define the function to simulate print tasks\n",
    "def print_task(task_name):\n",
    "    print(f\"Starting print job for {task_name}...\")\n",
    "    time.sleep(2)  #Simulate print time with sleep\n",
    "    print(f\"Print job for {task_name} completed.\")\n",
    "    \n",
    "#Get user input for task names\n",
    "task_names = input().split(\", \")\n",
    "\n",
    "#Create and start a thread for each print task\n",
    "threads = []\n",
    "for task_name in task_names:\n",
    "    thread = threading.Thread(target=print_task, args=(task_name,))\n",
    "    threads.append(thread)\n",
    "    thread.start()\n",
    "    \n",
    "#Ensure all threads complete before exiting\n",
    "for thread in threads:\n",
    "    thread.join()"
   ]
  },
  {
   "cell_type": "code",
   "execution_count": 1,
   "id": "21c5b199",
   "metadata": {},
   "outputs": [
    {
     "name": "stdout",
     "output_type": "stream",
     "text": [
      "CountA-4, CountB-2\n",
      "Starting count for CountA up to 4...\n",
      "CountA: 1\n",
      "Starting count for CountB up to 2...\n",
      "CountB: 1\n",
      "CountA: 2\n",
      "CountB: 2\n",
      "CountA: 3\n",
      "Counting task for CountB completed.\n",
      "CountA: 4\n",
      "Counting task for CountA completed.\n"
     ]
    }
   ],
   "source": [
    "import threading\n",
    "import time\n",
    "\n",
    "#Define the function to simulate counting tasks\n",
    "def count_task(task_name, count_limit):\n",
    "    print(f\"Starting count for {task_name} up to {count_limit}...\")\n",
    "    for i in range(1, count_limit + 1):\n",
    "        print(f\"{task_name}: {i}\")\n",
    "        time.sleep(0.5)\n",
    "    print(f\"Counting task for {task_name} completed.\")\n",
    "    \n",
    "#Get user input for task names and count limits\n",
    "task_inputs = input().split(\", \")\n",
    "\n",
    "#Create and start a thread for each counting task\n",
    "threads = []\n",
    "for task_input in task_inputs:\n",
    "    task_name, count_limit = task_input.split(\"-\")\n",
    "    thread = threading.Thread(target=count_task, args=(task_name, int(count_limit)))\n",
    "    threads.append(thread)\n",
    "    thread.start()\n",
    "    \n",
    "#Ensure all threads complete before exiting\n",
    "for thread in threads:\n",
    "    thread.join()"
   ]
  },
  {
   "cell_type": "code",
   "execution_count": null,
   "id": "961c4d12",
   "metadata": {},
   "outputs": [],
   "source": [
    "Iterators in Python : An iterator lets you go through a sequence of items one by one. Imagine a playlist of songs.\n",
    "\n",
    "An iterator in python needs to have two important methods:\n",
    "1. __iter__() : This sets up the iterator. It returns the iterator object itself so it knows where to start.\n",
    "2. __next__() : This gives you the next item from the sequence. When there are no more items, it raises a StopIteration \n",
    "exception."
   ]
  },
  {
   "cell_type": "code",
   "execution_count": 3,
   "id": "c008a1cc",
   "metadata": {},
   "outputs": [
    {
     "name": "stdout",
     "output_type": "stream",
     "text": [
      "1\n",
      "2\n",
      "3\n",
      "4\n"
     ]
    }
   ],
   "source": [
    "#Create a list\n",
    "my_list = [1, 2, 3, 4]\n",
    "\n",
    "#Get an iterator from the list\n",
    "my_iterator = iter(my_list)\n",
    "\n",
    "#Use the next() function to get each item from the iterator\n",
    "print(next(my_iterator)) #Output: 1\n",
    "print(next(my_iterator)) #Output: 2\n",
    "print(next(my_iterator)) #Output: 3\n",
    "print(next(my_iterator)) #Output: 4"
   ]
  },
  {
   "cell_type": "code",
   "execution_count": 4,
   "id": "fbcb08ee",
   "metadata": {},
   "outputs": [
    {
     "name": "stdout",
     "output_type": "stream",
     "text": [
      "1\n",
      "2\n",
      "3\n",
      "4\n"
     ]
    }
   ],
   "source": [
    "my_list = [1, 2, 3, 4]\n",
    "\n",
    "#Using a for loop to iterate over the list\n",
    "for item in my_list:\n",
    "    print(item)"
   ]
  },
  {
   "cell_type": "code",
   "execution_count": 5,
   "id": "cb194c81",
   "metadata": {},
   "outputs": [
    {
     "name": "stdout",
     "output_type": "stream",
     "text": [
      "1\n",
      "2\n",
      "3\n",
      "4\n",
      "5\n"
     ]
    }
   ],
   "source": [
    "class CountUpTo:\n",
    "    def __init__(self, limit):\n",
    "        self.limit = limit\n",
    "        self.current = 0\n",
    "        \n",
    "    def __iter__(self):\n",
    "        return self\n",
    "    \n",
    "    def __next__(self):\n",
    "        if self.current < self.limit:\n",
    "            self.current += 1\n",
    "            return self.current\n",
    "        else:\n",
    "            raise StopIteration\n",
    "            \n",
    "#Create an instance of CountUpTo\n",
    "counter = CountUpTo(5)\n",
    "\n",
    "#Use a for loop to iterator through the counter\n",
    "for number in counter:\n",
    "    print(number)"
   ]
  },
  {
   "cell_type": "code",
   "execution_count": 2,
   "id": "f07c6694",
   "metadata": {},
   "outputs": [
    {
     "name": "stdout",
     "output_type": "stream",
     "text": [
      "Enter the maximum number: 10\n",
      "0\n",
      "2\n",
      "4\n",
      "6\n",
      "8\n",
      "10\n"
     ]
    }
   ],
   "source": [
    "class EvenNumbers:\n",
    "    def __init__(self, max_value):\n",
    "        #Initialize with max_value and set the starting point to 0\n",
    "        self.max_value = max_value\n",
    "        self.current = 0\n",
    "        \n",
    "    def __iter__(self):\n",
    "        return self\n",
    "    \n",
    "    def __next__(self):\n",
    "        #Logic to return the next even number or raise StopIteration\n",
    "        if self.current > self.max_value:\n",
    "            raise StopIteration\n",
    "        else:\n",
    "            even = self.current\n",
    "            self.current += 2\n",
    "            return even\n",
    "        \n",
    "max_value = int(input(\"Enter the maximum number: \"))\n",
    "even_numbers = EvenNumbers(max_value)\n",
    "\n",
    "#Iterate through even_numbers and print each even number\n",
    "for number in even_numbers:\n",
    "    print(number)"
   ]
  },
  {
   "cell_type": "code",
   "execution_count": 4,
   "id": "0a9c83ad",
   "metadata": {},
   "outputs": [
    {
     "name": "stdout",
     "output_type": "stream",
     "text": [
      "Enter maximum number: 20\n",
      "0\n",
      "1\n",
      "1\n",
      "2\n",
      "3\n",
      "5\n",
      "8\n",
      "13\n"
     ]
    }
   ],
   "source": [
    "class Fibonacci:\n",
    "    def __init__(self, max_value):\n",
    "        #Initialize with max_value and set start values for thr Fibonacci sequence\n",
    "        self.max_value = max_value\n",
    "        self.a, self.b = 0, 1\n",
    "        \n",
    "    def __iter__(self):\n",
    "        #Return self to make this an iterator\n",
    "        return self\n",
    "    \n",
    "    def __next__(self):\n",
    "        #Implement logic to return the next Fibonnacci number\n",
    "        if self.a > self.max_value:\n",
    "            raise StopIteration\n",
    "        else:\n",
    "            next_fib = self.a\n",
    "            self.a, self.b = self.b, self.a + self.b\n",
    "            return next_fib\n",
    "        \n",
    "#Demonstration\n",
    "max_value = int(input(\"Enter maximum number: \"))\n",
    "fib_numbers = Fibonacci(max_value)\n",
    "\n",
    "#Iterate through fibonacci_numbers and print each number\n",
    "for number in fib_numbers:\n",
    "    print(number)"
   ]
  },
  {
   "cell_type": "code",
   "execution_count": 6,
   "id": "613b1cda",
   "metadata": {},
   "outputs": [
    {
     "name": "stdout",
     "output_type": "stream",
     "text": [
      "Enter maximum number: 5\n",
      "1\n",
      "1\n",
      "2\n",
      "6\n",
      "24\n",
      "120\n"
     ]
    }
   ],
   "source": [
    "class Factorial:\n",
    "    def __init__(self, max_value):\n",
    "        #Initialize with max_value and set start value\n",
    "        self.max_value = max_value\n",
    "        self.current = 0\n",
    "        self.factorial = 1\n",
    "        \n",
    "    def __iter__(self):\n",
    "        #Return self to make this an iterator\n",
    "        return self\n",
    "    \n",
    "    def __next__(self):\n",
    "        #Check if we've exceeded max_value\n",
    "        if self.current > self.max_value:\n",
    "            raise StopIteration\n",
    "            \n",
    "        #For 0th factorial\n",
    "        if self.current == 0:\n",
    "            self.current += 1\n",
    "            return 1\n",
    "        \n",
    "        #Calculate factorial for subsequent values\n",
    "        self.factorial *= self.current\n",
    "        result = self.factorial\n",
    "        self.current += 1\n",
    "        return result\n",
    "    \n",
    "#Demonstration\n",
    "max_value = int(input(\"Enter maximum number: \"))\n",
    "fact_numbers = Factorial(max_value)\n",
    "#Iterate through factorial_numbers and print each value\n",
    "for number in fact_numbers:\n",
    "    print(number)"
   ]
  },
  {
   "cell_type": "code",
   "execution_count": null,
   "id": "4374c369",
   "metadata": {},
   "outputs": [],
   "source": [
    "Generators : Generators in pyhton work like they generate each value only when you needed, which saves memory and helps your\n",
    "program run more efficiently\n",
    "\n",
    "Generators are created using functions that include the yield keyword. The yield keyword is what makes a function a generator. \n",
    "\n",
    "Instead of returning all values at once, it sends back one value and pauses until next value is requested."
   ]
  },
  {
   "cell_type": "code",
   "execution_count": 8,
   "id": "e7f9c115",
   "metadata": {},
   "outputs": [
    {
     "name": "stdout",
     "output_type": "stream",
     "text": [
      "1\n",
      "2\n",
      "3\n"
     ]
    }
   ],
   "source": [
    "#A generator function to count numbers from 1 to 3\n",
    "def count_to_three():\n",
    "    yield 1\n",
    "    yield 2\n",
    "    yield 3\n",
    "    \n",
    "#Using the generator\n",
    "gen = count_to_three()\n",
    "print(next(gen))\n",
    "print(next(gen))\n",
    "print(next(gen))"
   ]
  },
  {
   "cell_type": "code",
   "execution_count": 12,
   "id": "341a9cf5",
   "metadata": {},
   "outputs": [
    {
     "name": "stdout",
     "output_type": "stream",
     "text": [
      "1\n",
      "2\n",
      "3\n",
      "4\n",
      "5\n"
     ]
    }
   ],
   "source": [
    "#Generator expressions : Generator expressions are more memory efficient, because they don't store all values at once\n",
    "\n",
    "#Generator expression to create numbers from 1 to 5\n",
    "gen_exp = (x for x in range(1, 6))\n",
    "\n",
    "#Using the generator\n",
    "print(next(gen_exp))   #1\n",
    "\n",
    "print(next(gen_exp))   #2\n",
    "\n",
    "print(next(gen_exp))   #3\n",
    "\n",
    "print(next(gen_exp))   #4\n",
    "\n",
    "print(next(gen_exp))   #5\n",
    "\n",
    "# print(next(gen_exp))    #StopIteration exception"
   ]
  },
  {
   "cell_type": "code",
   "execution_count": null,
   "id": "e02f0084",
   "metadata": {},
   "outputs": [],
   "source": [
    "Difference between Generators and Normal Functions : Normal functions use return keyword, which sends back a value and ends the\n",
    "function. Generators on the other hand use yield, which sends back a value but pauses the function, allowing it to continue\n",
    "where it left off the next time it is called."
   ]
  },
  {
   "cell_type": "code",
   "execution_count": 14,
   "id": "f5baedbc",
   "metadata": {},
   "outputs": [
    {
     "name": "stdout",
     "output_type": "stream",
     "text": [
      "[1, 2, 3]\n",
      "1\n",
      "2\n",
      "3\n"
     ]
    }
   ],
   "source": [
    "#Normal function that returns a list of numbers\n",
    "def get_numbers():\n",
    "    return [1, 2, 3]\n",
    "\n",
    "#Generator that yields numbers one by one\n",
    "def get_numbers_gen():\n",
    "    yield 1\n",
    "    yield 2\n",
    "    yield 3\n",
    "    \n",
    "#Normal function usage\n",
    "print(get_numbers())\n",
    "\n",
    "#Generator usage\n",
    "gen = get_numbers_gen()\n",
    "print(next(gen))\n",
    "print(next(gen))\n",
    "print(next(gen))"
   ]
  },
  {
   "cell_type": "code",
   "execution_count": 15,
   "id": "2bc3d582",
   "metadata": {},
   "outputs": [
    {
     "name": "stdout",
     "output_type": "stream",
     "text": [
      "1\n"
     ]
    }
   ],
   "source": [
    "#Without generators\n",
    "numbers = [x for x in range(1, 1000001)]\n",
    "print(numbers[0])"
   ]
  },
  {
   "cell_type": "code",
   "execution_count": 16,
   "id": "4eb02c06",
   "metadata": {},
   "outputs": [
    {
     "name": "stdout",
     "output_type": "stream",
     "text": [
      "1\n"
     ]
    }
   ],
   "source": [
    "#Using generators\n",
    "gen_numbers = (x for x in range(1, 1000001))\n",
    "print(next(gen_numbers))"
   ]
  },
  {
   "cell_type": "code",
   "execution_count": 18,
   "id": "0e0e93d4",
   "metadata": {},
   "outputs": [
    {
     "name": "stdout",
     "output_type": "stream",
     "text": [
      "Enter sequnce range: 5\n",
      "1\n",
      "1\n",
      "2\n",
      "6\n",
      "24\n",
      "120\n"
     ]
    }
   ],
   "source": [
    "#Factorial sequence Generator\n",
    "def factorial_generator(max_value):\n",
    "    #Initialize start value and factorial\n",
    "    current = 0\n",
    "    factorial = 1\n",
    "    \n",
    "    #Generate factorial values from 0 to max_value\n",
    "    while current <= max_value:\n",
    "        if current == 0:\n",
    "            yield 1\n",
    "        else:\n",
    "            factorial *= current\n",
    "            yield factorial\n",
    "            \n",
    "        current += 1\n",
    "        \n",
    "#Demonstration\n",
    "max_value = int(input(\"Enter sequnce range: \"))\n",
    "for number in factorial_generator(max_value):\n",
    "    print(number)"
   ]
  },
  {
   "cell_type": "code",
   "execution_count": 19,
   "id": "92887258",
   "metadata": {},
   "outputs": [
    {
     "name": "stdout",
     "output_type": "stream",
     "text": [
      "Enter maximum value: 20\n",
      "2\n",
      "3\n",
      "5\n",
      "7\n",
      "11\n",
      "13\n",
      "17\n",
      "19\n"
     ]
    }
   ],
   "source": [
    "def prime_generator(max_value):\n",
    "    #Function to check if a number is prime\n",
    "    def is_prime(n):\n",
    "        if n<=1:\n",
    "            return False\n",
    "        for i in range(2, int(n**0.5) + 1):\n",
    "            if n%i == 0:\n",
    "                return False\n",
    "        return True\n",
    "    \n",
    "    #Generate prime numbers up to max_value\n",
    "    for num in range(2, max_value + 1):\n",
    "        if is_prime(num):\n",
    "            yield num\n",
    "            \n",
    "#Demonstration\n",
    "max_value = int(input(\"Enter maximum value: \"))\n",
    "for number in prime_generator(max_value):\n",
    "    print(number)"
   ]
  },
  {
   "cell_type": "code",
   "execution_count": 20,
   "id": "57d508c8",
   "metadata": {},
   "outputs": [
    {
     "name": "stdout",
     "output_type": "stream",
     "text": [
      "Enter maximum number: 20\n",
      "1\n",
      "4\n",
      "9\n",
      "16\n"
     ]
    }
   ],
   "source": [
    "def square_numbers_generator(max_value):\n",
    "    #Generate square numbers starting from 1\n",
    "    current = 1\n",
    "    \n",
    "    #Continue yielding squares until the square exceeds max_value\n",
    "    while current**2 <= max_value:\n",
    "        yield current**2\n",
    "        current += 1\n",
    "        \n",
    "#Demonstration\n",
    "max_value = int(input(\"Enter maximum number: \"))\n",
    "for number in square_numbers_generator(max_value):\n",
    "    print(number)"
   ]
  },
  {
   "cell_type": "code",
   "execution_count": null,
   "id": "b8600407",
   "metadata": {},
   "outputs": [],
   "source": [
    "Decorators : A decorator in python is a function that takes another function and adds something extra to it, like adding a layer\n",
    "of frosting. Its like wrapping a function in a package to make it even better. Decorators help you to add features like logging,\n",
    "checking, or timing without rewriting the original function.\n",
    "\n",
    "Decorators are functions that take another function as input, add something extra, and return a new function. In python we use @\n",
    "symbol to add decorators to code."
   ]
  },
  {
   "cell_type": "code",
   "execution_count": 21,
   "id": "2ef85d51",
   "metadata": {},
   "outputs": [
    {
     "name": "stdout",
     "output_type": "stream",
     "text": [
      "Something is about to happen!\n",
      "Hello!\n",
      "Something just happened\n"
     ]
    }
   ],
   "source": [
    "#Define a simple decorator function\n",
    "def my_decorator(func):\n",
    "    def wrapper():\n",
    "        print(\"Something is about to happen!\")\n",
    "        func()\n",
    "        print(\"Something just happened\")\n",
    "    return wrapper\n",
    "\n",
    "#Apply the decorator to a function\n",
    "@my_decorator\n",
    "def say_hello():\n",
    "    print(\"Hello!\")\n",
    "    \n",
    "#Use the decorated function\n",
    "say_hello()"
   ]
  },
  {
   "cell_type": "code",
   "execution_count": 22,
   "id": "fd88efa1",
   "metadata": {},
   "outputs": [
    {
     "name": "stdout",
     "output_type": "stream",
     "text": [
      "This is your profile.\n"
     ]
    }
   ],
   "source": [
    "#Decorators for Authentication\n",
    "\n",
    "#Define a decorator for checking if the user is logged in\n",
    "user_logged_in = True       #A simple flag for the user's status\n",
    "\n",
    "def check_auth(func):\n",
    "    def wrapper():\n",
    "        if user_logged_in:\n",
    "            func()\n",
    "        else:\n",
    "            print(\"Unauthorized: Please log in first.\")\n",
    "    return wrapper\n",
    "\n",
    "#Apply the decorator to a function\n",
    "@check_auth\n",
    "def view_profile():\n",
    "    print(\"This is your profile.\")\n",
    "    \n",
    "#Use the decorated function\n",
    "view_profile()"
   ]
  },
  {
   "cell_type": "code",
   "execution_count": 25,
   "id": "38162251",
   "metadata": {},
   "outputs": [
    {
     "name": "stdout",
     "output_type": "stream",
     "text": [
      "Hello!\n",
      "Hello!\n",
      "Hello!\n"
     ]
    }
   ],
   "source": [
    "#Decorators with arguments\n",
    "#Define a decorator that takes an argument\n",
    "def repeat(num_times):\n",
    "    def decorator(func):\n",
    "        def wrapper():\n",
    "            for _ in range(num_times):\n",
    "                func()\n",
    "        return wrapper\n",
    "    return decorator\n",
    "\n",
    "#Apply the decorator with an argument\n",
    "@repeat(num_times=3)\n",
    "def greet():\n",
    "    print(\"Hello!\")\n",
    "    \n",
    "#Use the decorated function\n",
    "greet()"
   ]
  },
  {
   "cell_type": "code",
   "execution_count": 26,
   "id": "b377e287",
   "metadata": {},
   "outputs": [
    {
     "name": "stdout",
     "output_type": "stream",
     "text": [
      "Authentication successful.\n",
      "Hello, authenticated user!\n"
     ]
    }
   ],
   "source": [
    "user_logged_in = True       #A simple flag for the user's status\n",
    "\n",
    "def check_auth(func):\n",
    "    def wrapper():\n",
    "        if user_logged_in:\n",
    "            func()\n",
    "        else:\n",
    "            print(\"Unauthorized: Please log in first.\")\n",
    "    return wrapper\n",
    "\n",
    "#Apply the decorator to a function\n",
    "@check_auth\n",
    "def view_profile():\n",
    "    print(\"Authentication successful.\")\n",
    "    print(\"Hello, authenticated user!\")\n",
    "    \n",
    "#Use the decorated function\n",
    "view_profile()"
   ]
  },
  {
   "cell_type": "code",
   "execution_count": 27,
   "id": "df9c390b",
   "metadata": {},
   "outputs": [
    {
     "name": "stdout",
     "output_type": "stream",
     "text": [
      "Authentication successful.\n",
      "Hello, authenticated user!\n"
     ]
    }
   ],
   "source": [
    "#Define authentication decorator\n",
    "def auth_decorator(func):\n",
    "    def wrapper():\n",
    "        #Hardcoded username and password\n",
    "        correct_username = \"admin\"\n",
    "        correct_password = \"password\"\n",
    "        \n",
    "        #Hardcoded credentials for authentication check\n",
    "        credentials = (\"admin\", \"password\")\n",
    "        \n",
    "        #Check credentials\n",
    "        if credentials == (correct_username, correct_password):\n",
    "            print(\"Authentication successful.\")\n",
    "            func()\n",
    "        else:\n",
    "            print(\"Authentication failed. Access Denied.\")\n",
    "    return wrapper\n",
    "\n",
    "#Apply the decorator to a sample function\n",
    "@auth_decorator\n",
    "def say_hello():\n",
    "    print(\"Hello, authenticated user!\")\n",
    "    \n",
    "#Use the decorated function\n",
    "say_hello()"
   ]
  },
  {
   "cell_type": "code",
   "execution_count": 29,
   "id": "412590e7",
   "metadata": {},
   "outputs": [
    {
     "name": "stdout",
     "output_type": "stream",
     "text": [
      "Starting function execution...\n",
      "Hello, world!\n",
      "Function execution complete.\n"
     ]
    }
   ],
   "source": [
    "#Define logger decorator\n",
    "def logger_decorator(func):\n",
    "    def wrapper():\n",
    "        \n",
    "        #log start of the function\n",
    "        print(\"Starting function execution...\")\n",
    "        \n",
    "        #Execute the wrapped function\n",
    "        func()\n",
    "        \n",
    "        #Log end of the function\n",
    "        print(\"Function execution complete.\")\n",
    "    return wrapper\n",
    "        \n",
    "#Apply the decorator to a sample function\n",
    "@logger_decorator\n",
    "def say_hello():\n",
    "    print(\"Hello, world!\")\n",
    "    \n",
    "#Use the decorated function\n",
    "say_hello()"
   ]
  },
  {
   "cell_type": "code",
   "execution_count": 30,
   "id": "95614cfe",
   "metadata": {},
   "outputs": [
    {
     "name": "stdout",
     "output_type": "stream",
     "text": [
      "Hello, world!\n",
      "Hello, world!\n",
      "Hello, world!\n"
     ]
    }
   ],
   "source": [
    "#Define the repeat decorator\n",
    "def repeat_decorator(times):\n",
    "    def decorator(func):\n",
    "        def wrapper():\n",
    "            for _ in range(times):\n",
    "                func()\n",
    "        return wrapper\n",
    "    return decorator\n",
    "\n",
    "#Apply the decorator to a sample function\n",
    "@repeat_decorator(3)\n",
    "def say_hello():\n",
    "    print(\"Hello, world!\")\n",
    "    \n",
    "#Use the decorated function\n",
    "say_hello()"
   ]
  },
  {
   "cell_type": "code",
   "execution_count": null,
   "id": "8b6cbeb0",
   "metadata": {},
   "outputs": [],
   "source": [
    "map() : The map() function takes two arguments: a function and an iterable(like a list). It returns a map object, which applies\n",
    "the given function to every item in the iterable. You need to convert it to a list to see the results."
   ]
  },
  {
   "cell_type": "code",
   "execution_count": 31,
   "id": "c04e2e4f",
   "metadata": {},
   "outputs": [
    {
     "name": "stdout",
     "output_type": "stream",
     "text": [
      "[2, 4, 6, 8, 10]\n"
     ]
    }
   ],
   "source": [
    "#Original list of numbers\n",
    "numbers = [1, 2, 3, 4, 5]\n",
    "\n",
    "#Function to double a number\n",
    "def double(x):\n",
    "    return x*2\n",
    "\n",
    "#Use map to apply the function to each element in the list\n",
    "doubled_numbers = list(map(double, numbers))\n",
    "print(doubled_numbers)"
   ]
  },
  {
   "cell_type": "code",
   "execution_count": null,
   "id": "8dd32681",
   "metadata": {},
   "outputs": [],
   "source": [
    "filter() : The filter() selects certain items from a list based on a condition.\n",
    "    \n",
    "The filter() function takes two arguments: a function that returns True or False and an iterable. It keeps only the items for\n",
    "which the function returns True."
   ]
  },
  {
   "cell_type": "code",
   "execution_count": 32,
   "id": "391e07e9",
   "metadata": {},
   "outputs": [
    {
     "name": "stdout",
     "output_type": "stream",
     "text": [
      "[2, 4, 6]\n"
     ]
    }
   ],
   "source": [
    "#Original list of numbers\n",
    "numbers = [1, 2, 3, 4, 5, 6]\n",
    "\n",
    "#Function to check if a number is even\n",
    "def is_even(x):\n",
    "    return x%2 == 0\n",
    "\n",
    "#Use filter to apply the function to each element in the list\n",
    "even_numbers = list(filter(is_even, numbers))\n",
    "\n",
    "print(even_numbers)"
   ]
  },
  {
   "cell_type": "code",
   "execution_count": null,
   "id": "b72bd14c",
   "metadata": {},
   "outputs": [],
   "source": [
    "reduce() : it reduces a list of items to a single value by applying a function\n",
    "    \n",
    "The reduce() function is part of the functools module, so you need to import it first. it isnt built-in like map() or filter()\n",
    "because it is used less frequently, and keeping it in a separate module helps keep python simple. It takes two arguments: a\n",
    "function and an iterable. It applies the function cumulatively to the items in the itarable, so you end up with a single value."
   ]
  },
  {
   "cell_type": "code",
   "execution_count": 33,
   "id": "5eccf94e",
   "metadata": {},
   "outputs": [
    {
     "name": "stdout",
     "output_type": "stream",
     "text": [
      "120\n"
     ]
    }
   ],
   "source": [
    "from functools import reduce\n",
    "\n",
    "#Original list of numbers\n",
    "numbers = [1, 2, 3, 4, 5]\n",
    "\n",
    "#Function to multiply two numbers\n",
    "def multiply(x, y):\n",
    "    return x*y\n",
    "\n",
    "#Use reduce to apply the function cumulatively to the elements in the list\n",
    "total_product = reduce(multiply, numbers)\n",
    "print(total_product)"
   ]
  },
  {
   "cell_type": "code",
   "execution_count": 3,
   "id": "3530b8c0",
   "metadata": {},
   "outputs": [
    {
     "name": "stdout",
     "output_type": "stream",
     "text": [
      "Enter temperatures in Celsius, separated by spaces: 0 20 37 100\n",
      "[32.0, 68.0, 98.6, 212.0]\n"
     ]
    }
   ],
   "source": [
    "#Define the function to convert Celsius to Fahrenheit\n",
    "def celsius_to_fahrenheit(celsius):\n",
    "    return (celsius*9/5) + 32\n",
    "\n",
    "#Take a list of Celsius temperatures as input from the user\n",
    "user_input = input(\"Enter temperatures in Celsius, separated by spaces: \")\n",
    "celsius_temperatures = list(map(float, user_input.split()))\n",
    "\n",
    "#Use the map function to convert Celsius to Fahrenheit\n",
    "fahrenheit_temperatures = list(map(celsius_to_fahrenheit, celsius_temperatures))\n",
    "\n",
    "#Print the resulting list of Fahrenheit temperatures\n",
    "print(fahrenheit_temperatures)"
   ]
  },
  {
   "cell_type": "code",
   "execution_count": 6,
   "id": "42314912",
   "metadata": {},
   "outputs": [
    {
     "name": "stdout",
     "output_type": "stream",
     "text": [
      "Enter the list of strings separated by space: apple banana cherry\n",
      "['APPLE', 'BANANA', 'CHERRY']\n"
     ]
    }
   ],
   "source": [
    "#Define the function to convert a string to uppercase\n",
    "def to_uppercase(string):\n",
    "    return string.upper()\n",
    "\n",
    "#Take a list of strings as input from the user\n",
    "user_input = input(\"Enter the list of strings separated by space: \")\n",
    "user_strings = user_input.split()\n",
    "\n",
    "#Use the map function to convert strings to uppercase\n",
    "uppercase_strings = list(map(to_uppercase, user_strings))\n",
    "\n",
    "#Print the resulting list of uppercase strings\n",
    "print(uppercase_strings)"
   ]
  },
  {
   "cell_type": "code",
   "execution_count": 11,
   "id": "dd89cbf5",
   "metadata": {},
   "outputs": [
    {
     "name": "stdout",
     "output_type": "stream",
     "text": [
      "Enter list of numbers separated by space: 1 2 3 4 5 6\n",
      "[2, 4, 6]\n"
     ]
    }
   ],
   "source": [
    "#Define the function to check if a number is even\n",
    "def is_even(number):\n",
    "    return number%2 == 0\n",
    "\n",
    "#Take a list of integers as input from the user\n",
    "user_input = input(\"Enter list of numbers separated by space: \")\n",
    "user_numbers = list(map(int, user_input.split()))\n",
    "\n",
    "#Use the filter function to extract even numbers\n",
    "even_numbers = list(filter(is_even, user_numbers))\n",
    "\n",
    "#Print the resulting list of even numbers\n",
    "print(even_numbers)"
   ]
  },
  {
   "cell_type": "code",
   "execution_count": 12,
   "id": "8bad4e9b",
   "metadata": {},
   "outputs": [
    {
     "name": "stdout",
     "output_type": "stream",
     "text": [
      "Enter numbers, separated by spaces: 2 3 5 10\n",
      "300\n"
     ]
    }
   ],
   "source": [
    "from functools import reduce\n",
    "\n",
    "#Define the function to multiply two numbers\n",
    "def multiply(x, y):\n",
    "    return x*y\n",
    "\n",
    "#Take a list of integers as input from the user\n",
    "user_input = input(\"Enter numbers, separated by spaces: \")\n",
    "user_numbers = list(map(int, user_input.split()))\n",
    "\n",
    "#Use the reduce function to calculate the product of all numbers\n",
    "total_product = reduce(multiply, user_numbers)\n",
    "\n",
    "#Print the resulting product\n",
    "print(total_product)"
   ]
  },
  {
   "cell_type": "code",
   "execution_count": null,
   "id": "7cb7c1d4",
   "metadata": {},
   "outputs": [],
   "source": [
    "File Handling : File handling lets you store, retrieve, and modify data outside of your program. This is very useful because it\n",
    "allows you to save information permanently, so you can access it even after your program has ended."
   ]
  },
  {
   "cell_type": "code",
   "execution_count": null,
   "id": "8cb47d3c",
   "metadata": {},
   "outputs": [],
   "source": [
    "Opening a File : To work with a file, you first need to open it. Pythons open() function lets you read or write data, just like opening a book. This function takes two main arguments:\n",
    "1. File Name: The name of the file you want to work with.\n",
    "2. Mode : The mode in which you want to open the file.\n",
    "    'r' (Read) : Opens the file for reading.\n",
    "    'w' (Write) : Opens the file for writing (creates if it doest exist).\n",
    "    'a' (Append) : Opens the file and adds to the end.\n",
    "    'r+' (Read and Write) : Opens the file for both reading and writing."
   ]
  },
  {
   "cell_type": "code",
   "execution_count": 21,
   "id": "e503e72f",
   "metadata": {},
   "outputs": [],
   "source": [
    "#Opening a File\n",
    "#open a file named 'exapmle.txt' in read mode\n",
    "file = open('C:\\\\Users\\\\aswin\\\\Downloads\\\\example.txt', 'r')\n",
    "\n",
    "#Remember to close the file once you are done\n",
    "file.close()"
   ]
  },
  {
   "cell_type": "code",
   "execution_count": 23,
   "id": "e296c267",
   "metadata": {},
   "outputs": [
    {
     "name": "stdout",
     "output_type": "stream",
     "text": [
      "Python is an interpreted, object-oriented, high-level programming language with dynamic semantics. Its high-level built in data structures, combined with dynamic typing and dynamic binding, make it very attractive for Rapid Application Development, as well as for use as a scripting or glue language to connect existing components together. Python's simple, easy to learn syntax emphasizes readability and therefore reduces the cost of program maintenance. Python supports modules and packages, which encourages program modularity and code reuse. The Python interpreter and the extensive standard library are available in source or binary form without charge for all major platforms, and can be freely distributed.\n",
      "\n",
      "Often, programmers fall in love with Python because of the increased productivity it provides. Since there is no compilation step, the edit-test-debug cycle is incredibly fast. Debugging Python programs is easy: a bug or bad input will never cause a segmentation fault. Instead, when the interpreter discovers an error, it raises an exception. When the program doesn't catch the exception, the interpreter prints a stack trace. A source level debugger allows inspection of local and global variables, evaluation of arbitrary expressions, setting breakpoints, stepping through the code a line at a time, and so on. The debugger is written in Python itself, testifying to Python's introspective power. On the other hand, often the quickest way to debug a program is to add a few print statements to the source: the fast edit-test-debug cycle makes this simple approach very effective.\n"
     ]
    }
   ],
   "source": [
    "#Reading a File\n",
    "#Open the file in read mode\n",
    "file = open('C:\\\\Users\\\\aswin\\\\Downloads\\\\example.txt', 'r')\n",
    "\n",
    "#Read the entire file content\n",
    "content = file.read()\n",
    "print(content)\n",
    "\n",
    "#Close the file\n",
    "file.close()"
   ]
  },
  {
   "cell_type": "code",
   "execution_count": 2,
   "id": "cdbb3967",
   "metadata": {},
   "outputs": [],
   "source": [
    "#Writing a file\n",
    "#Open the file in write mode\n",
    "file = open('C:\\\\Users\\\\aswin\\\\Downloads\\\\example.txt', 'w')\n",
    "\n",
    "#Write some text to the file\n",
    "file.write(\"Hello, this is a new line in the file!\\n\")\n",
    "\n",
    "#Close the file\n",
    "file.close()"
   ]
  },
  {
   "cell_type": "code",
   "execution_count": 4,
   "id": "11a055a4",
   "metadata": {},
   "outputs": [],
   "source": [
    "#Appending to a file\n",
    "#Open the file in append mode\n",
    "file = open('C:\\\\Users\\\\aswin\\\\Downloads\\\\example.txt', 'a')\n",
    "\n",
    "#Append text to the file\n",
    "file.write(\"This is an extra line added to the file.\\n\")\n",
    "\n",
    "#Close the file\n",
    "file.close()"
   ]
  },
  {
   "cell_type": "code",
   "execution_count": 5,
   "id": "d56ad06e",
   "metadata": {},
   "outputs": [
    {
     "name": "stdout",
     "output_type": "stream",
     "text": [
      "Hello, this is a new line in the file!\n",
      "This is an extra line added to the file.\n",
      "This is an extra line added to the file.\n",
      "\n"
     ]
    }
   ],
   "source": [
    "#Using 'with' to open file\n",
    "with open('C:\\\\Users\\\\aswin\\\\Downloads\\\\example.txt', 'r') as file:\n",
    "    content = file.read()\n",
    "    print(content)"
   ]
  },
  {
   "cell_type": "code",
   "execution_count": 6,
   "id": "e18f4c21",
   "metadata": {},
   "outputs": [
    {
     "name": "stdout",
     "output_type": "stream",
     "text": [
      "now = 2024-12-31 13:19:37.831850\n",
      "date and time = 31/12/2024 13:19:37\n"
     ]
    }
   ],
   "source": [
    "from datetime import datetime\n",
    "\n",
    "# datetime object containing current date and time\n",
    "now = datetime.now()\n",
    " \n",
    "print(\"now =\", now)\n",
    "\n",
    "# dd/mm/YY H:M:S\n",
    "dt_string = now.strftime(\"%d/%m/%Y %H:%M:%S\")\n",
    "print(\"date and time =\", dt_string)"
   ]
  }
 ],
 "metadata": {
  "kernelspec": {
   "display_name": "Python 3 (ipykernel)",
   "language": "python",
   "name": "python3"
  },
  "language_info": {
   "codemirror_mode": {
    "name": "ipython",
    "version": 3
   },
   "file_extension": ".py",
   "mimetype": "text/x-python",
   "name": "python",
   "nbconvert_exporter": "python",
   "pygments_lexer": "ipython3",
   "version": "3.11.4"
  }
 },
 "nbformat": 4,
 "nbformat_minor": 5
}
